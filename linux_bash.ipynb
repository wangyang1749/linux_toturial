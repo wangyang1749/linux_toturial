{
 "cells": [
  {
   "cell_type": "markdown",
   "metadata": {},
   "source": [
    "1. bash变量类型\n",
    "    + 本地变量：作用域仅为当前shell\n",
    "    + 环境变量：作用域当前shell及其子进程\n",
    "    + 局部变量：作用域仅为某代码片段\n",
    "    + 位置参数变量：当前脚本的shell进程传递的参数\n",
    "    + 特殊变量：shell内置的特殊功能变量 eg.$?"
   ]
  },
  {
   "cell_type": "code",
   "execution_count": 3,
   "metadata": {},
   "outputs": [
    {
     "name": "stdout",
     "output_type": "stream",
     "text": [
      "systemd─┬─AliYunDun───23*[{AliYunDun}]\n",
      "        ├─AliYunDunUpdate───3*[{AliYunDunUpdate}]\n",
      "        ├─ModemManager───2*[{ModemManager}]\n",
      "        ├─NetworkManager───2*[{NetworkManager}]\n",
      "        ├─3*[R───2*[{R}]]\n",
      "        ├─R\n",
      "        ├─Xtigervnc───4*[{Xtigervnc}]\n",
      "        ├─accounts-daemon───2*[{accounts-daemon}]\n",
      "        ├─agent───2*[{agent}]\n",
      "        ├─2*[agetty]\n",
      "        ├─aliyun-service───2*[{aliyun-service}]\n",
      "        ├─at-spi-bus-laun─┬─dbus-daemon\n",
      "        │                 └─3*[{at-spi-bus-laun}]\n",
      "        ├─at-spi2-registr───2*[{at-spi2-registr}]\n",
      "        ├─atd\n",
      "        ├─avahi-daemon───avahi-daemon\n",
      "        ├─cat\n",
      "        ├─chronyd───chronyd\n",
      "        ├─cron\n",
      "        ├─3*[dbus-daemon]\n",
      "        ├─2*[dbus-launch]\n",
      "        ├─dconf-service───2*[{dconf-service}]\n",
      "        ├─gnome-terminal-─┬─bash───firefox─┬─Privileged Cont───16*[{Privileged +\n",
      "        │                 │                ├─RDD Process───2*[{RDD Process}]\n",
      "        │                 │                ├─Web Content───22*[{Web Content}]\n",
      "        │                 │                ├─2*[Web Content───16*[{Web Content}+\n",
      "        │                 │                ├─Web Content───14*[{Web Content}]\n",
      "        │                 │                ├─WebExtensions───16*[{WebExtensions+\n",
      "        │                 │                └─53*[{firefox}]\n",
      "        │                 ├─bash───java─┬─java───50*[{java}]\n",
      "        │                 │             └─29*[{java}]\n",
      "        │                 ├─2*[bash]\n",
      "        │                 └─3*[{gnome-terminal-}]\n",
      "        ├─2*[gvfsd───2*[{gvfsd}]]\n",
      "        ├─jupyter-lab─┬─python─┬─bash\n",
      "        │             │        └─7*[{python}]\n",
      "        │             ├─python─┬─bash───pstree\n",
      "        │             │        └─7*[{python}]\n",
      "        │             └─3*[{jupyter-lab}]\n",
      "        ├─networkd-dispat\n",
      "        ├─nginx───2*[nginx]\n",
      "        ├─polkitd───2*[{polkitd}]\n",
      "        ├─python\n",
      "        ├─rsyslogd───3*[{rsyslogd}]\n",
      "        ├─rtkit-daemon───2*[{rtkit-daemon}]\n",
      "        ├─sshd\n",
      "        ├─su───bash───su───bash───tail\n",
      "        ├─switcheroo-cont───2*[{switcheroo-cont}]\n",
      "        ├─systemd───(sd-pam)\n",
      "        ├─systemd-journal\n",
      "        ├─systemd-logind\n",
      "        ├─systemd-network\n",
      "        ├─systemd-resolve\n",
      "        ├─systemd-udevd\n",
      "        ├─tr\n",
      "        ├─udisksd───4*[{udisksd}]\n",
      "        ├─upowerd───2*[{upowerd}]\n",
      "        ├─vncserver───openbox\n",
      "        └─wpa_supplicant\n"
     ]
    }
   ],
   "source": [
    "pstree # 进程树"
   ]
  },
  {
   "cell_type": "code",
   "execution_count": 46,
   "metadata": {},
   "outputs": [
    {
     "name": "stdout",
     "output_type": "stream",
     "text": [
      "yang\n",
      "\u001b[01;31m\u001b[Kfirst_name\u001b[m\u001b[K=yang\n",
      "--------\n"
     ]
    },
    {
     "ename": "",
     "evalue": "1",
     "output_type": "error",
     "traceback": []
    }
   ],
   "source": [
    "# 本地变量\n",
    "first_name=\"yang\"\n",
    "echo $first_name\n",
    "set | grep \"first_name\" # 查看本地变量\n",
    "unset first_name # 撤销本地变量\n",
    "echo \"--------\"\n",
    "set | grep \"first_name\""
   ]
  },
  {
   "cell_type": "code",
   "execution_count": 49,
   "metadata": {},
   "outputs": [
    {
     "name": "stdout",
     "output_type": "stream",
     "text": [
      "zhangsan\n",
      "declare -x \u001b[01;31m\u001b[Kname2\u001b[m\u001b[K=\"zhangsan\"\n"
     ]
    },
    {
     "ename": "",
     "evalue": "1",
     "output_type": "error",
     "traceback": []
    }
   ],
   "source": [
    "# 环境变量\n",
    "export name2=\"zhangsan\"\n",
    "echo $name2\n",
    "\n",
    "name3=\"lisi\"\n",
    "export name3\n",
    "\n",
    "declare -x name4=\"wangwu\"\n",
    "export | grep \"name2\" # 查看环境变量 env,printenv,\n",
    "unset name2\n",
    "export | grep \"name2\""
   ]
  },
  {
   "cell_type": "code",
   "execution_count": 50,
   "metadata": {},
   "outputs": [
    {
     "name": "stdout",
     "output_type": "stream",
     "text": [
      "/bin/bash\n",
      "/root/linux_tutorial\n",
      "/usr/bin\n"
     ]
    }
   ],
   "source": [
    "# 内置环境变量\n",
    "echo $SHELL\n",
    "echo $PWD\n",
    "echo $OLDPWD"
   ]
  },
  {
   "cell_type": "code",
   "execution_count": 56,
   "metadata": {},
   "outputs": [
    {
     "name": "stdout",
     "output_type": "stream",
     "text": [
      "bash: name5: readonly variable\n",
      "wukong\n",
      "bash: name5: readonly variable\n",
      "bash: unset: name5: cannot unset: readonly variable\n"
     ]
    },
    {
     "ename": "",
     "evalue": "1",
     "output_type": "error",
     "traceback": []
    }
   ],
   "source": [
    "# 只读变量\n",
    "name5=\"wukong\"\n",
    "declare -r name5 # readonly name5\n",
    "echo $name5\n",
    "name5=\"bajie\"\n",
    "unset name5 # 只读变量无法撤销，存活时间为shell进程的生命周期"
   ]
  },
  {
   "cell_type": "code",
   "execution_count": 62,
   "metadata": {},
   "outputs": [
    {
     "name": "stdout",
     "output_type": "stream",
     "text": [
      "\n",
      "Command 'lsa' not found, but there are 18 similar ones.\n",
      "\n",
      "\u001b[0m\u001b[01;34mdata\u001b[0m              linux_basic.ipynb       \u001b[01;35mprj.png\u001b[0m\n",
      "\u001b[01;34mlearn_case\u001b[0m        linux_network.ipynb     r_basic.ipynb\n",
      "linux_bash.ipynb  linux_user_group.ipynb  r_data_object.ipynb\n"
     ]
    }
   ],
   "source": [
    "# 多命令执行\n",
    "# CMMMAND1; COMMAND2;C COMMAND3;...\n",
    "# COMMAND1 && COMMAND2 第一个命令失败，后面命令不执行\n",
    "lsa && ll\n",
    "# COMMAND1 || COMMAND2 第一个为真第二个不运行\n",
    "ls || ll"
   ]
  }
 ],
 "metadata": {
  "kernelspec": {
   "display_name": "Bash",
   "language": "bash",
   "name": "bash"
  },
  "language_info": {
   "codemirror_mode": "shell",
   "file_extension": ".sh",
   "mimetype": "text/x-sh",
   "name": "bash"
  }
 },
 "nbformat": 4,
 "nbformat_minor": 4
}
