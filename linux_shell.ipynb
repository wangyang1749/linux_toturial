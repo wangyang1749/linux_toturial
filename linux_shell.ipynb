{
 "cells": [
  {
   "cell_type": "markdown",
   "metadata": {},
   "source": [
    "1. bash变量类型\n",
    "    + 本地变量：作用域仅为当前shell\n",
    "    + 环境变量：作用域当前shell及其子进程\n",
    "    + 局部变量：作用域仅为某代码片段\n",
    "    + 位置参数变量：当前脚本的shell进程传递的参数\n",
    "    + 特殊变量：shell内置的特殊功能变量 eg.$?\n",
    "2. bash配置文件\n",
    "    + profile 为交互式登录的shell进程提供配置\n",
    "        + 通过终端输入账号登录\n",
    "        + 使用su -\n",
    "        + 全局：对所有用户有效`/etc/profile` `/etc/profile.d/*sh`\n",
    "        + 用户个人：.bash_profile\n",
    "        + 功能：\n",
    "            + 用于定义环境变量\n",
    "            + 运行命令或脚本\n",
    "    + bashrc \n",
    "        + 使用su\n",
    "        + 图形界面\n",
    "        + 运行脚本\n",
    "        + 全局：`/etc/bashrc`\n",
    "        + 用户个人：`.bashrc`\n",
    "            + 功能：\n",
    "                + 定力本地变量\n",
    "                + 定义命令别名\n",
    "    + 读取次序：\n",
    "        + 交互式读取：`/etc/profile` -> `/etc/profile.d/*` -> `~/.bash_profile` -> `~/.bashrc` -> `/etc/.bashrc`\n",
    "        + 非交互式：`~/.bashrc` -> `/etc/bashrc` -> `/etc/profile.d/*`\n",
    "    + shell重新读取配置文件：`source xxx` `./xx`    "
   ]
  },
  {
   "cell_type": "code",
   "execution_count": 91,
   "metadata": {},
   "outputs": [
    {
     "name": "stdout",
     "output_type": "stream",
     "text": [
      "/etc/profile\n",
      "01-locale-fix.sh       im-config_wayland.sh  xdg_dirs_desktop_session.sh\n",
      "bash_completion.sh     vte-2.91.sh\n",
      "cedilla-portuguese.sh  vte.csh\n",
      "ls: cannot access '/etc/bashrc': No such file or directory\n",
      "/root/.bashrc\n"
     ]
    }
   ],
   "source": [
    "ls /etc/profile\n",
    "ls /etc/profile.d\n",
    "ls /etc/bashrc\n",
    "ls ~/.bashrc"
   ]
  },
  {
   "cell_type": "code",
   "execution_count": 3,
   "metadata": {},
   "outputs": [
    {
     "name": "stdout",
     "output_type": "stream",
     "text": [
      "systemd─┬─AliYunDun───23*[{AliYunDun}]\n",
      "        ├─AliYunDunUpdate───3*[{AliYunDunUpdate}]\n",
      "        ├─ModemManager───2*[{ModemManager}]\n",
      "        ├─NetworkManager───2*[{NetworkManager}]\n",
      "        ├─3*[R───2*[{R}]]\n",
      "        ├─R\n",
      "        ├─Xtigervnc───4*[{Xtigervnc}]\n",
      "        ├─accounts-daemon───2*[{accounts-daemon}]\n",
      "        ├─agent───2*[{agent}]\n",
      "        ├─2*[agetty]\n",
      "        ├─aliyun-service───2*[{aliyun-service}]\n",
      "        ├─at-spi-bus-laun─┬─dbus-daemon\n",
      "        │                 └─3*[{at-spi-bus-laun}]\n",
      "        ├─at-spi2-registr───2*[{at-spi2-registr}]\n",
      "        ├─atd\n",
      "        ├─avahi-daemon───avahi-daemon\n",
      "        ├─cat\n",
      "        ├─chronyd───chronyd\n",
      "        ├─cron\n",
      "        ├─3*[dbus-daemon]\n",
      "        ├─2*[dbus-launch]\n",
      "        ├─dconf-service───2*[{dconf-service}]\n",
      "        ├─gnome-terminal-─┬─bash───firefox─┬─Privileged Cont───16*[{Privileged +\n",
      "        │                 │                ├─RDD Process───2*[{RDD Process}]\n",
      "        │                 │                ├─Web Content───22*[{Web Content}]\n",
      "        │                 │                ├─2*[Web Content───16*[{Web Content}+\n",
      "        │                 │                ├─Web Content───14*[{Web Content}]\n",
      "        │                 │                ├─WebExtensions───16*[{WebExtensions+\n",
      "        │                 │                └─53*[{firefox}]\n",
      "        │                 ├─bash───java─┬─java───50*[{java}]\n",
      "        │                 │             └─29*[{java}]\n",
      "        │                 ├─2*[bash]\n",
      "        │                 └─3*[{gnome-terminal-}]\n",
      "        ├─2*[gvfsd───2*[{gvfsd}]]\n",
      "        ├─jupyter-lab─┬─python─┬─bash\n",
      "        │             │        └─7*[{python}]\n",
      "        │             ├─python─┬─bash───pstree\n",
      "        │             │        └─7*[{python}]\n",
      "        │             └─3*[{jupyter-lab}]\n",
      "        ├─networkd-dispat\n",
      "        ├─nginx───2*[nginx]\n",
      "        ├─polkitd───2*[{polkitd}]\n",
      "        ├─python\n",
      "        ├─rsyslogd───3*[{rsyslogd}]\n",
      "        ├─rtkit-daemon───2*[{rtkit-daemon}]\n",
      "        ├─sshd\n",
      "        ├─su───bash───su───bash───tail\n",
      "        ├─switcheroo-cont───2*[{switcheroo-cont}]\n",
      "        ├─systemd───(sd-pam)\n",
      "        ├─systemd-journal\n",
      "        ├─systemd-logind\n",
      "        ├─systemd-network\n",
      "        ├─systemd-resolve\n",
      "        ├─systemd-udevd\n",
      "        ├─tr\n",
      "        ├─udisksd───4*[{udisksd}]\n",
      "        ├─upowerd───2*[{upowerd}]\n",
      "        ├─vncserver───openbox\n",
      "        └─wpa_supplicant\n"
     ]
    }
   ],
   "source": [
    "pstree # 进程树"
   ]
  },
  {
   "cell_type": "code",
   "execution_count": 46,
   "metadata": {},
   "outputs": [
    {
     "name": "stdout",
     "output_type": "stream",
     "text": [
      "yang\n",
      "\u001b[01;31m\u001b[Kfirst_name\u001b[m\u001b[K=yang\n",
      "--------\n"
     ]
    },
    {
     "ename": "",
     "evalue": "1",
     "output_type": "error",
     "traceback": []
    }
   ],
   "source": [
    "# 本地变量\n",
    "first_name=\"yang\"\n",
    "echo $first_name\n",
    "set | grep \"first_name\" # 查看本地变量\n",
    "unset first_name # 撤销本地变量\n",
    "echo \"--------\"\n",
    "set | grep \"first_name\""
   ]
  },
  {
   "cell_type": "code",
   "execution_count": 49,
   "metadata": {},
   "outputs": [
    {
     "name": "stdout",
     "output_type": "stream",
     "text": [
      "zhangsan\n",
      "declare -x \u001b[01;31m\u001b[Kname2\u001b[m\u001b[K=\"zhangsan\"\n"
     ]
    },
    {
     "ename": "",
     "evalue": "1",
     "output_type": "error",
     "traceback": []
    }
   ],
   "source": [
    "# 环境变量\n",
    "export name2=\"zhangsan\"\n",
    "echo $name2\n",
    "\n",
    "name3=\"lisi\"\n",
    "export name3\n",
    "\n",
    "declare -x name4=\"wangwu\"\n",
    "export | grep \"name2\" # 查看环境变量 env,printenv,\n",
    "unset name2\n",
    "export | grep \"name2\""
   ]
  },
  {
   "cell_type": "code",
   "execution_count": 50,
   "metadata": {},
   "outputs": [
    {
     "name": "stdout",
     "output_type": "stream",
     "text": [
      "/bin/bash\n",
      "/root/linux_tutorial\n",
      "/usr/bin\n"
     ]
    }
   ],
   "source": [
    "# 内置环境变量\n",
    "echo $SHELL\n",
    "echo $PWD\n",
    "echo $OLDPWD"
   ]
  },
  {
   "cell_type": "code",
   "execution_count": 56,
   "metadata": {},
   "outputs": [
    {
     "name": "stdout",
     "output_type": "stream",
     "text": [
      "bash: name5: readonly variable\n",
      "wukong\n",
      "bash: name5: readonly variable\n",
      "bash: unset: name5: cannot unset: readonly variable\n"
     ]
    },
    {
     "ename": "",
     "evalue": "1",
     "output_type": "error",
     "traceback": []
    }
   ],
   "source": [
    "# 只读变量\n",
    "name5=\"wukong\"\n",
    "declare -r name5 # readonly name5\n",
    "echo $name5\n",
    "name5=\"bajie\"\n",
    "unset name5 # 只读变量无法撤销，存活时间为shell进程的生命周期"
   ]
  },
  {
   "cell_type": "code",
   "execution_count": 63,
   "metadata": {},
   "outputs": [
    {
     "name": "stdout",
     "output_type": "stream",
     "text": [
      "\n",
      "Command 'lsa' not found, but there are 18 similar ones.\n",
      "\n",
      "\u001b[0m\u001b[01;34mdata\u001b[0m        linux_bash.ipynb   linux_network.ipynb     r_basic.ipynb\n",
      "\u001b[01;34mlearn_case\u001b[0m  linux_basic.ipynb  linux_user_group.ipynb  r_data_object.ipynb\n"
     ]
    }
   ],
   "source": [
    "# 多命令执行\n",
    "# CMMMAND1; COMMAND2;C COMMAND3;...\n",
    "# COMMAND1 && COMMAND2 第一个命令失败，后面命令不执行\n",
    "lsa && ll\n",
    "# COMMAND1 || COMMAND2 第一个为真第二个不运行\n",
    "ls || ll"
   ]
  },
  {
   "cell_type": "code",
   "execution_count": 77,
   "metadata": {},
   "outputs": [
    {
     "name": "stdout",
     "output_type": "stream",
     "text": [
      "passwd: unrecognized option '--stdin'\n",
      "Usage: passwd [options] [LOGIN]\n",
      "\n",
      "Options:\n",
      "  -a, --all                     report password status on all accounts\n",
      "  -d, --delete                  delete the password for the named account\n",
      "  -e, --expire                  force expire the password for the named account\n",
      "  -h, --help                    display this help message and exit\n",
      "  -k, --keep-tokens             change password only if expired\n",
      "  -i, --inactive INACTIVE       set password inactive after expiration\n",
      "                                to INACTIVE\n",
      "  -l, --lock                    lock the password of the named account\n",
      "  -n, --mindays MIN_DAYS        set minimum number of days before password\n",
      "                                change to MIN_DAYS\n",
      "  -q, --quiet                   quiet mode\n",
      "  -r, --repository REPOSITORY   change password in REPOSITORY repository\n",
      "  -R, --root CHROOT_DIR         directory to chroot into\n",
      "  -S, --status                  report password status on the named account\n",
      "  -u, --unlock                  unlock the password of the named account\n",
      "  -w, --warndays WARN_DAYS      set expiration warning days to WARN_DAYS\n",
      "  -x, --maxdays MAX_DAYS        set maximum number of days before password\n",
      "                                change to MAX_DAYS\n",
      "\n"
     ]
    }
   ],
   "source": [
    "useradd user3\n",
    "echo  \"user3\" | passwd --stdin user3\n",
    "userdel user3"
   ]
  },
  {
   "cell_type": "code",
   "execution_count": 84,
   "metadata": {},
   "outputs": [
    {
     "name": "stdout",
     "output_type": "stream",
     "text": [
      "uid=1001(user3) gid=1002(user3) groups=1002(user3)\n"
     ]
    }
   ],
   "source": [
    "id  user3 || useradd user3"
   ]
  },
  {
   "cell_type": "code",
   "execution_count": 3,
   "metadata": {},
   "outputs": [
    {
     "name": "stdout",
     "output_type": "stream",
     "text": [
      "2005\n",
      "9\n"
     ]
    }
   ],
   "source": [
    "#!/bin/bash\n",
    "# description:\n",
    "# version\n",
    "# author: sky <@>\n",
    "# date:\n",
    "id user1 &> /dev/null || useradd user1\n",
    "id user2 &> /dev/null || useradd user2\n",
    "\n",
    "user1_id=$(id -u user1)\n",
    "user2_id=$(id -u user2)\n",
    "\n",
    "echo $[$user1_id+$user2_id]\n",
    "\n",
    "\n",
    "echo $(head -10 /etc/passwd | tail -1 | cut -d: -f3)\n",
    "\n",
    "# echo $(grep /etc/passwd | wc -l）"
   ]
  },
  {
   "cell_type": "markdown",
   "metadata": {},
   "source": [
    "### 条件测试\n",
    "1. 实现\n",
    "    + 执行命令\n",
    "        + `who | grep \"^root\\>\"`\n",
    "    + 测试表达式\n",
    "        + `test EXPRESSION`\n",
    "        + `[EXPRESSION]`\n",
    "        + `[[EXPRESSION]]`\n",
    "2. bash的测试类型\n",
    "    + 数值测试\n",
    "        + `-eq`: `[ $num2 -eq $num2 ]`\n",
    "        + `-ne`\n",
    "        + `-gt`\n",
    "        + `-ge`\n",
    "        + `-lt`\n",
    "        + `-le`\n",
    "    + 字符测试\n",
    "        + `==`\n",
    "        + `>`\n",
    "        + `<`\n",
    "        + `!=`\n",
    "        + `[[ \"tom\" == \"$name\" ]]`\n",
    "        + `=~`:[[ \"$name\" =~ o.* ]]\n",
    "        + -z\"$name\":判断字符串是否为空\n",
    "        + `-n\"$name\"`\n",
    "    + 文件测试\n",
    "        + `-a File` `-e File`\n",
    "        + `-b`\n",
    "        + `-c`\n",
    "        + `-d`\n",
    "        + `-f`\n",
    "        + `-h`\n",
    "        + `-p`\n",
    "        + `-S`:是否存在为套接字文件\n",
    "3. `exit [n]` 自定义脚本返回值"
   ]
  },
  {
   "cell_type": "code",
   "execution_count": 20,
   "metadata": {},
   "outputs": [
    {
     "name": "stdout",
     "output_type": "stream",
     "text": [
      "1\n"
     ]
    },
    {
     "ename": "",
     "evalue": "1",
     "output_type": "error",
     "traceback": []
    }
   ],
   "source": [
    "who | grep \"^root\\>\"\n",
    "echo $?\n",
    "[ -b /dev/sda ]"
   ]
  },
  {
   "cell_type": "markdown",
   "metadata": {},
   "source": [
    "### 向脚本传递参数\n",
    "1. 位置参数\n",
    "    + `$1,$2,...,${10},..`\n",
    "    + `shift`:轮替"
   ]
  },
  {
   "cell_type": "code",
   "execution_count": 28,
   "metadata": {},
   "outputs": [
    {
     "name": "stdout",
     "output_type": "stream",
     "text": [
      "\n"
     ]
    }
   ],
   "source": [
    "file1_lines=$(grep \"^$\" /etc/passwd | wc -l)\n",
    "echo $fil1_lines"
   ]
  },
  {
   "cell_type": "markdown",
   "metadata": {},
   "source": [
    "### 特殊变量\n",
    "1. `$0` 脚本文件路径本身\n",
    "2. `$#` 参数的个数\n",
    "3. `$*` 所以参数\n",
    "4. `$@`"
   ]
  },
  {
   "cell_type": "code",
   "execution_count": 38,
   "metadata": {},
   "outputs": [
    {
     "name": "stdout",
     "output_type": "stream",
     "text": [
      "/usr/bin/bash\n",
      "bash\n",
      "0\n",
      "\n"
     ]
    }
   ],
   "source": [
    "echo $0\n",
    "basename $0 # 取脚本文件基名\n",
    "echo $# # 参数个数\n",
    "echo $*"
   ]
  },
  {
   "cell_type": "markdown",
   "metadata": {},
   "source": [
    "### 逻辑\n",
    "```\n",
    "if <condition>\n",
    "then\n",
    "    <code>\n",
    "fi\n",
    "```\n",
    "\n",
    "```\n",
    "if <condition>;then\n",
    "    <code>\n",
    "fi\n",
    "```\n",
    "\n",
    "```\n",
    "if <condition>; then\n",
    "    code1\n",
    "else \n",
    "    code2\n",
    "fi\n",
    "```"
   ]
  },
  {
   "cell_type": "code",
   "execution_count": 71,
   "metadata": {},
   "outputs": [],
   "source": [
    "user_name=\"user1\"\n",
    "if ! grep \"^$user_name\\>\" /etc/passwd &> /dev/null; then\n",
    "    useradd $user_name\n",
    "    echo `id $user_name`\n",
    "fi"
   ]
  },
  {
   "cell_type": "code",
   "execution_count": 75,
   "metadata": {},
   "outputs": [
    {
     "name": "stdout",
     "output_type": "stream",
     "text": [
      "user1 exists!\n"
     ]
    }
   ],
   "source": [
    "user_name=\"user1\"\n",
    "if  grep \"^$user_name\\>\" /etc/passwd &> /dev/null\n",
    "then\n",
    "    echo \"$user_name exists!\"\n",
    "else\n",
    "    useradd $user_name\n",
    "    echo `id $user_name`\n",
    "fi"
   ]
  },
  {
   "cell_type": "code",
   "execution_count": null,
   "metadata": {},
   "outputs": [],
   "source": []
  }
 ],
 "metadata": {
  "kernelspec": {
   "display_name": "Bash",
   "language": "bash",
   "name": "bash"
  },
  "language_info": {
   "codemirror_mode": "shell",
   "file_extension": ".sh",
   "mimetype": "text/x-sh",
   "name": "bash"
  }
 },
 "nbformat": 4,
 "nbformat_minor": 4
}
