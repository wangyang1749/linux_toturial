{
 "cells": [
  {
   "cell_type": "markdown",
   "metadata": {},
   "source": [
    "## R语言数据对象\n",
    "1. 向量\n",
    "2. 因子\n",
    "3. 矩阵\n",
    "4. 数组\n",
    "5. 列表\n",
    "6. 数据框"
   ]
  },
  {
   "cell_type": "markdown",
   "metadata": {},
   "source": [
    "----\n",
    "### 向量 Vector"
   ]
  },
  {
   "cell_type": "code",
   "execution_count": 74,
   "metadata": {},
   "outputs": [
    {
     "data": {
      "text/html": [
       "<style>\n",
       ".list-inline {list-style: none; margin:0; padding: 0}\n",
       ".list-inline>li {display: inline-block}\n",
       ".list-inline>li:not(:last-child)::after {content: \"\\00b7\"; padding: 0 .5ex}\n",
       "</style>\n",
       "<ol class=list-inline><li>1</li><li>3</li><li>5</li><li>7</li><li>9</li></ol>\n"
      ],
      "text/latex": [
       "\\begin{enumerate*}\n",
       "\\item 1\n",
       "\\item 3\n",
       "\\item 5\n",
       "\\item 7\n",
       "\\item 9\n",
       "\\end{enumerate*}\n"
      ],
      "text/markdown": [
       "1. 1\n",
       "2. 3\n",
       "3. 5\n",
       "4. 7\n",
       "5. 9\n",
       "\n",
       "\n"
      ],
      "text/plain": [
       "[1] 1 3 5 7 9"
      ]
     },
     "metadata": {},
     "output_type": "display_data"
    },
    {
     "data": {
      "text/html": [
       "<style>\n",
       ".list-inline {list-style: none; margin:0; padding: 0}\n",
       ".list-inline>li {display: inline-block}\n",
       ".list-inline>li:not(:last-child)::after {content: \"\\00b7\"; padding: 0 .5ex}\n",
       "</style>\n",
       "<ol class=list-inline><li>'a'</li><li>'a'</li><li>'a'</li><li>'a'</li><li>'a'</li><li>'a'</li><li>'a'</li><li>'a'</li><li>'a'</li><li>'a'</li></ol>\n"
      ],
      "text/latex": [
       "\\begin{enumerate*}\n",
       "\\item 'a'\n",
       "\\item 'a'\n",
       "\\item 'a'\n",
       "\\item 'a'\n",
       "\\item 'a'\n",
       "\\item 'a'\n",
       "\\item 'a'\n",
       "\\item 'a'\n",
       "\\item 'a'\n",
       "\\item 'a'\n",
       "\\end{enumerate*}\n"
      ],
      "text/markdown": [
       "1. 'a'\n",
       "2. 'a'\n",
       "3. 'a'\n",
       "4. 'a'\n",
       "5. 'a'\n",
       "6. 'a'\n",
       "7. 'a'\n",
       "8. 'a'\n",
       "9. 'a'\n",
       "10. 'a'\n",
       "\n",
       "\n"
      ],
      "text/plain": [
       " [1] \"a\" \"a\" \"a\" \"a\" \"a\" \"a\" \"a\" \"a\" \"a\" \"a\""
      ]
     },
     "metadata": {},
     "output_type": "display_data"
    },
    {
     "data": {
      "text/html": [
       "<style>\n",
       ".list-inline {list-style: none; margin:0; padding: 0}\n",
       ".list-inline>li {display: inline-block}\n",
       ".list-inline>li:not(:last-child)::after {content: \"\\00b7\"; padding: 0 .5ex}\n",
       "</style>\n",
       "<ol class=list-inline><li>'a'</li><li>'a'</li><li>'b'</li><li>'b'</li><li>'b'</li></ol>\n"
      ],
      "text/latex": [
       "\\begin{enumerate*}\n",
       "\\item 'a'\n",
       "\\item 'a'\n",
       "\\item 'b'\n",
       "\\item 'b'\n",
       "\\item 'b'\n",
       "\\end{enumerate*}\n"
      ],
      "text/markdown": [
       "1. 'a'\n",
       "2. 'a'\n",
       "3. 'b'\n",
       "4. 'b'\n",
       "5. 'b'\n",
       "\n",
       "\n"
      ],
      "text/plain": [
       "[1] \"a\" \"a\" \"b\" \"b\" \"b\""
      ]
     },
     "metadata": {},
     "output_type": "display_data"
    },
    {
     "data": {
      "text/html": [
       "<style>\n",
       ".list-inline {list-style: none; margin:0; padding: 0}\n",
       ".list-inline>li {display: inline-block}\n",
       ".list-inline>li:not(:last-child)::after {content: \"\\00b7\"; padding: 0 .5ex}\n",
       "</style>\n",
       "<ol class=list-inline><li>2</li><li>9</li><li>5</li><li>8</li><li>6</li><li>7</li><li>1</li><li>4</li><li>3</li><li>10</li></ol>\n"
      ],
      "text/latex": [
       "\\begin{enumerate*}\n",
       "\\item 2\n",
       "\\item 9\n",
       "\\item 5\n",
       "\\item 8\n",
       "\\item 6\n",
       "\\item 7\n",
       "\\item 1\n",
       "\\item 4\n",
       "\\item 3\n",
       "\\item 10\n",
       "\\end{enumerate*}\n"
      ],
      "text/markdown": [
       "1. 2\n",
       "2. 9\n",
       "3. 5\n",
       "4. 8\n",
       "5. 6\n",
       "6. 7\n",
       "7. 1\n",
       "8. 4\n",
       "9. 3\n",
       "10. 10\n",
       "\n",
       "\n"
      ],
      "text/plain": [
       " [1]  2  9  5  8  6  7  1  4  3 10"
      ]
     },
     "metadata": {},
     "output_type": "display_data"
    },
    {
     "data": {
      "text/html": [
       "<style>\n",
       ".list-inline {list-style: none; margin:0; padding: 0}\n",
       ".list-inline>li {display: inline-block}\n",
       ".list-inline>li:not(:last-child)::after {content: \"\\00b7\"; padding: 0 .5ex}\n",
       "</style>\n",
       "<ol class=list-inline><li>'c'</li><li>'a'</li><li>'b'</li></ol>\n"
      ],
      "text/latex": [
       "\\begin{enumerate*}\n",
       "\\item 'c'\n",
       "\\item 'a'\n",
       "\\item 'b'\n",
       "\\end{enumerate*}\n"
      ],
      "text/markdown": [
       "1. 'c'\n",
       "2. 'a'\n",
       "3. 'b'\n",
       "\n",
       "\n"
      ],
      "text/plain": [
       "[1] \"c\" \"a\" \"b\""
      ]
     },
     "metadata": {},
     "output_type": "display_data"
    },
    {
     "data": {
      "text/html": [
       "<style>\n",
       ".list-inline {list-style: none; margin:0; padding: 0}\n",
       ".list-inline>li {display: inline-block}\n",
       ".list-inline>li:not(:last-child)::after {content: \"\\00b7\"; padding: 0 .5ex}\n",
       "</style>\n",
       "<ol class=list-inline><li>7</li><li>6</li><li>8</li><li>1</li><li>10</li><li>4</li><li>2</li><li>5</li><li>9</li><li>3</li></ol>\n"
      ],
      "text/latex": [
       "\\begin{enumerate*}\n",
       "\\item 7\n",
       "\\item 6\n",
       "\\item 8\n",
       "\\item 1\n",
       "\\item 10\n",
       "\\item 4\n",
       "\\item 2\n",
       "\\item 5\n",
       "\\item 9\n",
       "\\item 3\n",
       "\\end{enumerate*}\n"
      ],
      "text/markdown": [
       "1. 7\n",
       "2. 6\n",
       "3. 8\n",
       "4. 1\n",
       "5. 10\n",
       "6. 4\n",
       "7. 2\n",
       "8. 5\n",
       "9. 9\n",
       "10. 3\n",
       "\n",
       "\n"
      ],
      "text/plain": [
       " [1]  7  6  8  1 10  4  2  5  9  3"
      ]
     },
     "metadata": {},
     "output_type": "display_data"
    },
    {
     "data": {
      "text/html": [
       "<style>\n",
       ".list-inline {list-style: none; margin:0; padding: 0}\n",
       ".list-inline>li {display: inline-block}\n",
       ".list-inline>li:not(:last-child)::after {content: \"\\00b7\"; padding: 0 .5ex}\n",
       "</style>\n",
       "<ol class=list-inline><li>56</li><li>72</li><li>42</li><li>80</li><li>29</li></ol>\n"
      ],
      "text/latex": [
       "\\begin{enumerate*}\n",
       "\\item 56\n",
       "\\item 72\n",
       "\\item 42\n",
       "\\item 80\n",
       "\\item 29\n",
       "\\end{enumerate*}\n"
      ],
      "text/markdown": [
       "1. 56\n",
       "2. 72\n",
       "3. 42\n",
       "4. 80\n",
       "5. 29\n",
       "\n",
       "\n"
      ],
      "text/plain": [
       "[1] 56 72 42 80 29"
      ]
     },
     "metadata": {},
     "output_type": "display_data"
    },
    {
     "data": {
      "text/html": [
       "0.3679011"
      ],
      "text/latex": [
       "0.3679011"
      ],
      "text/markdown": [
       "0.3679011"
      ],
      "text/plain": [
       "[1] 0.3679011"
      ]
     },
     "metadata": {},
     "output_type": "display_data"
    }
   ],
   "source": [
    "#seq(from = as.Date(2012-9-3),to = as.Date(2013-1-6),by=\"weeks\")\n",
    "seq(1,10,by=2)\n",
    "rep(\"a\",10)\n",
    "rep(c('a','b'),c(2,3))\n",
    "#rep(letters,1:26)\n",
    "#rnorm(100) #标准正态分布\n",
    "#rnorm(100,2,1) # 均值为2，标准差为1的正态分布\n",
    "\n",
    "sample(10)\n",
    "sample(c('a','b','c'))\n",
    "set.seed(2020)\n",
    "sample(10)\n",
    "\n",
    "replicate(5,{\n",
    "    sample(1:100,1,replace=T)\n",
    "}) # 从1到100又放回抽样5次\n",
    "\n",
    "\n",
    "\n",
    "a <- numeric(1000)\n",
    "b <- sapply(a,function(i){\n",
    "    re_sample <- sample(10000,10000,replace=T)\n",
    "    unique_re_sample <- unique(re_sample)\n",
    "    a[i] <- length(unique_re_sample)\n",
    "})\n",
    "1 - mean(b)/10000\n"
   ]
  },
  {
   "cell_type": "code",
   "execution_count": 95,
   "metadata": {},
   "outputs": [
    {
     "data": {
      "text/html": [
       "'numeric'"
      ],
      "text/latex": [
       "'numeric'"
      ],
      "text/markdown": [
       "'numeric'"
      ],
      "text/plain": [
       "[1] \"numeric\""
      ]
     },
     "metadata": {},
     "output_type": "display_data"
    },
    {
     "data": {
      "text/html": [
       "<style>\n",
       ".dl-inline {width: auto; margin:0; padding: 0}\n",
       ".dl-inline>dt, .dl-inline>dd {float: none; width: auto; display: inline-block}\n",
       ".dl-inline>dt::after {content: \":\\0020\"; padding-right: .5ex}\n",
       ".dl-inline>dt:not(:first-of-type) {padding-left: .5ex}\n",
       "</style><dl class=dl-inline><dt>周黎</dt><dd>94</dd><dt>汤海明</dt><dd>95</dd><dt>舒江辉</dt><dd>84</dd><dt>翁柯</dt><dd>87</dd><dt>祁强</dt><dd>90</dd><dt>湛容</dt><dd>89</dd></dl>\n"
      ],
      "text/latex": [
       "\\begin{description*}\n",
       "\\item[周黎] 94\n",
       "\\item[汤海明] 95\n",
       "\\item[舒江辉] 84\n",
       "\\item[翁柯] 87\n",
       "\\item[祁强] 90\n",
       "\\item[湛容] 89\n",
       "\\end{description*}\n"
      ],
      "text/markdown": [
       "周黎\n",
       ":   94汤海明\n",
       ":   95舒江辉\n",
       ":   84翁柯\n",
       ":   87祁强\n",
       ":   90湛容\n",
       ":   89\n",
       "\n"
      ],
      "text/plain": [
       "  周黎 汤海明 舒江辉   翁柯   祁强   湛容 \n",
       "    94     95     84     87     90     89 "
      ]
     },
     "metadata": {},
     "output_type": "display_data"
    },
    {
     "data": {
      "text/html": [
       "<style>\n",
       ".dl-inline {width: auto; margin:0; padding: 0}\n",
       ".dl-inline>dt, .dl-inline>dd {float: none; width: auto; display: inline-block}\n",
       ".dl-inline>dt::after {content: \":\\0020\"; padding-right: .5ex}\n",
       ".dl-inline>dt:not(:first-of-type) {padding-left: .5ex}\n",
       "</style><dl class=dl-inline><dt>舒江辉</dt><dd>84</dd><dt>翁柯</dt><dd>87</dd><dt>湛容</dt><dd>89</dd></dl>\n"
      ],
      "text/latex": [
       "\\begin{description*}\n",
       "\\item[舒江辉] 84\n",
       "\\item[翁柯] 87\n",
       "\\item[湛容] 89\n",
       "\\end{description*}\n"
      ],
      "text/markdown": [
       "舒江辉\n",
       ":   84翁柯\n",
       ":   87湛容\n",
       ":   89\n",
       "\n"
      ],
      "text/plain": [
       "舒江辉   翁柯   湛容 \n",
       "    84     87     89 "
      ]
     },
     "metadata": {},
     "output_type": "display_data"
    },
    {
     "data": {
      "text/html": [
       "<style>\n",
       ".list-inline {list-style: none; margin:0; padding: 0}\n",
       ".list-inline>li {display: inline-block}\n",
       ".list-inline>li:not(:last-child)::after {content: \"\\00b7\"; padding: 0 .5ex}\n",
       "</style>\n",
       "<ol class=list-inline><li>'周黎'</li><li>'汤海明'</li><li>'舒江辉'</li><li>'翁柯'</li><li>'祁强'</li><li>'湛容'</li></ol>\n"
      ],
      "text/latex": [
       "\\begin{enumerate*}\n",
       "\\item '周黎'\n",
       "\\item '汤海明'\n",
       "\\item '舒江辉'\n",
       "\\item '翁柯'\n",
       "\\item '祁强'\n",
       "\\item '湛容'\n",
       "\\end{enumerate*}\n"
      ],
      "text/markdown": [
       "1. '周黎'\n",
       "2. '汤海明'\n",
       "3. '舒江辉'\n",
       "4. '翁柯'\n",
       "5. '祁强'\n",
       "6. '湛容'\n",
       "\n",
       "\n"
      ],
      "text/plain": [
       "[1] \"周黎\"   \"汤海明\" \"舒江辉\" \"翁柯\"   \"祁强\"   \"湛容\"  "
      ]
     },
     "metadata": {},
     "output_type": "display_data"
    }
   ],
   "source": [
    "yw <- c(94,95,84,87)\n",
    "yw[] <- mean(yw)\n",
    "yw <- c(94,95,84,87,90,89)\n",
    "#-which(yw<90)\n",
    "\n",
    "xm <- c(\"周黎\", \"汤海明\", \"舒江辉\", \"翁柯\", \"祁强\", \"湛容\")\n",
    "names(yw) <- xm\n",
    "class(yw)\n",
    "yw\n",
    "yw[yw<90]\n",
    "names(yw)"
   ]
  },
  {
   "cell_type": "code",
   "execution_count": 102,
   "metadata": {},
   "outputs": [
    {
     "data": {
      "text/html": [
       "<style>\n",
       ".dl-inline {width: auto; margin:0; padding: 0}\n",
       ".dl-inline>dt, .dl-inline>dd {float: none; width: auto; display: inline-block}\n",
       ".dl-inline>dt::after {content: \":\\0020\"; padding-right: .5ex}\n",
       ".dl-inline>dt:not(:first-of-type) {padding-left: .5ex}\n",
       "</style><dl class=dl-inline><dt>北京化工大学</dt><dd>620</dd><dt>北京林业大学</dt><dd>621</dd><dt>中央民族大学</dt><dd>625</dd><dt>中国农业大学</dt><dd>634</dd><dt>北京科技大学</dt><dd>635</dd><dt>北京交通大学</dt><dd>640</dd><dt>北京邮电大学</dt><dd>646</dd><dt>中国人民大学</dt><dd>670</dd><dt>中国科学院大学</dt><dd>671</dd><dt>北京大学</dt><dd>678</dd><dt>清华大学</dt><dd>680</dd></dl>\n"
      ],
      "text/latex": [
       "\\begin{description*}\n",
       "\\item[北京化工大学] 620\n",
       "\\item[北京林业大学] 621\n",
       "\\item[中央民族大学] 625\n",
       "\\item[中国农业大学] 634\n",
       "\\item[北京科技大学] 635\n",
       "\\item[北京交通大学] 640\n",
       "\\item[北京邮电大学] 646\n",
       "\\item[中国人民大学] 670\n",
       "\\item[中国科学院大学] 671\n",
       "\\item[北京大学] 678\n",
       "\\item[清华大学] 680\n",
       "\\end{description*}\n"
      ],
      "text/markdown": [
       "北京化工大学\n",
       ":   620北京林业大学\n",
       ":   621中央民族大学\n",
       ":   625中国农业大学\n",
       ":   634北京科技大学\n",
       ":   635北京交通大学\n",
       ":   640北京邮电大学\n",
       ":   646中国人民大学\n",
       ":   670中国科学院大学\n",
       ":   671北京大学\n",
       ":   678清华大学\n",
       ":   680\n",
       "\n"
      ],
      "text/plain": [
       "  北京化工大学   北京林业大学   中央民族大学   中国农业大学   北京科技大学 \n",
       "           620            621            625            634            635 \n",
       "  北京交通大学   北京邮电大学   中国人民大学 中国科学院大学       北京大学 \n",
       "           640            646            670            671            678 \n",
       "      清华大学 \n",
       "           680 "
      ]
     },
     "metadata": {},
     "output_type": "display_data"
    },
    {
     "data": {
      "text/html": [
       "<style>\n",
       ".list-inline {list-style: none; margin:0; padding: 0}\n",
       ".list-inline>li {display: inline-block}\n",
       ".list-inline>li:not(:last-child)::after {content: \"\\00b7\"; padding: 0 .5ex}\n",
       "</style>\n",
       "<ol class=list-inline><li>8</li><li>11</li><li>2</li><li>10</li><li>7</li><li>6</li><li>9</li><li>4</li><li>1</li><li>3</li><li>5</li></ol>\n"
      ],
      "text/latex": [
       "\\begin{enumerate*}\n",
       "\\item 8\n",
       "\\item 11\n",
       "\\item 2\n",
       "\\item 10\n",
       "\\item 7\n",
       "\\item 6\n",
       "\\item 9\n",
       "\\item 4\n",
       "\\item 1\n",
       "\\item 3\n",
       "\\item 5\n",
       "\\end{enumerate*}\n"
      ],
      "text/markdown": [
       "1. 8\n",
       "2. 11\n",
       "3. 2\n",
       "4. 10\n",
       "5. 7\n",
       "6. 6\n",
       "7. 9\n",
       "8. 4\n",
       "9. 1\n",
       "10. 3\n",
       "11. 5\n",
       "\n",
       "\n"
      ],
      "text/plain": [
       " [1]  8 11  2 10  7  6  9  4  1  3  5"
      ]
     },
     "metadata": {},
     "output_type": "display_data"
    },
    {
     "data": {
      "text/html": [
       "<style>\n",
       ".dl-inline {width: auto; margin:0; padding: 0}\n",
       ".dl-inline>dt, .dl-inline>dd {float: none; width: auto; display: inline-block}\n",
       ".dl-inline>dt::after {content: \":\\0020\"; padding-right: .5ex}\n",
       ".dl-inline>dt:not(:first-of-type) {padding-left: .5ex}\n",
       "</style><dl class=dl-inline><dt>北京化工大学</dt><dd>620</dd><dt>北京林业大学</dt><dd>621</dd><dt>中央民族大学</dt><dd>625</dd><dt>中国农业大学</dt><dd>634</dd><dt>北京科技大学</dt><dd>635</dd><dt>北京交通大学</dt><dd>640</dd><dt>北京邮电大学</dt><dd>646</dd><dt>中国人民大学</dt><dd>670</dd><dt>中国科学院大学</dt><dd>671</dd><dt>北京大学</dt><dd>678</dd><dt>清华大学</dt><dd>680</dd></dl>\n"
      ],
      "text/latex": [
       "\\begin{description*}\n",
       "\\item[北京化工大学] 620\n",
       "\\item[北京林业大学] 621\n",
       "\\item[中央民族大学] 625\n",
       "\\item[中国农业大学] 634\n",
       "\\item[北京科技大学] 635\n",
       "\\item[北京交通大学] 640\n",
       "\\item[北京邮电大学] 646\n",
       "\\item[中国人民大学] 670\n",
       "\\item[中国科学院大学] 671\n",
       "\\item[北京大学] 678\n",
       "\\item[清华大学] 680\n",
       "\\end{description*}\n"
      ],
      "text/markdown": [
       "北京化工大学\n",
       ":   620北京林业大学\n",
       ":   621中央民族大学\n",
       ":   625中国农业大学\n",
       ":   634北京科技大学\n",
       ":   635北京交通大学\n",
       ":   640北京邮电大学\n",
       ":   646中国人民大学\n",
       ":   670中国科学院大学\n",
       ":   671北京大学\n",
       ":   678清华大学\n",
       ":   680\n",
       "\n"
      ],
      "text/plain": [
       "  北京化工大学   北京林业大学   中央民族大学   中国农业大学   北京科技大学 \n",
       "           620            621            625            634            635 \n",
       "  北京交通大学   北京邮电大学   中国人民大学 中国科学院大学       北京大学 \n",
       "           640            646            670            671            678 \n",
       "      清华大学 \n",
       "           680 "
      ]
     },
     "metadata": {},
     "output_type": "display_data"
    }
   ],
   "source": [
    "fen_shu_xian2016 <- c(\n",
    "    中国科学院大学    = 671,\n",
    "    中央民族大学    = 625,\n",
    "    北京大学    = 678,\n",
    "    中国人民大学    = 670,\n",
    "    清华大学    = 680,\n",
    "    北京交通大学    = 640,\n",
    "    北京科技大学    = 635,\n",
    "    北京化工大学    = 620,\n",
    "    北京邮电大学    = 646,\n",
    "    中国农业大学    = 634,\n",
    "    北京林业大学    = 621\n",
    ")\n",
    "sort(fen_shu_xian2016)\n",
    "#print(fen_shu_xian2016,trim=T,width=3,justify=\"right\")\n",
    "order(fen_shu_xian2016)\n",
    "fen_shu_xian2016[order(fen_shu_xian2016)]"
   ]
  },
  {
   "cell_type": "code",
   "execution_count": 116,
   "metadata": {},
   "outputs": [
    {
     "data": {
      "image/png": "[encoded data removed]",
      "text/plain": [
       "plot without title"
      ]
     },
     "metadata": {
      "image/png": {
       "height": 420,
       "width": 420
      }
     },
     "output_type": "display_data"
    },
    {
     "data": {
      "image/png": "[encoded data removed]",
      "text/plain": [
       "plot without title"
      ]
     },
     "metadata": {
      "image/png": {
       "height": 420,
       "width": 420
      }
     },
     "output_type": "display_data"
    },
    {
     "data": {
      "image/png": "[encoded data removed]",
      "text/plain": [
       "plot without title"
      ]
     },
     "metadata": {
      "image/png": {
       "height": 420,
       "width": 420
      }
     },
     "output_type": "display_data"
    },
    {
     "data": {
      "image/png": "[encoded data removed]",
      "text/plain": [
       "plot without title"
      ]
     },
     "metadata": {
      "image/png": {
       "height": 420,
       "width": 420
      }
     },
     "output_type": "display_data"
    },
    {
     "data": {
      "image/png": "[encoded data removed]",
      "text/plain": [
       "plot without title"
      ]
     },
     "metadata": {
      "image/png": {
       "height": 420,
       "width": 420
      }
     },
     "output_type": "display_data"
    },
    {
     "data": {
      "image/png": "[encoded data removed]",
      "text/plain": [
       "plot without title"
      ]
     },
     "metadata": {
      "image/png": {
       "height": 420,
       "width": 420
      }
     },
     "output_type": "display_data"
    }
   ],
   "source": [
    "#原点\n",
    "p0 <- c(x = 0, y = 0)\n",
    "#向量1\n",
    "p1 <- c(x = 1, y = 2)\n",
    "#向量2\n",
    "p2 <- c(x = 2, y = 1)\n",
    "\n",
    "#求和\n",
    "p3 <- p1 + p2\n",
    "\n",
    "#数乘\n",
    "p4 <- 1.5 * p3\n",
    "\n",
    "\n",
    "library(ggplot2)\n",
    "my_ggplot <- ggplot() +\n",
    "    xlim(0, 5) +\n",
    "    ylim(0, 5) +\n",
    "    coord_fixed()\n",
    "plot(my_ggplot)\n",
    "my_ggplot <- my_ggplot +\n",
    "    geom_point(aes(x = p1[\"x\"], y = p1[\"y\"])) +\n",
    "    geom_segment(\n",
    "        aes(\n",
    "            x = p0[\"x\"],\n",
    "            y = p0[\"y\"],\n",
    "            xend = p1[\"x\"],\n",
    "            yend = p1[\"y\"]\n",
    "        ),\n",
    "        arrow = arrow(length = unit(0.3, \"cm\")),\n",
    "        colour = 'black'\n",
    "    ) +\n",
    "    geom_text(aes(x = p1[\"x\"], y = p1[\"y\"], label = \"p1\"),\n",
    "              size = 4,\n",
    "              vjust = -1) +\n",
    "    xlab(\"x\") +\n",
    "    ylab(\"y\")\n",
    "plot(my_ggplot)\n",
    "\n",
    "my_ggplot <- my_ggplot +\n",
    "    geom_point(aes(x = p2[\"x\"], y = p2[\"y\"])) +\n",
    "    geom_segment(\n",
    "        aes(\n",
    "            x = p0[\"x\"],\n",
    "            y = p0[\"y\"],\n",
    "            xend = p2[\"x\"],\n",
    "            yend = p2[\"y\"]\n",
    "        ),\n",
    "        arrow = arrow(length = unit(0.3, \"cm\")),\n",
    "        colour = 'black'\n",
    "    ) +\n",
    "    geom_text(aes(x = p2[\"x\"], y = p2[\"y\"], label = \"p2\"),\n",
    "              size = 4,\n",
    "              vjust = -1)\n",
    "plot(my_ggplot)\n",
    "my_ggplot <- my_ggplot +\n",
    "    geom_segment(aes(\n",
    "        x = p2[\"x\"],\n",
    "        y = p2[\"y\"],\n",
    "        xend = p3[\"x\"],\n",
    "        yend = p3[\"y\"]\n",
    "    ),\n",
    "    linetype = 2,\n",
    "    colour = 'grey') +\n",
    "    geom_segment(aes(\n",
    "        x = p1[\"x\"],\n",
    "        y = p1[\"y\"],\n",
    "        xend = p3[\"x\"],\n",
    "        yend = p3[\"y\"]\n",
    "    ),\n",
    "    linetype = 2,\n",
    "    colour = 'grey')\n",
    "plot(my_ggplot)\n",
    "my_ggplot <- my_ggplot +\n",
    "    geom_point(aes(x = p3[\"x\"], y = p3[\"y\"]), colour = 'red', size = 3) +\n",
    "    geom_segment(\n",
    "        aes(\n",
    "            x = p0[\"x\"],\n",
    "            y = p0[\"y\"],\n",
    "            xend = p3[\"x\"],\n",
    "            yend = p3[\"y\"]\n",
    "        ),\n",
    "        arrow = arrow(length = unit(0.3, \"cm\")),\n",
    "        colour = 'red'\n",
    "    ) +\n",
    "    geom_text(aes(x = p3[\"x\"], y = p3[\"y\"], label = \"p3\"),\n",
    "              size = 4,\n",
    "              vjust = -1)\n",
    "plot(my_ggplot)\n",
    "\n",
    "my_ggplot <- my_ggplot +\n",
    "    geom_point(aes(x = p4[\"x\"], y = p4[\"y\"]), size = 3, colour = 'blue') +\n",
    "    geom_segment(\n",
    "        aes(\n",
    "            x = p3[\"x\"],\n",
    "            y = p3[\"y\"],\n",
    "            xend = p4[\"x\"],\n",
    "            yend = p4[\"y\"]\n",
    "        ),\n",
    "        linetype = 2,\n",
    "        arrow = arrow(length = unit(0.4, \"cm\")),\n",
    "        colour = 'blue'\n",
    "    ) +\n",
    "    geom_text(aes(x = p4[\"x\"], y = p4[\"y\"], label = \"p4\"),\n",
    "              size = 4,\n",
    "              vjust = -1)\n",
    "plot(my_ggplot)\n",
    "\n",
    "#ggsave(\"p1p2p3.png\", dpi = 600)\n",
    "#注意：\n",
    "#图片存储在\"getwd()的结果/p1p2p3.png\"\n",
    "\n"
   ]
  },
  {
   "cell_type": "code",
   "execution_count": 119,
   "metadata": {},
   "outputs": [
    {
     "data": {
      "text/html": [
       "<style>\n",
       ".dl-inline {width: auto; margin:0; padding: 0}\n",
       ".dl-inline>dt, .dl-inline>dd {float: none; width: auto; display: inline-block}\n",
       ".dl-inline>dt::after {content: \":\\0020\"; padding-right: .5ex}\n",
       ".dl-inline>dt:not(:first-of-type) {padding-left: .5ex}\n",
       "</style><dl class=dl-inline><dt>x</dt><dd>0.4</dd><dt>y</dt><dd>0.2</dd></dl>\n"
      ],
      "text/latex": [
       "\\begin{description*}\n",
       "\\item[x] 0.4\n",
       "\\item[y] 0.2\n",
       "\\end{description*}\n"
      ],
      "text/markdown": [
       "x\n",
       ":   0.4y\n",
       ":   0.2\n",
       "\n"
      ],
      "text/plain": [
       "  x   y \n",
       "0.4 0.2 "
      ]
     },
     "metadata": {},
     "output_type": "display_data"
    },
    {
     "data": {
      "text/html": [
       "4"
      ],
      "text/latex": [
       "4"
      ],
      "text/markdown": [
       "4"
      ],
      "text/plain": [
       "[1] 4"
      ]
     },
     "metadata": {},
     "output_type": "display_data"
    },
    {
     "data": {
      "image/png": "[encoded data removed]",
      "text/plain": [
       "plot without title"
      ]
     },
     "metadata": {
      "image/png": {
       "height": 420,
       "width": 420
      }
     },
     "output_type": "display_data"
    }
   ],
   "source": [
    "#投影\n",
    "#向量1\n",
    "p1 <- c(x = 1, y = 2)\n",
    "#向量2\n",
    "p2 <- c(x = 2, y = 1)\n",
    "#投影\n",
    "p1_on_p2 <-\n",
    "    sum(p1 * p2) /\n",
    "    sum(p2 * p2) * p2\n",
    "\n",
    "\n",
    "p2 / sum(p2 * p2)\n",
    "\n",
    "sqrt(sum(p2 * p2)) * sqrt(sum(p1_on_p2 * p1_on_p2))\n",
    "\n",
    "#容易看出，求投影，完全不需要用到cos之类的\n",
    "library(ggplot2)\n",
    "ggplot() +\n",
    "    xlim(0, 3) +\n",
    "    ylim(0, 3) +\n",
    "    coord_fixed() + #求投影时，必须fixed，否则垂直效果容易失真\n",
    "    geom_point(aes(x = p1[\"x\"], y = p1[\"y\"])) +\n",
    "    geom_segment(\n",
    "        aes(\n",
    "            x = p0[\"x\"],\n",
    "            y = p0[\"y\"],\n",
    "            xend = p1[\"x\"],\n",
    "            yend = p1[\"y\"]\n",
    "        ),\n",
    "        arrow = arrow(length = unit(0.3, \"cm\")),\n",
    "        colour = 'black'\n",
    "    ) +\n",
    "    geom_text(aes(x = p1[\"x\"], y = p1[\"y\"], label = \"p1\"),\n",
    "              size = 4,\n",
    "              vjust = -1) +\n",
    "    geom_point(aes(x = p2[\"x\"], y = p2[\"y\"])) +\n",
    "    geom_segment(\n",
    "        aes(\n",
    "            x = p0[\"x\"],\n",
    "            y = p0[\"y\"],\n",
    "            xend = p2[\"x\"],\n",
    "            yend = p2[\"y\"]\n",
    "        ),\n",
    "        arrow = arrow(length = unit(0.3, \"cm\")),\n",
    "        colour = 'black'\n",
    "    ) +\n",
    "    geom_text(aes(x = p2[\"x\"], y = p2[\"y\"], label = \"p2\"),\n",
    "              size = 4,\n",
    "              vjust = -1) +\n",
    "    geom_point(aes(x = p1_on_p2[\"x\"], y = p1_on_p2[\"y\"]),\n",
    "               size = 2,\n",
    "               colour = \"red\") +\n",
    "    geom_segment(aes(\n",
    "        x = p0[\"x\"],\n",
    "        y = p0[\"y\"],\n",
    "        xend = p1_on_p2[\"x\"],\n",
    "        yend = p1_on_p2[\"y\"]\n",
    "    ),\n",
    "    colour = 'red') +\n",
    "    geom_segment(\n",
    "        aes(\n",
    "            x = p1[\"x\"],\n",
    "            y = p1[\"y\"],\n",
    "            xend = p1_on_p2[\"x\"],\n",
    "            yend = p1_on_p2[\"y\"]\n",
    "        ),\n",
    "        linetype = 2,\n",
    "        colour = 'red'\n",
    "    ) +\n",
    "    geom_text(\n",
    "        aes(x = p1_on_p2[\"x\"], y = p1_on_p2[\"y\"], label = \"p1_on_p2\"),\n",
    "        size = 4,\n",
    "        vjust = 1,\n",
    "        hjust = -0.2\n",
    "    )\n",
    "# ggsave(\"prj.png\", dpi = 600)\n",
    "\n",
    "\n"
   ]
  },
  {
   "cell_type": "code",
   "execution_count": 123,
   "metadata": {},
   "outputs": [
    {
     "data": {
      "image/png": "[encoded data removed]",
      "text/plain": [
       "plot without title"
      ]
     },
     "metadata": {
      "image/png": {
       "height": 420,
       "width": 420
      }
     },
     "output_type": "display_data"
    }
   ],
   "source": [
    "library(\"tidyverse\")\n",
    "petal_raw <- iris[, c(\"Petal.Length\", \"Petal.Width\")]\n",
    "petal_raw$type <- \"raw\"\n",
    "w <- c(1, 2)\n",
    "petal_multiply <- t(apply(petal_raw[, 1:2], 1, function(x) {\n",
    "    w * x\n",
    "}))\n",
    "petal_multiply <- petal_multiply %>%\n",
    "    as.data.frame() %>%\n",
    "    mutate(type = \"multiply\")\n",
    "petal <- rbind(petal_raw, petal_multiply)\n",
    "ggplot(petal, aes(x = Petal.Length, y = Petal.Width)) +\n",
    "    geom_point() +\n",
    "    facet_wrap( ~ type)\n",
    "#由此可见，向量相乘，只不过是在不同维度上缩放而已\n",
    "\n"
   ]
  },
  {
   "cell_type": "code",
   "execution_count": 124,
   "metadata": {},
   "outputs": [
    {
     "data": {
      "text/html": [
       "-11.1336033799901"
      ],
      "text/latex": [
       "-11.1336033799901"
      ],
      "text/markdown": [
       "-11.1336033799901"
      ],
      "text/plain": [
       "[1] -11.1336"
      ]
     },
     "metadata": {},
     "output_type": "display_data"
    },
    {
     "data": {
      "text/html": [
       "128.350119361015"
      ],
      "text/latex": [
       "128.350119361015"
      ],
      "text/markdown": [
       "128.350119361015"
      ],
      "text/plain": [
       "[1] 128.3501"
      ]
     },
     "metadata": {},
     "output_type": "display_data"
    },
    {
     "data": {
      "text/html": [
       "-127.107969688469"
      ],
      "text/latex": [
       "-127.107969688469"
      ],
      "text/markdown": [
       "-127.107969688469"
      ],
      "text/plain": [
       "[1] -127.108"
      ]
     },
     "metadata": {},
     "output_type": "display_data"
    },
    {
     "data": {
      "image/png": "[encoded data removed]",
      "text/plain": [
       "plot without title"
      ]
     },
     "metadata": {
      "image/png": {
       "height": 420,
       "width": 420
      }
     },
     "output_type": "display_data"
    }
   ],
   "source": [
    "#向量的内积\n",
    "set.seed(2012)\n",
    "x <- rnorm(100)\n",
    "y <- rnorm(100)\n",
    "sum(x * y)\n",
    "#> [1] -11.1336\n",
    "sum(sort(x) * sort(y))\n",
    "#> [1] 128.3501\n",
    "sum(sort(x) * sort(y, decreasing = T))\n",
    "#> [1] -127.108\n",
    "x <- sort(x)\n",
    "y <- sort(y)\n",
    "inner_products <- NULL\n",
    "for (i in 2:99) {\n",
    "    same_part_len <- rep(i, 500)\n",
    "    inner_product <- replicate(500,\n",
    "                               sum(x * y[c(sample(i), (i + 1):100)]))\n",
    "\n",
    "    inner_products <- rbind(inner_products,\n",
    "                            cbind(same_part_len, inner_product))\n",
    "}\n",
    "y <- rev(y)\n",
    "for (i in 99:2) {\n",
    "    same_part_len <- rep(i, 500)\n",
    "    inner_product <- replicate(500,\n",
    "                               sum(x * y[c(sample(i), (i + 1):100)]))\n",
    "\n",
    "    inner_products <- rbind(inner_products,\n",
    "                            cbind(same_part_len, inner_product))\n",
    "}\n",
    "\n",
    "\n",
    "\n",
    "ggplot(\n",
    "    as.data.frame(inner_products),\n",
    "    aes(\n",
    "        x = same_part_len,\n",
    "        y = inner_product,\n",
    "        group = same_part_len,\n",
    "        fill = same_part_len\n",
    "    )\n",
    ") +\n",
    "    geom_boxplot() +\n",
    "    xlab(\"顺序不相同的长度\") +\n",
    "    ylab(\"内积大小\") +\n",
    "    theme(legend.position = \"none\")\n",
    "\n",
    "\n"
   ]
  },
  {
   "cell_type": "code",
   "execution_count": 125,
   "metadata": {},
   "outputs": [
    {
     "data": {
      "text/html": [
       "9"
      ],
      "text/latex": [
       "9"
      ],
      "text/markdown": [
       "9"
      ],
      "text/plain": [
       "[1] 9"
      ]
     },
     "metadata": {},
     "output_type": "display_data"
    },
    {
     "data": {
      "text/html": [
       "9"
      ],
      "text/latex": [
       "9"
      ],
      "text/markdown": [
       "9"
      ],
      "text/plain": [
       "[1] 9"
      ]
     },
     "metadata": {},
     "output_type": "display_data"
    },
    {
     "data": {
      "image/png": "[encoded data removed]",
      "text/plain": [
       "plot without title"
      ]
     },
     "metadata": {
      "image/png": {
       "height": 420,
       "width": 420
      }
     },
     "output_type": "display_data"
    }
   ],
   "source": [
    "\n",
    "#向量是逐个相乘之后再相加\n",
    "#相乘之后再相减\n",
    "#x1*x2 - y1*y2\n",
    "p0 <- c(0, 0)\n",
    "p1 <- c(4, 3)\n",
    "p2 <- c(1, 3)\n",
    "p3 <- p1 + p2\n",
    "diff(rev(p1) * p2)\n",
    "#其实，行列式代表的都是面积或是体积\n",
    "demo_points <- rbind(p0, p1, p3, p2)\n",
    "point_label <- c(\"c(0, 0)\",\n",
    "                 \"c(4, 3)\",\n",
    "                 \"c(4, 6)\",\n",
    "                 \"c(1, 3)\")\n",
    "ggplot(as.data.frame(demo_points),\n",
    "       aes(x = demo_points[, 1], y = demo_points[, 2])) +\n",
    "    geom_point() +\n",
    "    geom_polygon(fill = \"red\",\n",
    "                 alpha = 0.25,\n",
    "                 colour = \"black\") +\n",
    "    geom_label(\n",
    "        aes(label = point_label),\n",
    "        hjust = c(0, 0, 1, 1),\n",
    "        vjust = c(1, 1, 0, 0),\n",
    "        fill = \"yellow\"\n",
    "    ) +\n",
    "    xlim(0, 5.5) +\n",
    "    ylim(0, 6.5) +\n",
    "    coord_fixed()\n",
    "diff(rev(p1) * p2)\n",
    "#其实，行列式代表的都是面积或是体积\n",
    "\n"
   ]
  },
  {
   "cell_type": "markdown",
   "metadata": {},
   "source": [
    "### 因子"
   ]
  },
  {
   "cell_type": "code",
   "execution_count": 139,
   "metadata": {},
   "outputs": [
    {
     "data": {
      "text/html": [
       "'character'"
      ],
      "text/latex": [
       "'character'"
      ],
      "text/markdown": [
       "'character'"
      ],
      "text/plain": [
       "[1] \"character\""
      ]
     },
     "metadata": {},
     "output_type": "display_data"
    },
    {
     "data": {
      "text/html": [
       "<style>\n",
       ".list-inline {list-style: none; margin:0; padding: 0}\n",
       ".list-inline>li {display: inline-block}\n",
       ".list-inline>li:not(:last-child)::after {content: \"\\00b7\"; padding: 0 .5ex}\n",
       "</style>\n",
       "<ol class=list-inline><li>'male'</li><li>'female'</li><li>'male'</li><li>'female'</li></ol>\n"
      ],
      "text/latex": [
       "\\begin{enumerate*}\n",
       "\\item 'male'\n",
       "\\item 'female'\n",
       "\\item 'male'\n",
       "\\item 'female'\n",
       "\\end{enumerate*}\n"
      ],
      "text/markdown": [
       "1. 'male'\n",
       "2. 'female'\n",
       "3. 'male'\n",
       "4. 'female'\n",
       "\n",
       "\n"
      ],
      "text/plain": [
       "[1] \"male\"   \"female\" \"male\"   \"female\""
      ]
     },
     "metadata": {},
     "output_type": "display_data"
    },
    {
     "name": "stderr",
     "output_type": "stream",
     "text": [
      "Warning message in eval(expr, envir, enclos):\n",
      "“NAs introduced by coercion”\n"
     ]
    },
    {
     "data": {
      "text/html": [
       "<style>\n",
       ".list-inline {list-style: none; margin:0; padding: 0}\n",
       ".list-inline>li {display: inline-block}\n",
       ".list-inline>li:not(:last-child)::after {content: \"\\00b7\"; padding: 0 .5ex}\n",
       "</style>\n",
       "<ol class=list-inline><li>&lt;NA&gt;</li><li>&lt;NA&gt;</li><li>&lt;NA&gt;</li><li>&lt;NA&gt;</li></ol>\n"
      ],
      "text/latex": [
       "\\begin{enumerate*}\n",
       "\\item <NA>\n",
       "\\item <NA>\n",
       "\\item <NA>\n",
       "\\item <NA>\n",
       "\\end{enumerate*}\n"
      ],
      "text/markdown": [
       "1. &lt;NA&gt;\n",
       "2. &lt;NA&gt;\n",
       "3. &lt;NA&gt;\n",
       "4. &lt;NA&gt;\n",
       "\n",
       "\n"
      ],
      "text/plain": [
       "[1] NA NA NA NA"
      ]
     },
     "metadata": {},
     "output_type": "display_data"
    },
    {
     "data": {
      "text/plain": [
       "xb\n",
       "female   male \n",
       "     2      2 "
      ]
     },
     "metadata": {},
     "output_type": "display_data"
    },
    {
     "data": {
      "text/html": [
       "'factor'"
      ],
      "text/latex": [
       "'factor'"
      ],
      "text/markdown": [
       "'factor'"
      ],
      "text/plain": [
       "[1] \"factor\""
      ]
     },
     "metadata": {},
     "output_type": "display_data"
    },
    {
     "data": {
      "text/html": [
       "<style>\n",
       ".list-inline {list-style: none; margin:0; padding: 0}\n",
       ".list-inline>li {display: inline-block}\n",
       ".list-inline>li:not(:last-child)::after {content: \"\\00b7\"; padding: 0 .5ex}\n",
       "</style>\n",
       "<ol class=list-inline><li>male</li><li>female</li><li>male</li><li>female</li></ol>\n",
       "\n",
       "<details>\n",
       "\t<summary style=display:list-item;cursor:pointer>\n",
       "\t\t<strong>Levels</strong>:\n",
       "\t</summary>\n",
       "\t<style>\n",
       "\t.list-inline {list-style: none; margin:0; padding: 0}\n",
       "\t.list-inline>li {display: inline-block}\n",
       "\t.list-inline>li:not(:last-child)::after {content: \"\\00b7\"; padding: 0 .5ex}\n",
       "\t</style>\n",
       "\t<ol class=list-inline><li>'female'</li><li>'male'</li></ol>\n",
       "</details>"
      ],
      "text/latex": [
       "\\begin{enumerate*}\n",
       "\\item male\n",
       "\\item female\n",
       "\\item male\n",
       "\\item female\n",
       "\\end{enumerate*}\n",
       "\n",
       "\\emph{Levels}: \\begin{enumerate*}\n",
       "\\item 'female'\n",
       "\\item 'male'\n",
       "\\end{enumerate*}\n"
      ],
      "text/markdown": [
       "1. male\n",
       "2. female\n",
       "3. male\n",
       "4. female\n",
       "\n",
       "\n",
       "\n",
       "**Levels**: 1. 'female'\n",
       "2. 'male'\n",
       "\n",
       "\n"
      ],
      "text/plain": [
       "[1] male   female male   female\n",
       "Levels: female male"
      ]
     },
     "metadata": {},
     "output_type": "display_data"
    },
    {
     "data": {
      "text/html": [
       "<style>\n",
       ".list-inline {list-style: none; margin:0; padding: 0}\n",
       ".list-inline>li {display: inline-block}\n",
       ".list-inline>li:not(:last-child)::after {content: \"\\00b7\"; padding: 0 .5ex}\n",
       "</style>\n",
       "<ol class=list-inline><li>2</li><li>1</li><li>2</li><li>1</li></ol>\n"
      ],
      "text/latex": [
       "\\begin{enumerate*}\n",
       "\\item 2\n",
       "\\item 1\n",
       "\\item 2\n",
       "\\item 1\n",
       "\\end{enumerate*}\n"
      ],
      "text/markdown": [
       "1. 2\n",
       "2. 1\n",
       "3. 2\n",
       "4. 1\n",
       "\n",
       "\n"
      ],
      "text/plain": [
       "[1] 2 1 2 1"
      ]
     },
     "metadata": {},
     "output_type": "display_data"
    },
    {
     "data": {
      "text/html": [
       "<style>\n",
       ".list-inline {list-style: none; margin:0; padding: 0}\n",
       ".list-inline>li {display: inline-block}\n",
       ".list-inline>li:not(:last-child)::after {content: \"\\00b7\"; padding: 0 .5ex}\n",
       "</style>\n",
       "<ol class=list-inline><li>'female'</li><li>'male'</li></ol>\n"
      ],
      "text/latex": [
       "\\begin{enumerate*}\n",
       "\\item 'female'\n",
       "\\item 'male'\n",
       "\\end{enumerate*}\n"
      ],
      "text/markdown": [
       "1. 'female'\n",
       "2. 'male'\n",
       "\n",
       "\n"
      ],
      "text/plain": [
       "[1] \"female\" \"male\"  "
      ]
     },
     "metadata": {},
     "output_type": "display_data"
    },
    {
     "data": {
      "text/plain": [
       "xb\n",
       "female   male \n",
       "     2      2 "
      ]
     },
     "metadata": {},
     "output_type": "display_data"
    },
    {
     "data": {
      "text/html": [
       "<style>\n",
       ".list-inline {list-style: none; margin:0; padding: 0}\n",
       ".list-inline>li {display: inline-block}\n",
       ".list-inline>li:not(:last-child)::after {content: \"\\00b7\"; padding: 0 .5ex}\n",
       "</style>\n",
       "<ol class=list-inline><li>male</li><li>female</li><li>male</li><li>female</li></ol>\n",
       "\n",
       "<details>\n",
       "\t<summary style=display:list-item;cursor:pointer>\n",
       "\t\t<strong>Levels</strong>:\n",
       "\t</summary>\n",
       "\t<style>\n",
       "\t.list-inline {list-style: none; margin:0; padding: 0}\n",
       "\t.list-inline>li {display: inline-block}\n",
       "\t.list-inline>li:not(:last-child)::after {content: \"\\00b7\"; padding: 0 .5ex}\n",
       "\t</style>\n",
       "\t<ol class=list-inline><li>'male'</li><li>'female'</li><li>'no'</li></ol>\n",
       "</details>"
      ],
      "text/latex": [
       "\\begin{enumerate*}\n",
       "\\item male\n",
       "\\item female\n",
       "\\item male\n",
       "\\item female\n",
       "\\end{enumerate*}\n",
       "\n",
       "\\emph{Levels}: \\begin{enumerate*}\n",
       "\\item 'male'\n",
       "\\item 'female'\n",
       "\\item 'no'\n",
       "\\end{enumerate*}\n"
      ],
      "text/markdown": [
       "1. male\n",
       "2. female\n",
       "3. male\n",
       "4. female\n",
       "\n",
       "\n",
       "\n",
       "**Levels**: 1. 'male'\n",
       "2. 'female'\n",
       "3. 'no'\n",
       "\n",
       "\n"
      ],
      "text/plain": [
       "[1] male   female male   female\n",
       "Levels: male female no"
      ]
     },
     "metadata": {},
     "output_type": "display_data"
    }
   ],
   "source": [
    "xb <- c(\"male\",\"female\",\"male\",\"female\")\n",
    "class(xb)\n",
    "#typeof(xb)\n",
    "xb\n",
    "as.numeric(xb)\n",
    "table(xb)\n",
    "\n",
    "xb <- factor(xb)\n",
    "class(xb)\n",
    "xb\n",
    "as.numeric(xb)\n",
    "levels(xb)\n",
    "table(xb)\n",
    "xb <- factor(xb, levels=c(\"male\",\"female\",\"no\")) #为因子添加类别\n",
    "xb"
   ]
  },
  {
   "cell_type": "code",
   "execution_count": 142,
   "metadata": {},
   "outputs": [
    {
     "data": {
      "text/html": [
       "<table>\n",
       "<caption>A matrix: 6 × 3 of type dbl</caption>\n",
       "<tbody>\n",
       "\t<tr><td>94</td><td>82</td><td>96</td></tr>\n",
       "\t<tr><td>87</td><td>94</td><td>89</td></tr>\n",
       "\t<tr><td>92</td><td>79</td><td>86</td></tr>\n",
       "\t<tr><td>91</td><td>84</td><td>96</td></tr>\n",
       "\t<tr><td>85</td><td>92</td><td>82</td></tr>\n",
       "\t<tr><td>92</td><td>82</td><td>85</td></tr>\n",
       "</tbody>\n",
       "</table>\n"
      ],
      "text/latex": [
       "A matrix: 6 × 3 of type dbl\n",
       "\\begin{tabular}{lll}\n",
       "\t 94 & 82 & 96\\\\\n",
       "\t 87 & 94 & 89\\\\\n",
       "\t 92 & 79 & 86\\\\\n",
       "\t 91 & 84 & 96\\\\\n",
       "\t 85 & 92 & 82\\\\\n",
       "\t 92 & 82 & 85\\\\\n",
       "\\end{tabular}\n"
      ],
      "text/markdown": [
       "\n",
       "A matrix: 6 × 3 of type dbl\n",
       "\n",
       "| 94 | 82 | 96 |\n",
       "| 87 | 94 | 89 |\n",
       "| 92 | 79 | 86 |\n",
       "| 91 | 84 | 96 |\n",
       "| 85 | 92 | 82 |\n",
       "| 92 | 82 | 85 |\n",
       "\n"
      ],
      "text/plain": [
       "     [,1] [,2] [,3]\n",
       "[1,] 94   82   96  \n",
       "[2,] 87   94   89  \n",
       "[3,] 92   79   86  \n",
       "[4,] 91   84   96  \n",
       "[5,] 85   92   82  \n",
       "[6,] 92   82   85  "
      ]
     },
     "metadata": {},
     "output_type": "display_data"
    }
   ],
   "source": [
    "#假如数据本身就是“站”着的\n",
    "#要注意其中byrow = 参数的设置\n",
    "ysw <- matrix(\n",
    "    c(94, 82, 96,\n",
    "      87, 94, 89,\n",
    "      92, 79, 86,\n",
    "      91, 84, 96,\n",
    "      85, 92, 82,\n",
    "      92, 82, 85),\n",
    "    byrow = TRUE,\n",
    "    ncol = 3\n",
    ")\n",
    "ysw\n"
   ]
  },
  {
   "cell_type": "code",
   "execution_count": 146,
   "metadata": {},
   "outputs": [
    {
     "data": {
      "text/html": [
       "<table>\n",
       "<caption>A matrix: 6 × 3 of type int</caption>\n",
       "<tbody>\n",
       "\t<tr><td>1</td><td> 7</td><td>13</td></tr>\n",
       "\t<tr><td>2</td><td> 8</td><td>14</td></tr>\n",
       "\t<tr><td>3</td><td> 9</td><td>15</td></tr>\n",
       "\t<tr><td>4</td><td>10</td><td>16</td></tr>\n",
       "\t<tr><td>5</td><td>11</td><td>17</td></tr>\n",
       "\t<tr><td>6</td><td>12</td><td>18</td></tr>\n",
       "</tbody>\n",
       "</table>\n"
      ],
      "text/latex": [
       "A matrix: 6 × 3 of type int\n",
       "\\begin{tabular}{lll}\n",
       "\t 1 &  7 & 13\\\\\n",
       "\t 2 &  8 & 14\\\\\n",
       "\t 3 &  9 & 15\\\\\n",
       "\t 4 & 10 & 16\\\\\n",
       "\t 5 & 11 & 17\\\\\n",
       "\t 6 & 12 & 18\\\\\n",
       "\\end{tabular}\n"
      ],
      "text/markdown": [
       "\n",
       "A matrix: 6 × 3 of type int\n",
       "\n",
       "| 1 |  7 | 13 |\n",
       "| 2 |  8 | 14 |\n",
       "| 3 |  9 | 15 |\n",
       "| 4 | 10 | 16 |\n",
       "| 5 | 11 | 17 |\n",
       "| 6 | 12 | 18 |\n",
       "\n"
      ],
      "text/plain": [
       "     [,1] [,2] [,3]\n",
       "[1,] 1     7   13  \n",
       "[2,] 2     8   14  \n",
       "[3,] 3     9   15  \n",
       "[4,] 4    10   16  \n",
       "[5,] 5    11   17  \n",
       "[6,] 6    12   18  "
      ]
     },
     "metadata": {},
     "output_type": "display_data"
    },
    {
     "data": {
      "text/html": [
       "<table>\n",
       "<caption>A matrix: 6 × 3 of type int</caption>\n",
       "<tbody>\n",
       "\t<tr><td> 1</td><td> 2</td><td> 3</td></tr>\n",
       "\t<tr><td> 4</td><td> 5</td><td> 6</td></tr>\n",
       "\t<tr><td> 7</td><td> 8</td><td> 9</td></tr>\n",
       "\t<tr><td>10</td><td>11</td><td>12</td></tr>\n",
       "\t<tr><td>13</td><td>14</td><td>15</td></tr>\n",
       "\t<tr><td>16</td><td>17</td><td>18</td></tr>\n",
       "</tbody>\n",
       "</table>\n"
      ],
      "text/latex": [
       "A matrix: 6 × 3 of type int\n",
       "\\begin{tabular}{lll}\n",
       "\t  1 &  2 &  3\\\\\n",
       "\t  4 &  5 &  6\\\\\n",
       "\t  7 &  8 &  9\\\\\n",
       "\t 10 & 11 & 12\\\\\n",
       "\t 13 & 14 & 15\\\\\n",
       "\t 16 & 17 & 18\\\\\n",
       "\\end{tabular}\n"
      ],
      "text/markdown": [
       "\n",
       "A matrix: 6 × 3 of type int\n",
       "\n",
       "|  1 |  2 |  3 |\n",
       "|  4 |  5 |  6 |\n",
       "|  7 |  8 |  9 |\n",
       "| 10 | 11 | 12 |\n",
       "| 13 | 14 | 15 |\n",
       "| 16 | 17 | 18 |\n",
       "\n"
      ],
      "text/plain": [
       "     [,1] [,2] [,3]\n",
       "[1,]  1    2    3  \n",
       "[2,]  4    5    6  \n",
       "[3,]  7    8    9  \n",
       "[4,] 10   11   12  \n",
       "[5,] 13   14   15  \n",
       "[6,] 16   17   18  "
      ]
     },
     "metadata": {},
     "output_type": "display_data"
    }
   ],
   "source": [
    "t_vector <- 1:18\n",
    "t_matrix <- matrix(t_vector,ncol=3)\n",
    "t_matrix\n",
    "matrix(t_vector,ncol=3,byrow=T)"
   ]
  },
  {
   "cell_type": "code",
   "execution_count": 155,
   "metadata": {},
   "outputs": [
    {
     "data": {
      "text/html": [
       "<style>\n",
       ".list-inline {list-style: none; margin:0; padding: 0}\n",
       ".list-inline>li {display: inline-block}\n",
       ".list-inline>li:not(:last-child)::after {content: \"\\00b7\"; padding: 0 .5ex}\n",
       "</style>\n",
       "<ol class=list-inline><li>'a1'</li><li>'a2'</li><li>'a3'</li></ol>\n"
      ],
      "text/latex": [
       "\\begin{enumerate*}\n",
       "\\item 'a1'\n",
       "\\item 'a2'\n",
       "\\item 'a3'\n",
       "\\end{enumerate*}\n"
      ],
      "text/markdown": [
       "1. 'a1'\n",
       "2. 'a2'\n",
       "3. 'a3'\n",
       "\n",
       "\n"
      ],
      "text/plain": [
       "[1] \"a1\" \"a2\" \"a3\""
      ]
     },
     "metadata": {},
     "output_type": "display_data"
    },
    {
     "data": {
      "text/html": [
       "<style>\n",
       ".list-inline {list-style: none; margin:0; padding: 0}\n",
       ".list-inline>li {display: inline-block}\n",
       ".list-inline>li:not(:last-child)::after {content: \"\\00b7\"; padding: 0 .5ex}\n",
       "</style>\n",
       "<ol class=list-inline><li>'b1'</li><li>'b2'</li><li>'b3'</li><li>'b4'</li><li>'b5'</li><li>'b6'</li></ol>\n"
      ],
      "text/latex": [
       "\\begin{enumerate*}\n",
       "\\item 'b1'\n",
       "\\item 'b2'\n",
       "\\item 'b3'\n",
       "\\item 'b4'\n",
       "\\item 'b5'\n",
       "\\item 'b6'\n",
       "\\end{enumerate*}\n"
      ],
      "text/markdown": [
       "1. 'b1'\n",
       "2. 'b2'\n",
       "3. 'b3'\n",
       "4. 'b4'\n",
       "5. 'b5'\n",
       "6. 'b6'\n",
       "\n",
       "\n"
      ],
      "text/plain": [
       "[1] \"b1\" \"b2\" \"b3\" \"b4\" \"b5\" \"b6\""
      ]
     },
     "metadata": {},
     "output_type": "display_data"
    },
    {
     "data": {
      "text/html": [
       "6"
      ],
      "text/latex": [
       "6"
      ],
      "text/markdown": [
       "6"
      ],
      "text/plain": [
       "[1] 6"
      ]
     },
     "metadata": {},
     "output_type": "display_data"
    },
    {
     "data": {
      "text/html": [
       "3"
      ],
      "text/latex": [
       "3"
      ],
      "text/markdown": [
       "3"
      ],
      "text/plain": [
       "[1] 3"
      ]
     },
     "metadata": {},
     "output_type": "display_data"
    },
    {
     "data": {
      "text/html": [
       "<style>\n",
       ".list-inline {list-style: none; margin:0; padding: 0}\n",
       ".list-inline>li {display: inline-block}\n",
       ".list-inline>li:not(:last-child)::after {content: \"\\00b7\"; padding: 0 .5ex}\n",
       "</style>\n",
       "<ol class=list-inline><li>6</li><li>3</li></ol>\n"
      ],
      "text/latex": [
       "\\begin{enumerate*}\n",
       "\\item 6\n",
       "\\item 3\n",
       "\\end{enumerate*}\n"
      ],
      "text/markdown": [
       "1. 6\n",
       "2. 3\n",
       "\n",
       "\n"
      ],
      "text/plain": [
       "[1] 6 3"
      ]
     },
     "metadata": {},
     "output_type": "display_data"
    },
    {
     "data": {
      "text/html": [
       "<ol>\n",
       "\t<li><style>\n",
       ".list-inline {list-style: none; margin:0; padding: 0}\n",
       ".list-inline>li {display: inline-block}\n",
       ".list-inline>li:not(:last-child)::after {content: \"\\00b7\"; padding: 0 .5ex}\n",
       "</style>\n",
       "<ol class=list-inline><li>'b1'</li><li>'b2'</li><li>'b3'</li><li>'b4'</li><li>'b5'</li><li>'b6'</li></ol>\n",
       "</li>\n",
       "\t<li><style>\n",
       ".list-inline {list-style: none; margin:0; padding: 0}\n",
       ".list-inline>li {display: inline-block}\n",
       ".list-inline>li:not(:last-child)::after {content: \"\\00b7\"; padding: 0 .5ex}\n",
       "</style>\n",
       "<ol class=list-inline><li>'a1'</li><li>'a2'</li><li>'a3'</li></ol>\n",
       "</li>\n",
       "</ol>\n"
      ],
      "text/latex": [
       "\\begin{enumerate}\n",
       "\\item \\begin{enumerate*}\n",
       "\\item 'b1'\n",
       "\\item 'b2'\n",
       "\\item 'b3'\n",
       "\\item 'b4'\n",
       "\\item 'b5'\n",
       "\\item 'b6'\n",
       "\\end{enumerate*}\n",
       "\n",
       "\\item \\begin{enumerate*}\n",
       "\\item 'a1'\n",
       "\\item 'a2'\n",
       "\\item 'a3'\n",
       "\\end{enumerate*}\n",
       "\n",
       "\\end{enumerate}\n"
      ],
      "text/markdown": [
       "1. 1. 'b1'\n",
       "2. 'b2'\n",
       "3. 'b3'\n",
       "4. 'b4'\n",
       "5. 'b5'\n",
       "6. 'b6'\n",
       "\n",
       "\n",
       "\n",
       "2. 1. 'a1'\n",
       "2. 'a2'\n",
       "3. 'a3'\n",
       "\n",
       "\n",
       "\n",
       "\n",
       "\n"
      ],
      "text/plain": [
       "[[1]]\n",
       "[1] \"b1\" \"b2\" \"b3\" \"b4\" \"b5\" \"b6\"\n",
       "\n",
       "[[2]]\n",
       "[1] \"a1\" \"a2\" \"a3\"\n"
      ]
     },
     "metadata": {},
     "output_type": "display_data"
    }
   ],
   "source": [
    "colnames(t_matrix) <- c(\"a1\",\"a2\",\"a3\") \n",
    "colnames(t_matrix)\n",
    "row.names(t_matrix) <- c(\"b1\",\"b2\",\"b3\",\"b4\",\"b5\",\"b6\")\n",
    "rownames(t_matrix)\n",
    "nrow(t_matrix)\n",
    "ncol(t_matrix)\n",
    "dim(t_matrix)\n",
    "dimnames(t_matrix)"
   ]
  },
  {
   "cell_type": "code",
   "execution_count": 159,
   "metadata": {},
   "outputs": [
    {
     "data": {
      "text/html": [
       "<style>\n",
       ".dl-inline {width: auto; margin:0; padding: 0}\n",
       ".dl-inline>dt, .dl-inline>dd {float: none; width: auto; display: inline-block}\n",
       ".dl-inline>dt::after {content: \":\\0020\"; padding-right: .5ex}\n",
       ".dl-inline>dt:not(:first-of-type) {padding-left: .5ex}\n",
       "</style><dl class=dl-inline><dt>a1</dt><dd>1</dd><dt>a2</dt><dd>7</dd><dt>a3</dt><dd>13</dd></dl>\n"
      ],
      "text/latex": [
       "\\begin{description*}\n",
       "\\item[a1] 1\n",
       "\\item[a2] 7\n",
       "\\item[a3] 13\n",
       "\\end{description*}\n"
      ],
      "text/markdown": [
       "a1\n",
       ":   1a2\n",
       ":   7a3\n",
       ":   13\n",
       "\n"
      ],
      "text/plain": [
       "a1 a2 a3 \n",
       " 1  7 13 "
      ]
     },
     "metadata": {},
     "output_type": "display_data"
    },
    {
     "data": {
      "text/html": [
       "<style>\n",
       ".dl-inline {width: auto; margin:0; padding: 0}\n",
       ".dl-inline>dt, .dl-inline>dd {float: none; width: auto; display: inline-block}\n",
       ".dl-inline>dt::after {content: \":\\0020\"; padding-right: .5ex}\n",
       ".dl-inline>dt:not(:first-of-type) {padding-left: .5ex}\n",
       "</style><dl class=dl-inline><dt>b1</dt><dd>1</dd><dt>b2</dt><dd>2</dd><dt>b3</dt><dd>3</dd><dt>b4</dt><dd>4</dd><dt>b5</dt><dd>5</dd><dt>b6</dt><dd>6</dd></dl>\n"
      ],
      "text/latex": [
       "\\begin{description*}\n",
       "\\item[b1] 1\n",
       "\\item[b2] 2\n",
       "\\item[b3] 3\n",
       "\\item[b4] 4\n",
       "\\item[b5] 5\n",
       "\\item[b6] 6\n",
       "\\end{description*}\n"
      ],
      "text/markdown": [
       "b1\n",
       ":   1b2\n",
       ":   2b3\n",
       ":   3b4\n",
       ":   4b5\n",
       ":   5b6\n",
       ":   6\n",
       "\n"
      ],
      "text/plain": [
       "b1 b2 b3 b4 b5 b6 \n",
       " 1  2  3  4  5  6 "
      ]
     },
     "metadata": {},
     "output_type": "display_data"
    }
   ],
   "source": [
    "t_matrix[1,]\n",
    "t_matrix[,\"a1\"]\n"
   ]
  },
  {
   "cell_type": "code",
   "execution_count": 163,
   "metadata": {},
   "outputs": [
    {
     "data": {
      "text/html": [
       "<style>\n",
       ".list-inline {list-style: none; margin:0; padding: 0}\n",
       ".list-inline>li {display: inline-block}\n",
       ".list-inline>li:not(:last-child)::after {content: \"\\00b7\"; padding: 0 .5ex}\n",
       "</style>\n",
       "<ol class=list-inline><li>6</li><li>5</li><li>4</li><li>3</li><li>2</li><li>1</li></ol>\n"
      ],
      "text/latex": [
       "\\begin{enumerate*}\n",
       "\\item 6\n",
       "\\item 5\n",
       "\\item 4\n",
       "\\item 3\n",
       "\\item 2\n",
       "\\item 1\n",
       "\\end{enumerate*}\n"
      ],
      "text/markdown": [
       "1. 6\n",
       "2. 5\n",
       "3. 4\n",
       "4. 3\n",
       "5. 2\n",
       "6. 1\n",
       "\n",
       "\n"
      ],
      "text/plain": [
       "[1] 6 5 4 3 2 1"
      ]
     },
     "metadata": {},
     "output_type": "display_data"
    },
    {
     "data": {
      "text/html": [
       "<table>\n",
       "<caption>A matrix: 6 × 3 of type int</caption>\n",
       "<thead>\n",
       "\t<tr><th></th><th scope=col>a1</th><th scope=col>a2</th><th scope=col>a3</th></tr>\n",
       "</thead>\n",
       "<tbody>\n",
       "\t<tr><th scope=row>b6</th><td>6</td><td>12</td><td>18</td></tr>\n",
       "\t<tr><th scope=row>b5</th><td>5</td><td>11</td><td>17</td></tr>\n",
       "\t<tr><th scope=row>b4</th><td>4</td><td>10</td><td>16</td></tr>\n",
       "\t<tr><th scope=row>b3</th><td>3</td><td> 9</td><td>15</td></tr>\n",
       "\t<tr><th scope=row>b2</th><td>2</td><td> 8</td><td>14</td></tr>\n",
       "\t<tr><th scope=row>b1</th><td>1</td><td> 7</td><td>13</td></tr>\n",
       "</tbody>\n",
       "</table>\n"
      ],
      "text/latex": [
       "A matrix: 6 × 3 of type int\n",
       "\\begin{tabular}{r|lll}\n",
       "  & a1 & a2 & a3\\\\\n",
       "\\hline\n",
       "\tb6 & 6 & 12 & 18\\\\\n",
       "\tb5 & 5 & 11 & 17\\\\\n",
       "\tb4 & 4 & 10 & 16\\\\\n",
       "\tb3 & 3 &  9 & 15\\\\\n",
       "\tb2 & 2 &  8 & 14\\\\\n",
       "\tb1 & 1 &  7 & 13\\\\\n",
       "\\end{tabular}\n"
      ],
      "text/markdown": [
       "\n",
       "A matrix: 6 × 3 of type int\n",
       "\n",
       "| <!--/--> | a1 | a2 | a3 |\n",
       "|---|---|---|---|\n",
       "| b6 | 6 | 12 | 18 |\n",
       "| b5 | 5 | 11 | 17 |\n",
       "| b4 | 4 | 10 | 16 |\n",
       "| b3 | 3 |  9 | 15 |\n",
       "| b2 | 2 |  8 | 14 |\n",
       "| b1 | 1 |  7 | 13 |\n",
       "\n"
      ],
      "text/plain": [
       "   a1 a2 a3\n",
       "b6 6  12 18\n",
       "b5 5  11 17\n",
       "b4 4  10 16\n",
       "b3 3   9 15\n",
       "b2 2   8 14\n",
       "b1 1   7 13"
      ]
     },
     "metadata": {},
     "output_type": "display_data"
    }
   ],
   "source": [
    "(order_matrix <- order(t_matrix[,\"a1\"],decreasing=T))\n",
    "t_matrix[order_matrix,]"
   ]
  },
  {
   "cell_type": "code",
   "execution_count": 188,
   "metadata": {},
   "outputs": [
    {
     "data": {
      "text/html": [
       "<style>\n",
       ".dl-inline {width: auto; margin:0; padding: 0}\n",
       ".dl-inline>dt, .dl-inline>dd {float: none; width: auto; display: inline-block}\n",
       ".dl-inline>dt::after {content: \":\\0020\"; padding-right: .5ex}\n",
       ".dl-inline>dt:not(:first-of-type) {padding-left: .5ex}\n",
       "</style><dl class=dl-inline><dt>b1</dt><dd>21</dd><dt>b2</dt><dd>24</dd><dt>b3</dt><dd>27</dd><dt>b4</dt><dd>30</dd><dt>b5</dt><dd>33</dd><dt>b6</dt><dd>36</dd></dl>\n"
      ],
      "text/latex": [
       "\\begin{description*}\n",
       "\\item[b1] 21\n",
       "\\item[b2] 24\n",
       "\\item[b3] 27\n",
       "\\item[b4] 30\n",
       "\\item[b5] 33\n",
       "\\item[b6] 36\n",
       "\\end{description*}\n"
      ],
      "text/markdown": [
       "b1\n",
       ":   21b2\n",
       ":   24b3\n",
       ":   27b4\n",
       ":   30b5\n",
       ":   33b6\n",
       ":   36\n",
       "\n"
      ],
      "text/plain": [
       "b1 b2 b3 b4 b5 b6 \n",
       "21 24 27 30 33 36 "
      ]
     },
     "metadata": {},
     "output_type": "display_data"
    },
    {
     "data": {
      "text/html": [
       "<style>\n",
       ".dl-inline {width: auto; margin:0; padding: 0}\n",
       ".dl-inline>dt, .dl-inline>dd {float: none; width: auto; display: inline-block}\n",
       ".dl-inline>dt::after {content: \":\\0020\"; padding-right: .5ex}\n",
       ".dl-inline>dt:not(:first-of-type) {padding-left: .5ex}\n",
       "</style><dl class=dl-inline><dt>a1</dt><dd>21</dd><dt>a2</dt><dd>57</dd><dt>a3</dt><dd>93</dd></dl>\n"
      ],
      "text/latex": [
       "\\begin{description*}\n",
       "\\item[a1] 21\n",
       "\\item[a2] 57\n",
       "\\item[a3] 93\n",
       "\\end{description*}\n"
      ],
      "text/markdown": [
       "a1\n",
       ":   21a2\n",
       ":   57a3\n",
       ":   93\n",
       "\n"
      ],
      "text/plain": [
       "a1 a2 a3 \n",
       "21 57 93 "
      ]
     },
     "metadata": {},
     "output_type": "display_data"
    },
    {
     "data": {
      "text/html": [
       "<style>\n",
       ".dl-inline {width: auto; margin:0; padding: 0}\n",
       ".dl-inline>dt, .dl-inline>dd {float: none; width: auto; display: inline-block}\n",
       ".dl-inline>dt::after {content: \":\\0020\"; padding-right: .5ex}\n",
       ".dl-inline>dt:not(:first-of-type) {padding-left: .5ex}\n",
       "</style><dl class=dl-inline><dt>a1</dt><dd>3.5</dd><dt>a2</dt><dd>9.5</dd><dt>a3</dt><dd>15.5</dd></dl>\n"
      ],
      "text/latex": [
       "\\begin{description*}\n",
       "\\item[a1] 3.5\n",
       "\\item[a2] 9.5\n",
       "\\item[a3] 15.5\n",
       "\\end{description*}\n"
      ],
      "text/markdown": [
       "a1\n",
       ":   3.5a2\n",
       ":   9.5a3\n",
       ":   15.5\n",
       "\n"
      ],
      "text/plain": [
       "  a1   a2   a3 \n",
       " 3.5  9.5 15.5 "
      ]
     },
     "metadata": {},
     "output_type": "display_data"
    },
    {
     "data": {
      "text/html": [
       "'integer'"
      ],
      "text/latex": [
       "'integer'"
      ],
      "text/markdown": [
       "'integer'"
      ],
      "text/plain": [
       "[1] \"integer\""
      ]
     },
     "metadata": {},
     "output_type": "display_data"
    },
    {
     "data": {
      "text/html": [
       "'numeric'"
      ],
      "text/latex": [
       "'numeric'"
      ],
      "text/markdown": [
       "'numeric'"
      ],
      "text/plain": [
       "[1] \"numeric\""
      ]
     },
     "metadata": {},
     "output_type": "display_data"
    }
   ],
   "source": [
    "rowSums(t_matrix)\n",
    "colSums(t_matrix)\n",
    "colMeans(t_matrix)\n",
    "class(apply(t_matrix,1,sum))\n",
    "class(round(apply(t_matrix,1,sum)))\n",
    " # "
   ]
  },
  {
   "cell_type": "markdown",
   "metadata": {},
   "source": [
    "### Data Frame"
   ]
  },
  {
   "cell_type": "code",
   "execution_count": 196,
   "metadata": {},
   "outputs": [
    {
     "data": {
      "text/html": [
       "<table>\n",
       "<caption>A data.frame: 6 × 5</caption>\n",
       "<thead>\n",
       "\t<tr><th scope=col>xm</th><th scope=col>xb</th><th scope=col>yw</th><th scope=col>sx</th><th scope=col>wy</th></tr>\n",
       "\t<tr><th scope=col>&lt;fct&gt;</th><th scope=col>&lt;fct&gt;</th><th scope=col>&lt;dbl&gt;</th><th scope=col>&lt;dbl&gt;</th><th scope=col>&lt;dbl&gt;</th></tr>\n",
       "</thead>\n",
       "<tbody>\n",
       "\t<tr><td>周黎  </td><td>女</td><td>94</td><td>82</td><td>96</td></tr>\n",
       "\t<tr><td>汤海明</td><td>男</td><td>87</td><td>94</td><td>89</td></tr>\n",
       "\t<tr><td>舒江辉</td><td>男</td><td>92</td><td>79</td><td>86</td></tr>\n",
       "\t<tr><td>翁柯  </td><td>女</td><td>91</td><td>84</td><td>96</td></tr>\n",
       "\t<tr><td>祁强  </td><td>男</td><td>85</td><td>92</td><td>82</td></tr>\n",
       "\t<tr><td>湛容  </td><td>女</td><td>92</td><td>82</td><td>85</td></tr>\n",
       "</tbody>\n",
       "</table>\n"
      ],
      "text/latex": [
       "A data.frame: 6 × 5\n",
       "\\begin{tabular}{lllll}\n",
       " xm & xb & yw & sx & wy\\\\\n",
       " <fct> & <fct> & <dbl> & <dbl> & <dbl>\\\\\n",
       "\\hline\n",
       "\t 周黎   & 女 & 94 & 82 & 96\\\\\n",
       "\t 汤海明 & 男 & 87 & 94 & 89\\\\\n",
       "\t 舒江辉 & 男 & 92 & 79 & 86\\\\\n",
       "\t 翁柯   & 女 & 91 & 84 & 96\\\\\n",
       "\t 祁强   & 男 & 85 & 92 & 82\\\\\n",
       "\t 湛容   & 女 & 92 & 82 & 85\\\\\n",
       "\\end{tabular}\n"
      ],
      "text/markdown": [
       "\n",
       "A data.frame: 6 × 5\n",
       "\n",
       "| xm &lt;fct&gt; | xb &lt;fct&gt; | yw &lt;dbl&gt; | sx &lt;dbl&gt; | wy &lt;dbl&gt; |\n",
       "|---|---|---|---|---|\n",
       "| 周黎   | 女 | 94 | 82 | 96 |\n",
       "| 汤海明 | 男 | 87 | 94 | 89 |\n",
       "| 舒江辉 | 男 | 92 | 79 | 86 |\n",
       "| 翁柯   | 女 | 91 | 84 | 96 |\n",
       "| 祁强   | 男 | 85 | 92 | 82 |\n",
       "| 湛容   | 女 | 92 | 82 | 85 |\n",
       "\n"
      ],
      "text/plain": [
       "  xm     xb yw sx wy\n",
       "1 周黎   女 94 82 96\n",
       "2 汤海明 男 87 94 89\n",
       "3 舒江辉 男 92 79 86\n",
       "4 翁柯   女 91 84 96\n",
       "5 祁强   男 85 92 82\n",
       "6 湛容   女 92 82 85"
      ]
     },
     "metadata": {},
     "output_type": "display_data"
    }
   ],
   "source": [
    "xm <- c(\"周黎\", \"汤海明\", \"舒江辉\", \"翁柯\", \"祁强\", \"湛容\")\n",
    "xb <- factor(c(\"女\", \"男\", \"男\", \"女\", \"男\", \"女\"))\n",
    "yw <- c(94, 87, 92, 91, 85, 92)\n",
    "sx <- c(82, 94, 79, 84, 92, 82)\n",
    "wy <- c(96, 89, 86, 96, 82, 85)\n",
    "cjb <- data.frame(\n",
    "    xm = xm,\n",
    "    xb = xb,\n",
    "    yw = yw,\n",
    "    sx = sx,\n",
    "    wy = wy\n",
    ")\n",
    "cjb\n",
    "#注意比较与下述语句的区别\n",
    "#cheng_ji_biao <- cbind(xm, xb, yw, sx, wy)\n",
    "#cheng_ji_biao\n",
    "#class(cheng_ji_biao)\n",
    "\n",
    "\n"
   ]
  },
  {
   "cell_type": "code",
   "execution_count": 198,
   "metadata": {},
   "outputs": [
    {
     "name": "stdout",
     "output_type": "stream",
     "text": [
      "'data.frame':\t6 obs. of  5 variables:\n",
      " $ xm: Factor w/ 6 levels \"周黎\",\"汤海明\",..: 1 2 6 5 4 3\n",
      " $ xb: Factor w/ 2 levels \"女\",\"男\": 1 2 2 1 2 1\n",
      " $ yw: num  94 87 92 91 85 92\n",
      " $ sx: num  82 94 79 84 92 82\n",
      " $ wy: num  96 89 86 96 82 85\n"
     ]
    }
   ],
   "source": [
    "str(cjb)"
   ]
  },
  {
   "cell_type": "code",
   "execution_count": 201,
   "metadata": {},
   "outputs": [
    {
     "name": "stdout",
     "output_type": "stream",
     "text": [
      "'data.frame':\t1 obs. of  5 variables:\n",
      " $ xm: Factor w/ 6 levels \"周黎\",\"汤海明\",..: 1\n",
      " $ xb: Factor w/ 2 levels \"女\",\"男\": 1\n",
      " $ yw: num 94\n",
      " $ sx: num 82\n",
      " $ wy: num 96\n"
     ]
    }
   ],
   "source": [
    "str(cjb[1,])"
   ]
  },
  {
   "cell_type": "code",
   "execution_count": 205,
   "metadata": {},
   "outputs": [
    {
     "data": {
      "text/html": [
       "'list'"
      ],
      "text/latex": [
       "'list'"
      ],
      "text/markdown": [
       "'list'"
      ],
      "text/plain": [
       "[1] \"list\""
      ]
     },
     "metadata": {},
     "output_type": "display_data"
    },
    {
     "data": {
      "text/html": [
       "'data.frame'"
      ],
      "text/latex": [
       "'data.frame'"
      ],
      "text/markdown": [
       "'data.frame'"
      ],
      "text/plain": [
       "[1] \"data.frame\""
      ]
     },
     "metadata": {},
     "output_type": "display_data"
    },
    {
     "name": "stdout",
     "output_type": "stream",
     "text": [
      " Factor w/ 6 levels \"周黎\",\"汤海明\",..: 1 2 6 5 4 3\n"
     ]
    }
   ],
   "source": [
    "typeof(cjb)\n",
    "class(cjb)\n",
    "str(cjb[,1])"
   ]
  },
  {
   "cell_type": "code",
   "execution_count": 209,
   "metadata": {},
   "outputs": [
    {
     "data": {
      "text/html": [
       "<style>\n",
       ".list-inline {list-style: none; margin:0; padding: 0}\n",
       ".list-inline>li {display: inline-block}\n",
       ".list-inline>li:not(:last-child)::after {content: \"\\00b7\"; padding: 0 .5ex}\n",
       "</style>\n",
       "<ol class=list-inline><li>周黎</li><li>汤海明</li><li>舒江辉</li><li>翁柯</li><li>祁强</li><li>湛容</li></ol>\n",
       "\n",
       "<details>\n",
       "\t<summary style=display:list-item;cursor:pointer>\n",
       "\t\t<strong>Levels</strong>:\n",
       "\t</summary>\n",
       "\t<style>\n",
       "\t.list-inline {list-style: none; margin:0; padding: 0}\n",
       "\t.list-inline>li {display: inline-block}\n",
       "\t.list-inline>li:not(:last-child)::after {content: \"\\00b7\"; padding: 0 .5ex}\n",
       "\t</style>\n",
       "\t<ol class=list-inline><li>'周黎'</li><li>'汤海明'</li><li>'湛容'</li><li>'祁强'</li><li>'翁柯'</li><li>'舒江辉'</li></ol>\n",
       "</details>"
      ],
      "text/latex": [
       "\\begin{enumerate*}\n",
       "\\item 周黎\n",
       "\\item 汤海明\n",
       "\\item 舒江辉\n",
       "\\item 翁柯\n",
       "\\item 祁强\n",
       "\\item 湛容\n",
       "\\end{enumerate*}\n",
       "\n",
       "\\emph{Levels}: \\begin{enumerate*}\n",
       "\\item '周黎'\n",
       "\\item '汤海明'\n",
       "\\item '湛容'\n",
       "\\item '祁强'\n",
       "\\item '翁柯'\n",
       "\\item '舒江辉'\n",
       "\\end{enumerate*}\n"
      ],
      "text/markdown": [
       "1. 周黎\n",
       "2. 汤海明\n",
       "3. 舒江辉\n",
       "4. 翁柯\n",
       "5. 祁强\n",
       "6. 湛容\n",
       "\n",
       "\n",
       "\n",
       "**Levels**: 1. '周黎'\n",
       "2. '汤海明'\n",
       "3. '湛容'\n",
       "4. '祁强'\n",
       "5. '翁柯'\n",
       "6. '舒江辉'\n",
       "\n",
       "\n"
      ],
      "text/plain": [
       "[1] 周黎   汤海明 舒江辉 翁柯   祁强   湛容  \n",
       "Levels: 周黎 汤海明 湛容 祁强 翁柯 舒江辉"
      ]
     },
     "metadata": {},
     "output_type": "display_data"
    },
    {
     "data": {
      "text/html": [
       "<style>\n",
       ".list-inline {list-style: none; margin:0; padding: 0}\n",
       ".list-inline>li {display: inline-block}\n",
       ".list-inline>li:not(:last-child)::after {content: \"\\00b7\"; padding: 0 .5ex}\n",
       "</style>\n",
       "<ol class=list-inline><li>周黎</li><li>汤海明</li><li>舒江辉</li><li>翁柯</li><li>祁强</li><li>湛容</li></ol>\n",
       "\n",
       "<details>\n",
       "\t<summary style=display:list-item;cursor:pointer>\n",
       "\t\t<strong>Levels</strong>:\n",
       "\t</summary>\n",
       "\t<style>\n",
       "\t.list-inline {list-style: none; margin:0; padding: 0}\n",
       "\t.list-inline>li {display: inline-block}\n",
       "\t.list-inline>li:not(:last-child)::after {content: \"\\00b7\"; padding: 0 .5ex}\n",
       "\t</style>\n",
       "\t<ol class=list-inline><li>'周黎'</li><li>'汤海明'</li><li>'湛容'</li><li>'祁强'</li><li>'翁柯'</li><li>'舒江辉'</li></ol>\n",
       "</details>"
      ],
      "text/latex": [
       "\\begin{enumerate*}\n",
       "\\item 周黎\n",
       "\\item 汤海明\n",
       "\\item 舒江辉\n",
       "\\item 翁柯\n",
       "\\item 祁强\n",
       "\\item 湛容\n",
       "\\end{enumerate*}\n",
       "\n",
       "\\emph{Levels}: \\begin{enumerate*}\n",
       "\\item '周黎'\n",
       "\\item '汤海明'\n",
       "\\item '湛容'\n",
       "\\item '祁强'\n",
       "\\item '翁柯'\n",
       "\\item '舒江辉'\n",
       "\\end{enumerate*}\n"
      ],
      "text/markdown": [
       "1. 周黎\n",
       "2. 汤海明\n",
       "3. 舒江辉\n",
       "4. 翁柯\n",
       "5. 祁强\n",
       "6. 湛容\n",
       "\n",
       "\n",
       "\n",
       "**Levels**: 1. '周黎'\n",
       "2. '汤海明'\n",
       "3. '湛容'\n",
       "4. '祁强'\n",
       "5. '翁柯'\n",
       "6. '舒江辉'\n",
       "\n",
       "\n"
      ],
      "text/plain": [
       "[1] 周黎   汤海明 舒江辉 翁柯   祁强   湛容  \n",
       "Levels: 周黎 汤海明 湛容 祁强 翁柯 舒江辉"
      ]
     },
     "metadata": {},
     "output_type": "display_data"
    },
    {
     "data": {
      "text/html": [
       "<style>\n",
       ".list-inline {list-style: none; margin:0; padding: 0}\n",
       ".list-inline>li {display: inline-block}\n",
       ".list-inline>li:not(:last-child)::after {content: \"\\00b7\"; padding: 0 .5ex}\n",
       "</style>\n",
       "<ol class=list-inline><li>周黎</li><li>汤海明</li><li>舒江辉</li><li>翁柯</li><li>祁强</li><li>湛容</li></ol>\n",
       "\n",
       "<details>\n",
       "\t<summary style=display:list-item;cursor:pointer>\n",
       "\t\t<strong>Levels</strong>:\n",
       "\t</summary>\n",
       "\t<style>\n",
       "\t.list-inline {list-style: none; margin:0; padding: 0}\n",
       "\t.list-inline>li {display: inline-block}\n",
       "\t.list-inline>li:not(:last-child)::after {content: \"\\00b7\"; padding: 0 .5ex}\n",
       "\t</style>\n",
       "\t<ol class=list-inline><li>'周黎'</li><li>'汤海明'</li><li>'湛容'</li><li>'祁强'</li><li>'翁柯'</li><li>'舒江辉'</li></ol>\n",
       "</details>"
      ],
      "text/latex": [
       "\\begin{enumerate*}\n",
       "\\item 周黎\n",
       "\\item 汤海明\n",
       "\\item 舒江辉\n",
       "\\item 翁柯\n",
       "\\item 祁强\n",
       "\\item 湛容\n",
       "\\end{enumerate*}\n",
       "\n",
       "\\emph{Levels}: \\begin{enumerate*}\n",
       "\\item '周黎'\n",
       "\\item '汤海明'\n",
       "\\item '湛容'\n",
       "\\item '祁强'\n",
       "\\item '翁柯'\n",
       "\\item '舒江辉'\n",
       "\\end{enumerate*}\n"
      ],
      "text/markdown": [
       "1. 周黎\n",
       "2. 汤海明\n",
       "3. 舒江辉\n",
       "4. 翁柯\n",
       "5. 祁强\n",
       "6. 湛容\n",
       "\n",
       "\n",
       "\n",
       "**Levels**: 1. '周黎'\n",
       "2. '汤海明'\n",
       "3. '湛容'\n",
       "4. '祁强'\n",
       "5. '翁柯'\n",
       "6. '舒江辉'\n",
       "\n",
       "\n"
      ],
      "text/plain": [
       "[1] 周黎   汤海明 舒江辉 翁柯   祁强   湛容  \n",
       "Levels: 周黎 汤海明 湛容 祁强 翁柯 舒江辉"
      ]
     },
     "metadata": {},
     "output_type": "display_data"
    }
   ],
   "source": [
    "cjb$xm\n",
    "cjb[[1]]\n",
    "cjb[[\"xm\"]]"
   ]
  },
  {
   "cell_type": "code",
   "execution_count": 215,
   "metadata": {},
   "outputs": [
    {
     "data": {
      "text/html": [
       "<style>\n",
       ".list-inline {list-style: none; margin:0; padding: 0}\n",
       ".list-inline>li {display: inline-block}\n",
       ".list-inline>li:not(:last-child)::after {content: \"\\00b7\"; padding: 0 .5ex}\n",
       "</style>\n",
       "<ol class=list-inline><li>周黎</li><li>汤海明</li><li>舒江辉</li><li>翁柯</li><li>祁强</li><li>湛容</li></ol>\n",
       "\n",
       "<details>\n",
       "\t<summary style=display:list-item;cursor:pointer>\n",
       "\t\t<strong>Levels</strong>:\n",
       "\t</summary>\n",
       "\t<style>\n",
       "\t.list-inline {list-style: none; margin:0; padding: 0}\n",
       "\t.list-inline>li {display: inline-block}\n",
       "\t.list-inline>li:not(:last-child)::after {content: \"\\00b7\"; padding: 0 .5ex}\n",
       "\t</style>\n",
       "\t<ol class=list-inline><li>'周黎'</li><li>'汤海明'</li><li>'湛容'</li><li>'祁强'</li><li>'翁柯'</li><li>'舒江辉'</li></ol>\n",
       "</details>"
      ],
      "text/latex": [
       "\\begin{enumerate*}\n",
       "\\item 周黎\n",
       "\\item 汤海明\n",
       "\\item 舒江辉\n",
       "\\item 翁柯\n",
       "\\item 祁强\n",
       "\\item 湛容\n",
       "\\end{enumerate*}\n",
       "\n",
       "\\emph{Levels}: \\begin{enumerate*}\n",
       "\\item '周黎'\n",
       "\\item '汤海明'\n",
       "\\item '湛容'\n",
       "\\item '祁强'\n",
       "\\item '翁柯'\n",
       "\\item '舒江辉'\n",
       "\\end{enumerate*}\n"
      ],
      "text/markdown": [
       "1. 周黎\n",
       "2. 汤海明\n",
       "3. 舒江辉\n",
       "4. 翁柯\n",
       "5. 祁强\n",
       "6. 湛容\n",
       "\n",
       "\n",
       "\n",
       "**Levels**: 1. '周黎'\n",
       "2. '汤海明'\n",
       "3. '湛容'\n",
       "4. '祁强'\n",
       "5. '翁柯'\n",
       "6. '舒江辉'\n",
       "\n",
       "\n"
      ],
      "text/plain": [
       "[1] 周黎   汤海明 舒江辉 翁柯   祁强   湛容  \n",
       "Levels: 周黎 汤海明 湛容 祁强 翁柯 舒江辉"
      ]
     },
     "metadata": {},
     "output_type": "display_data"
    },
    {
     "data": {
      "text/html": [
       "<style>\n",
       ".list-inline {list-style: none; margin:0; padding: 0}\n",
       ".list-inline>li {display: inline-block}\n",
       ".list-inline>li:not(:last-child)::after {content: \"\\00b7\"; padding: 0 .5ex}\n",
       "</style>\n",
       "<ol class=list-inline><li>周黎</li><li>汤海明</li><li>舒江辉</li><li>翁柯</li><li>祁强</li><li>湛容</li></ol>\n",
       "\n",
       "<details>\n",
       "\t<summary style=display:list-item;cursor:pointer>\n",
       "\t\t<strong>Levels</strong>:\n",
       "\t</summary>\n",
       "\t<style>\n",
       "\t.list-inline {list-style: none; margin:0; padding: 0}\n",
       "\t.list-inline>li {display: inline-block}\n",
       "\t.list-inline>li:not(:last-child)::after {content: \"\\00b7\"; padding: 0 .5ex}\n",
       "\t</style>\n",
       "\t<ol class=list-inline><li>'周黎'</li><li>'汤海明'</li><li>'湛容'</li><li>'祁强'</li><li>'翁柯'</li><li>'舒江辉'</li></ol>\n",
       "</details>"
      ],
      "text/latex": [
       "\\begin{enumerate*}\n",
       "\\item 周黎\n",
       "\\item 汤海明\n",
       "\\item 舒江辉\n",
       "\\item 翁柯\n",
       "\\item 祁强\n",
       "\\item 湛容\n",
       "\\end{enumerate*}\n",
       "\n",
       "\\emph{Levels}: \\begin{enumerate*}\n",
       "\\item '周黎'\n",
       "\\item '汤海明'\n",
       "\\item '湛容'\n",
       "\\item '祁强'\n",
       "\\item '翁柯'\n",
       "\\item '舒江辉'\n",
       "\\end{enumerate*}\n"
      ],
      "text/markdown": [
       "1. 周黎\n",
       "2. 汤海明\n",
       "3. 舒江辉\n",
       "4. 翁柯\n",
       "5. 祁强\n",
       "6. 湛容\n",
       "\n",
       "\n",
       "\n",
       "**Levels**: 1. '周黎'\n",
       "2. '汤海明'\n",
       "3. '湛容'\n",
       "4. '祁强'\n",
       "5. '翁柯'\n",
       "6. '舒江辉'\n",
       "\n",
       "\n"
      ],
      "text/plain": [
       "[1] 周黎   汤海明 舒江辉 翁柯   祁强   湛容  \n",
       "Levels: 周黎 汤海明 湛容 祁强 翁柯 舒江辉"
      ]
     },
     "metadata": {},
     "output_type": "display_data"
    }
   ],
   "source": [
    "cjb[,1]\n",
    "cjb[,'xm']"
   ]
  },
  {
   "cell_type": "code",
   "execution_count": 229,
   "metadata": {},
   "outputs": [
    {
     "data": {
      "text/html": [
       "<table>\n",
       "<caption>A data.frame: 3 × 13</caption>\n",
       "<thead>\n",
       "\t<tr><th></th><th scope=col>xm</th><th scope=col>bj</th><th scope=col>xb</th><th scope=col>yw</th><th scope=col>sx</th><th scope=col>wy</th><th scope=col>zz</th><th scope=col>ls</th><th scope=col>dl</th><th scope=col>wl</th><th scope=col>hx</th><th scope=col>sw</th><th scope=col>wlfk</th></tr>\n",
       "\t<tr><th></th><th scope=col>&lt;fct&gt;</th><th scope=col>&lt;int&gt;</th><th scope=col>&lt;fct&gt;</th><th scope=col>&lt;int&gt;</th><th scope=col>&lt;int&gt;</th><th scope=col>&lt;int&gt;</th><th scope=col>&lt;int&gt;</th><th scope=col>&lt;int&gt;</th><th scope=col>&lt;int&gt;</th><th scope=col>&lt;int&gt;</th><th scope=col>&lt;int&gt;</th><th scope=col>&lt;int&gt;</th><th scope=col>&lt;fct&gt;</th></tr>\n",
       "</thead>\n",
       "<tbody>\n",
       "\t<tr><th scope=row>773</th><td>徐宏平</td><td>1115</td><td>男</td><td>85</td><td>59</td><td>89</td><td>80</td><td>85</td><td>82</td><td>61</td><td>64</td><td>75</td><td>理科</td></tr>\n",
       "\t<tr><th scope=row>774</th><td>昌肖峰</td><td>1115</td><td>男</td><td>81</td><td>62</td><td>76</td><td>89</td><td>76</td><td>91</td><td>49</td><td>68</td><td>74</td><td>理科</td></tr>\n",
       "\t<tr><th scope=row>775</th><td>郑慕海</td><td>1115</td><td>男</td><td>72</td><td>59</td><td>82</td><td>92</td><td>85</td><td>82</td><td>59</td><td>58</td><td>55</td><td>理科</td></tr>\n",
       "</tbody>\n",
       "</table>\n"
      ],
      "text/latex": [
       "A data.frame: 3 × 13\n",
       "\\begin{tabular}{r|lllllllllllll}\n",
       "  & xm & bj & xb & yw & sx & wy & zz & ls & dl & wl & hx & sw & wlfk\\\\\n",
       "  & <fct> & <int> & <fct> & <int> & <int> & <int> & <int> & <int> & <int> & <int> & <int> & <int> & <fct>\\\\\n",
       "\\hline\n",
       "\t773 & 徐宏平 & 1115 & 男 & 85 & 59 & 89 & 80 & 85 & 82 & 61 & 64 & 75 & 理科\\\\\n",
       "\t774 & 昌肖峰 & 1115 & 男 & 81 & 62 & 76 & 89 & 76 & 91 & 49 & 68 & 74 & 理科\\\\\n",
       "\t775 & 郑慕海 & 1115 & 男 & 72 & 59 & 82 & 92 & 85 & 82 & 59 & 58 & 55 & 理科\\\\\n",
       "\\end{tabular}\n"
      ],
      "text/markdown": [
       "\n",
       "A data.frame: 3 × 13\n",
       "\n",
       "| <!--/--> | xm &lt;fct&gt; | bj &lt;int&gt; | xb &lt;fct&gt; | yw &lt;int&gt; | sx &lt;int&gt; | wy &lt;int&gt; | zz &lt;int&gt; | ls &lt;int&gt; | dl &lt;int&gt; | wl &lt;int&gt; | hx &lt;int&gt; | sw &lt;int&gt; | wlfk &lt;fct&gt; |\n",
       "|---|---|---|---|---|---|---|---|---|---|---|---|---|---|\n",
       "| 773 | 徐宏平 | 1115 | 男 | 85 | 59 | 89 | 80 | 85 | 82 | 61 | 64 | 75 | 理科 |\n",
       "| 774 | 昌肖峰 | 1115 | 男 | 81 | 62 | 76 | 89 | 76 | 91 | 49 | 68 | 74 | 理科 |\n",
       "| 775 | 郑慕海 | 1115 | 男 | 72 | 59 | 82 | 92 | 85 | 82 | 59 | 58 | 55 | 理科 |\n",
       "\n"
      ],
      "text/plain": [
       "    xm     bj   xb yw sx wy zz ls dl wl hx sw wlfk\n",
       "773 徐宏平 1115 男 85 59 89 80 85 82 61 64 75 理科\n",
       "774 昌肖峰 1115 男 81 62 76 89 76 91 49 68 74 理科\n",
       "775 郑慕海 1115 男 72 59 82 92 85 82 59 58 55 理科"
      ]
     },
     "metadata": {},
     "output_type": "display_data"
    }
   ],
   "source": [
    "cjb <- read.csv(\"data/cjb.csv\")\n",
    "tail(cjb,n=3)"
   ]
  },
  {
   "cell_type": "code",
   "execution_count": 232,
   "metadata": {},
   "outputs": [
    {
     "name": "stdout",
     "output_type": "stream",
     "text": [
      "'data.frame':\t775 obs. of  13 variables:\n",
      " $ xm  : chr  \"周黎\" \"汤海明\" \"舒江辉\" \"翁柯\" ...\n",
      " $ bj  : int  1101 1101 1101 1101 1101 1101 1101 1101 1101 1101 ...\n",
      " $ xb  : Factor w/ 2 levels \"女\",\"男\": 1 2 2 1 2 1 1 2 1 1 ...\n",
      " $ yw  : int  94 87 92 91 85 92 88 81 88 94 ...\n",
      " $ sx  : int  82 94 79 84 92 82 72 89 77 81 ...\n",
      " $ wy  : int  96 89 86 96 82 85 86 87 95 88 ...\n",
      " $ zz  : int  97 95 98 93 93 91 94 97 94 91 ...\n",
      " $ ls  : int  97 94 95 97 87 90 87 94 84 85 ...\n",
      " $ dl  : int  98 94 96 94 88 92 88 96 94 98 ...\n",
      " $ wl  : int  95 90 89 82 95 82 89 81 87 81 ...\n",
      " $ hx  : int  94 90 94 90 94 98 98 88 94 88 ...\n",
      " $ sw  : int  88 89 87 83 93 90 94 83 82 88 ...\n",
      " $ wlfk: Factor w/ 2 levels \"文科\",\"理科\": 1 1 1 1 1 1 1 1 1 1 ...\n",
      "'data.frame':\t775 obs. of  13 variables:\n",
      " $ xm  : chr  \"周黎\" \"汤海明\" \"舒江辉\" \"翁柯\" ...\n",
      " $ bj  : int  1101 1101 1101 1101 1101 1101 1101 1101 1101 1101 ...\n",
      " $ xb  : Factor w/ 2 levels \"女\",\"男\": 1 2 2 1 2 1 1 2 1 1 ...\n",
      " $ yw  : int  94 87 92 91 85 92 88 81 88 94 ...\n",
      " $ sx  : int  82 94 79 84 92 82 72 89 77 81 ...\n",
      " $ wy  : int  96 89 86 96 82 85 86 87 95 88 ...\n",
      " $ zz  : int  97 95 98 93 93 91 94 97 94 91 ...\n",
      " $ ls  : int  97 94 95 97 87 90 87 94 84 85 ...\n",
      " $ dl  : int  98 94 96 94 88 92 88 96 94 98 ...\n",
      " $ wl  : int  95 90 89 82 95 82 89 81 87 81 ...\n",
      " $ hx  : int  94 90 94 90 94 98 98 88 94 88 ...\n",
      " $ sw  : int  88 89 87 83 93 90 94 83 82 88 ...\n",
      " $ wlfk: Factor w/ 2 levels \"文科\",\"理科\": 1 1 1 1 1 1 1 1 1 1 ...\n"
     ]
    },
    {
     "data": {
      "text/html": [
       "<table>\n",
       "<caption>A data.frame: 6 × 13</caption>\n",
       "<thead>\n",
       "\t<tr><th></th><th scope=col>xm</th><th scope=col>bj</th><th scope=col>xb</th><th scope=col>yw</th><th scope=col>sx</th><th scope=col>wy</th><th scope=col>zz</th><th scope=col>ls</th><th scope=col>dl</th><th scope=col>wl</th><th scope=col>hx</th><th scope=col>sw</th><th scope=col>wlfk</th></tr>\n",
       "\t<tr><th></th><th scope=col>&lt;chr&gt;</th><th scope=col>&lt;int&gt;</th><th scope=col>&lt;fct&gt;</th><th scope=col>&lt;int&gt;</th><th scope=col>&lt;int&gt;</th><th scope=col>&lt;int&gt;</th><th scope=col>&lt;int&gt;</th><th scope=col>&lt;int&gt;</th><th scope=col>&lt;int&gt;</th><th scope=col>&lt;int&gt;</th><th scope=col>&lt;int&gt;</th><th scope=col>&lt;int&gt;</th><th scope=col>&lt;fct&gt;</th></tr>\n",
       "</thead>\n",
       "<tbody>\n",
       "\t<tr><th scope=row>770</th><td>瞿兵  </td><td>1115</td><td>男</td><td>88</td><td>68</td><td>77</td><td>91</td><td> 82</td><td>87</td><td>62</td><td>88</td><td>67</td><td>理科</td></tr>\n",
       "\t<tr><th scope=row>771</th><td>谈莞发</td><td>1115</td><td>男</td><td>79</td><td>78</td><td>70</td><td>83</td><td> 86</td><td>86</td><td>76</td><td>78</td><td>70</td><td>理科</td></tr>\n",
       "\t<tr><th scope=row>772</th><td>应上清</td><td>1115</td><td>男</td><td>87</td><td>63</td><td>55</td><td>93</td><td>100</td><td>94</td><td>43</td><td>88</td><td>82</td><td>理科</td></tr>\n",
       "\t<tr><th scope=row>773</th><td>徐宏平</td><td>1115</td><td>男</td><td>85</td><td>59</td><td>89</td><td>80</td><td> 85</td><td>82</td><td>61</td><td>64</td><td>75</td><td>理科</td></tr>\n",
       "\t<tr><th scope=row>774</th><td>昌肖峰</td><td>1115</td><td>男</td><td>81</td><td>62</td><td>76</td><td>89</td><td> 76</td><td>91</td><td>49</td><td>68</td><td>74</td><td>理科</td></tr>\n",
       "\t<tr><th scope=row>775</th><td>郑慕海</td><td>1115</td><td>男</td><td>72</td><td>59</td><td>82</td><td>92</td><td> 85</td><td>82</td><td>59</td><td>58</td><td>55</td><td>理科</td></tr>\n",
       "</tbody>\n",
       "</table>\n"
      ],
      "text/latex": [
       "A data.frame: 6 × 13\n",
       "\\begin{tabular}{r|lllllllllllll}\n",
       "  & xm & bj & xb & yw & sx & wy & zz & ls & dl & wl & hx & sw & wlfk\\\\\n",
       "  & <chr> & <int> & <fct> & <int> & <int> & <int> & <int> & <int> & <int> & <int> & <int> & <int> & <fct>\\\\\n",
       "\\hline\n",
       "\t770 & 瞿兵   & 1115 & 男 & 88 & 68 & 77 & 91 &  82 & 87 & 62 & 88 & 67 & 理科\\\\\n",
       "\t771 & 谈莞发 & 1115 & 男 & 79 & 78 & 70 & 83 &  86 & 86 & 76 & 78 & 70 & 理科\\\\\n",
       "\t772 & 应上清 & 1115 & 男 & 87 & 63 & 55 & 93 & 100 & 94 & 43 & 88 & 82 & 理科\\\\\n",
       "\t773 & 徐宏平 & 1115 & 男 & 85 & 59 & 89 & 80 &  85 & 82 & 61 & 64 & 75 & 理科\\\\\n",
       "\t774 & 昌肖峰 & 1115 & 男 & 81 & 62 & 76 & 89 &  76 & 91 & 49 & 68 & 74 & 理科\\\\\n",
       "\t775 & 郑慕海 & 1115 & 男 & 72 & 59 & 82 & 92 &  85 & 82 & 59 & 58 & 55 & 理科\\\\\n",
       "\\end{tabular}\n"
      ],
      "text/markdown": [
       "\n",
       "A data.frame: 6 × 13\n",
       "\n",
       "| <!--/--> | xm &lt;chr&gt; | bj &lt;int&gt; | xb &lt;fct&gt; | yw &lt;int&gt; | sx &lt;int&gt; | wy &lt;int&gt; | zz &lt;int&gt; | ls &lt;int&gt; | dl &lt;int&gt; | wl &lt;int&gt; | hx &lt;int&gt; | sw &lt;int&gt; | wlfk &lt;fct&gt; |\n",
       "|---|---|---|---|---|---|---|---|---|---|---|---|---|---|\n",
       "| 770 | 瞿兵   | 1115 | 男 | 88 | 68 | 77 | 91 |  82 | 87 | 62 | 88 | 67 | 理科 |\n",
       "| 771 | 谈莞发 | 1115 | 男 | 79 | 78 | 70 | 83 |  86 | 86 | 76 | 78 | 70 | 理科 |\n",
       "| 772 | 应上清 | 1115 | 男 | 87 | 63 | 55 | 93 | 100 | 94 | 43 | 88 | 82 | 理科 |\n",
       "| 773 | 徐宏平 | 1115 | 男 | 85 | 59 | 89 | 80 |  85 | 82 | 61 | 64 | 75 | 理科 |\n",
       "| 774 | 昌肖峰 | 1115 | 男 | 81 | 62 | 76 | 89 |  76 | 91 | 49 | 68 | 74 | 理科 |\n",
       "| 775 | 郑慕海 | 1115 | 男 | 72 | 59 | 82 | 92 |  85 | 82 | 59 | 58 | 55 | 理科 |\n",
       "\n"
      ],
      "text/plain": [
       "    xm     bj   xb yw sx wy zz ls  dl wl hx sw wlfk\n",
       "770 瞿兵   1115 男 88 68 77 91  82 87 62 88 67 理科\n",
       "771 谈莞发 1115 男 79 78 70 83  86 86 76 78 70 理科\n",
       "772 应上清 1115 男 87 63 55 93 100 94 43 88 82 理科\n",
       "773 徐宏平 1115 男 85 59 89 80  85 82 61 64 75 理科\n",
       "774 昌肖峰 1115 男 81 62 76 89  76 91 49 68 74 理科\n",
       "775 郑慕海 1115 男 72 59 82 92  85 82 59 58 55 理科"
      ]
     },
     "metadata": {},
     "output_type": "display_data"
    }
   ],
   "source": [
    "str(cjb)\n",
    "cjb$xm <- as.character(cjb$xm)\n",
    "str(cjb)\n",
    "tail(cjb)"
   ]
  },
  {
   "cell_type": "code",
   "execution_count": 234,
   "metadata": {},
   "outputs": [
    {
     "data": {
      "text/plain": [
       "      xm                  bj        xb            yw              sx        \n",
       " Length:775         Min.   :1101   女:406   Min.   : 0.00   Min.   :  0.00  \n",
       " Class :character   1st Qu.:1104   男:369   1st Qu.:85.00   1st Qu.: 81.00  \n",
       " Mode  :character   Median :1107            Median :88.00   Median : 89.00  \n",
       "                    Mean   :1108            Mean   :87.27   Mean   : 86.08  \n",
       "                    3rd Qu.:1111            3rd Qu.:91.00   3rd Qu.: 95.00  \n",
       "                    Max.   :1115            Max.   :96.00   Max.   :100.00  \n",
       "       wy             zz               ls               dl        \n",
       " Min.   : 0.0   Min.   :  0.00   Min.   :  0.00   Min.   :  0.00  \n",
       " 1st Qu.:84.0   1st Qu.: 90.00   1st Qu.: 85.00   1st Qu.: 90.00  \n",
       " Median :88.0   Median : 93.00   Median : 90.00   Median : 94.00  \n",
       " Mean   :87.4   Mean   : 92.21   Mean   : 89.03   Mean   : 92.91  \n",
       " 3rd Qu.:92.0   3rd Qu.: 95.00   3rd Qu.: 94.50   3rd Qu.: 96.00  \n",
       " Max.   :99.0   Max.   :100.00   Max.   :100.00   Max.   :100.00  \n",
       "       wl              hx               sw           wlfk    \n",
       " Min.   :  0.0   Min.   :  0.00   Min.   :  0.00   文科:394  \n",
       " 1st Qu.: 74.0   1st Qu.: 88.00   1st Qu.: 81.00   理科:381  \n",
       " Median : 83.0   Median : 94.00   Median : 88.00             \n",
       " Mean   : 81.1   Mean   : 91.57   Mean   : 86.26             \n",
       " 3rd Qu.: 91.0   3rd Qu.: 98.00   3rd Qu.: 93.00             \n",
       " Max.   :100.0   Max.   :100.00   Max.   :100.00             "
      ]
     },
     "metadata": {},
     "output_type": "display_data"
    }
   ],
   "source": [
    "summary(cjb)"
   ]
  },
  {
   "cell_type": "code",
   "execution_count": 237,
   "metadata": {},
   "outputs": [
    {
     "data": {
      "text/html": [
       "13"
      ],
      "text/latex": [
       "13"
      ],
      "text/markdown": [
       "13"
      ],
      "text/plain": [
       "[1] 13"
      ]
     },
     "metadata": {},
     "output_type": "display_data"
    }
   ],
   "source": [
    "length(cjb)"
   ]
  },
  {
   "cell_type": "code",
   "execution_count": 240,
   "metadata": {},
   "outputs": [
    {
     "data": {
      "text/html": [
       "<style>\n",
       ".list-inline {list-style: none; margin:0; padding: 0}\n",
       ".list-inline>li {display: inline-block}\n",
       ".list-inline>li:not(:last-child)::after {content: \"\\00b7\"; padding: 0 .5ex}\n",
       "</style>\n",
       "<ol class=list-inline><li>'xm'</li><li>'bj'</li><li>'xb'</li><li>'yw'</li><li>'sx'</li><li>'wy'</li><li>'zz'</li><li>'ls'</li><li>'dl'</li><li>'wl'</li><li>'hx'</li><li>'sw'</li><li>'wlfk'</li></ol>\n"
      ],
      "text/latex": [
       "\\begin{enumerate*}\n",
       "\\item 'xm'\n",
       "\\item 'bj'\n",
       "\\item 'xb'\n",
       "\\item 'yw'\n",
       "\\item 'sx'\n",
       "\\item 'wy'\n",
       "\\item 'zz'\n",
       "\\item 'ls'\n",
       "\\item 'dl'\n",
       "\\item 'wl'\n",
       "\\item 'hx'\n",
       "\\item 'sw'\n",
       "\\item 'wlfk'\n",
       "\\end{enumerate*}\n"
      ],
      "text/markdown": [
       "1. 'xm'\n",
       "2. 'bj'\n",
       "3. 'xb'\n",
       "4. 'yw'\n",
       "5. 'sx'\n",
       "6. 'wy'\n",
       "7. 'zz'\n",
       "8. 'ls'\n",
       "9. 'dl'\n",
       "10. 'wl'\n",
       "11. 'hx'\n",
       "12. 'sw'\n",
       "13. 'wlfk'\n",
       "\n",
       "\n"
      ],
      "text/plain": [
       " [1] \"xm\"   \"bj\"   \"xb\"   \"yw\"   \"sx\"   \"wy\"   \"zz\"   \"ls\"   \"dl\"   \"wl\"  \n",
       "[11] \"hx\"   \"sw\"   \"wlfk\""
      ]
     },
     "metadata": {},
     "output_type": "display_data"
    }
   ],
   "source": [
    "names(cjb)"
   ]
  },
  {
   "cell_type": "code",
   "execution_count": 242,
   "metadata": {},
   "outputs": [
    {
     "data": {
      "text/html": [
       "<style>\n",
       ".list-inline {list-style: none; margin:0; padding: 0}\n",
       ".list-inline>li {display: inline-block}\n",
       ".list-inline>li:not(:last-child)::after {content: \"\\00b7\"; padding: 0 .5ex}\n",
       "</style>\n",
       "<ol class=list-inline><li>'xm'</li><li>'bj'</li><li>'xb'</li><li>'yw'</li><li>'sx'</li><li>'wy'</li><li>'zz'</li><li>'ls'</li><li>'dl'</li><li>'wl'</li><li>'hx'</li><li>'sw'</li><li>'wlfk'</li></ol>\n"
      ],
      "text/latex": [
       "\\begin{enumerate*}\n",
       "\\item 'xm'\n",
       "\\item 'bj'\n",
       "\\item 'xb'\n",
       "\\item 'yw'\n",
       "\\item 'sx'\n",
       "\\item 'wy'\n",
       "\\item 'zz'\n",
       "\\item 'ls'\n",
       "\\item 'dl'\n",
       "\\item 'wl'\n",
       "\\item 'hx'\n",
       "\\item 'sw'\n",
       "\\item 'wlfk'\n",
       "\\end{enumerate*}\n"
      ],
      "text/markdown": [
       "1. 'xm'\n",
       "2. 'bj'\n",
       "3. 'xb'\n",
       "4. 'yw'\n",
       "5. 'sx'\n",
       "6. 'wy'\n",
       "7. 'zz'\n",
       "8. 'ls'\n",
       "9. 'dl'\n",
       "10. 'wl'\n",
       "11. 'hx'\n",
       "12. 'sw'\n",
       "13. 'wlfk'\n",
       "\n",
       "\n"
      ],
      "text/plain": [
       " [1] \"xm\"   \"bj\"   \"xb\"   \"yw\"   \"sx\"   \"wy\"   \"zz\"   \"ls\"   \"dl\"   \"wl\"  \n",
       "[11] \"hx\"   \"sw\"   \"wlfk\""
      ]
     },
     "metadata": {},
     "output_type": "display_data"
    }
   ],
   "source": [
    "colnames(cjb)"
   ]
  },
  {
   "cell_type": "code",
   "execution_count": 245,
   "metadata": {},
   "outputs": [
    {
     "data": {
      "text/html": [
       "775"
      ],
      "text/latex": [
       "775"
      ],
      "text/markdown": [
       "775"
      ],
      "text/plain": [
       "[1] 775"
      ]
     },
     "metadata": {},
     "output_type": "display_data"
    }
   ],
   "source": [
    "nrow(cjb)"
   ]
  },
  {
   "cell_type": "code",
   "execution_count": 253,
   "metadata": {},
   "outputs": [
    {
     "name": "stdout",
     "output_type": "stream",
     "text": [
      "'data.frame':\t775 obs. of  13 variables:\n",
      " $ xm  : chr  \"周黎\" \"汤海明\" \"舒江辉\" \"翁柯\" ...\n",
      " $ bj  : int  1101 1101 1101 1101 1101 1101 1101 1101 1101 1101 ...\n",
      " $ xb  : Factor w/ 2 levels \"女\",\"男\": 1 2 2 1 2 1 1 2 1 1 ...\n",
      " $ yw  : int  94 87 92 91 85 92 88 81 88 94 ...\n",
      " $ sx  : int  82 94 79 84 92 82 72 89 77 81 ...\n",
      " $ wy  : int  96 89 86 96 82 85 86 87 95 88 ...\n",
      " $ zz  : int  97 95 98 93 93 91 94 97 94 91 ...\n",
      " $ ls  : int  97 94 95 97 87 90 87 94 84 85 ...\n",
      " $ dl  : int  98 94 96 94 88 92 88 96 94 98 ...\n",
      " $ wl  : int  95 90 89 82 95 82 89 81 87 81 ...\n",
      " $ hx  : int  94 90 94 90 94 98 98 88 94 88 ...\n",
      " $ sw  : int  88 89 87 83 93 90 94 83 82 88 ...\n",
      " $ wlfk: Factor w/ 2 levels \"文科\",\"理科\": 1 1 1 1 1 1 1 1 1 1 ...\n"
     ]
    },
    {
     "data": {
      "text/plain": [
       "      xm                  bj        xb            yw              sx        \n",
       " Length:775         Min.   :1101   女:406   Min.   : 0.00   Min.   :  0.00  \n",
       " Class :character   1st Qu.:1104   男:369   1st Qu.:85.00   1st Qu.: 81.00  \n",
       " Mode  :character   Median :1107            Median :88.00   Median : 89.00  \n",
       "                    Mean   :1108            Mean   :87.27   Mean   : 86.08  \n",
       "                    3rd Qu.:1111            3rd Qu.:91.00   3rd Qu.: 95.00  \n",
       "                    Max.   :1115            Max.   :96.00   Max.   :100.00  \n",
       "       wy             zz               ls               dl        \n",
       " Min.   : 0.0   Min.   :  0.00   Min.   :  0.00   Min.   :  0.00  \n",
       " 1st Qu.:84.0   1st Qu.: 90.00   1st Qu.: 85.00   1st Qu.: 90.00  \n",
       " Median :88.0   Median : 93.00   Median : 90.00   Median : 94.00  \n",
       " Mean   :87.4   Mean   : 92.21   Mean   : 89.03   Mean   : 92.91  \n",
       " 3rd Qu.:92.0   3rd Qu.: 95.00   3rd Qu.: 94.50   3rd Qu.: 96.00  \n",
       " Max.   :99.0   Max.   :100.00   Max.   :100.00   Max.   :100.00  \n",
       "       wl              hx               sw           wlfk    \n",
       " Min.   :  0.0   Min.   :  0.00   Min.   :  0.00   文科:394  \n",
       " 1st Qu.: 74.0   1st Qu.: 88.00   1st Qu.: 81.00   理科:381  \n",
       " Median : 83.0   Median : 94.00   Median : 88.00             \n",
       " Mean   : 81.1   Mean   : 91.57   Mean   : 86.26             \n",
       " 3rd Qu.: 91.0   3rd Qu.: 98.00   3rd Qu.: 93.00             \n",
       " Max.   :100.0   Max.   :100.00   Max.   :100.00             "
      ]
     },
     "metadata": {},
     "output_type": "display_data"
    }
   ],
   "source": [
    "# rownames(cjb)\n",
    "#row.names(cjb)\n",
    "str(cjb)\n",
    "summary(cjb)"
   ]
  },
  {
   "cell_type": "code",
   "execution_count": 266,
   "metadata": {},
   "outputs": [
    {
     "data": {
      "text/html": [
       "<table>\n",
       "<caption>A data.frame: 6 × 14</caption>\n",
       "<thead>\n",
       "\t<tr><th></th><th scope=col>xm</th><th scope=col>bj</th><th scope=col>xb</th><th scope=col>yw</th><th scope=col>sx</th><th scope=col>wy</th><th scope=col>zz</th><th scope=col>ls</th><th scope=col>dl</th><th scope=col>wl</th><th scope=col>hx</th><th scope=col>sw</th><th scope=col>wlfk</th><th scope=col>zcj</th></tr>\n",
       "\t<tr><th></th><th scope=col>&lt;chr&gt;</th><th scope=col>&lt;int&gt;</th><th scope=col>&lt;fct&gt;</th><th scope=col>&lt;int&gt;</th><th scope=col>&lt;int&gt;</th><th scope=col>&lt;int&gt;</th><th scope=col>&lt;int&gt;</th><th scope=col>&lt;int&gt;</th><th scope=col>&lt;int&gt;</th><th scope=col>&lt;int&gt;</th><th scope=col>&lt;int&gt;</th><th scope=col>&lt;int&gt;</th><th scope=col>&lt;fct&gt;</th><th scope=col>&lt;int&gt;</th></tr>\n",
       "</thead>\n",
       "<tbody>\n",
       "\t<tr><th scope=row>761</th><td>张良平</td><td>1115</td><td>男</td><td> 0</td><td> 0</td><td> 0</td><td> 0</td><td> 0</td><td> 0</td><td> 0</td><td> 0</td><td> 0</td><td>理科</td><td>  0</td></tr>\n",
       "\t<tr><th scope=row>678</th><td>滑亚  </td><td>1113</td><td>男</td><td>33</td><td>46</td><td>30</td><td>65</td><td>82</td><td>76</td><td>56</td><td>76</td><td>59</td><td>理科</td><td>523</td></tr>\n",
       "\t<tr><th scope=row>167</th><td>赖旺  </td><td>1103</td><td>男</td><td>65</td><td>26</td><td>53</td><td>87</td><td>91</td><td>96</td><td>21</td><td>56</td><td>58</td><td>文科</td><td>553</td></tr>\n",
       "\t<tr><th scope=row>677</th><td>舒茂  </td><td>1113</td><td>男</td><td>66</td><td>58</td><td>73</td><td>67</td><td>58</td><td>80</td><td>51</td><td>80</td><td>72</td><td>理科</td><td>605</td></tr>\n",
       "\t<tr><th scope=row>52</th><td>于知平</td><td>1101</td><td>男</td><td>70</td><td>67</td><td>74</td><td>92</td><td>73</td><td>88</td><td>40</td><td>52</td><td>58</td><td>文科</td><td>614</td></tr>\n",
       "\t<tr><th scope=row>726</th><td>方顺  </td><td>1114</td><td>男</td><td>77</td><td>62</td><td>78</td><td>77</td><td>67</td><td>80</td><td>50</td><td>60</td><td>70</td><td>文科</td><td>621</td></tr>\n",
       "</tbody>\n",
       "</table>\n"
      ],
      "text/latex": [
       "A data.frame: 6 × 14\n",
       "\\begin{tabular}{r|llllllllllllll}\n",
       "  & xm & bj & xb & yw & sx & wy & zz & ls & dl & wl & hx & sw & wlfk & zcj\\\\\n",
       "  & <chr> & <int> & <fct> & <int> & <int> & <int> & <int> & <int> & <int> & <int> & <int> & <int> & <fct> & <int>\\\\\n",
       "\\hline\n",
       "\t761 & 张良平 & 1115 & 男 &  0 &  0 &  0 &  0 &  0 &  0 &  0 &  0 &  0 & 理科 &   0\\\\\n",
       "\t678 & 滑亚   & 1113 & 男 & 33 & 46 & 30 & 65 & 82 & 76 & 56 & 76 & 59 & 理科 & 523\\\\\n",
       "\t167 & 赖旺   & 1103 & 男 & 65 & 26 & 53 & 87 & 91 & 96 & 21 & 56 & 58 & 文科 & 553\\\\\n",
       "\t677 & 舒茂   & 1113 & 男 & 66 & 58 & 73 & 67 & 58 & 80 & 51 & 80 & 72 & 理科 & 605\\\\\n",
       "\t52 & 于知平 & 1101 & 男 & 70 & 67 & 74 & 92 & 73 & 88 & 40 & 52 & 58 & 文科 & 614\\\\\n",
       "\t726 & 方顺   & 1114 & 男 & 77 & 62 & 78 & 77 & 67 & 80 & 50 & 60 & 70 & 文科 & 621\\\\\n",
       "\\end{tabular}\n"
      ],
      "text/markdown": [
       "\n",
       "A data.frame: 6 × 14\n",
       "\n",
       "| <!--/--> | xm &lt;chr&gt; | bj &lt;int&gt; | xb &lt;fct&gt; | yw &lt;int&gt; | sx &lt;int&gt; | wy &lt;int&gt; | zz &lt;int&gt; | ls &lt;int&gt; | dl &lt;int&gt; | wl &lt;int&gt; | hx &lt;int&gt; | sw &lt;int&gt; | wlfk &lt;fct&gt; | zcj &lt;int&gt; |\n",
       "|---|---|---|---|---|---|---|---|---|---|---|---|---|---|---|\n",
       "| 761 | 张良平 | 1115 | 男 |  0 |  0 |  0 |  0 |  0 |  0 |  0 |  0 |  0 | 理科 |   0 |\n",
       "| 678 | 滑亚   | 1113 | 男 | 33 | 46 | 30 | 65 | 82 | 76 | 56 | 76 | 59 | 理科 | 523 |\n",
       "| 167 | 赖旺   | 1103 | 男 | 65 | 26 | 53 | 87 | 91 | 96 | 21 | 56 | 58 | 文科 | 553 |\n",
       "| 677 | 舒茂   | 1113 | 男 | 66 | 58 | 73 | 67 | 58 | 80 | 51 | 80 | 72 | 理科 | 605 |\n",
       "| 52 | 于知平 | 1101 | 男 | 70 | 67 | 74 | 92 | 73 | 88 | 40 | 52 | 58 | 文科 | 614 |\n",
       "| 726 | 方顺   | 1114 | 男 | 77 | 62 | 78 | 77 | 67 | 80 | 50 | 60 | 70 | 文科 | 621 |\n",
       "\n"
      ],
      "text/plain": [
       "    xm     bj   xb yw sx wy zz ls dl wl hx sw wlfk zcj\n",
       "761 张良平 1115 男  0  0  0  0  0  0  0  0  0 理科   0\n",
       "678 滑亚   1113 男 33 46 30 65 82 76 56 76 59 理科 523\n",
       "167 赖旺   1103 男 65 26 53 87 91 96 21 56 58 文科 553\n",
       "677 舒茂   1113 男 66 58 73 67 58 80 51 80 72 理科 605\n",
       "52  于知平 1101 男 70 67 74 92 73 88 40 52 58 文科 614\n",
       "726 方顺   1114 男 77 62 78 77 67 80 50 60 70 文科 621"
      ]
     },
     "metadata": {},
     "output_type": "display_data"
    },
    {
     "data": {
      "text/html": [
       "<table>\n",
       "<caption>A data.frame: 5 × 14</caption>\n",
       "<thead>\n",
       "\t<tr><th></th><th scope=col>xm</th><th scope=col>bj</th><th scope=col>xb</th><th scope=col>yw</th><th scope=col>sx</th><th scope=col>wy</th><th scope=col>zz</th><th scope=col>ls</th><th scope=col>dl</th><th scope=col>wl</th><th scope=col>hx</th><th scope=col>sw</th><th scope=col>wlfk</th><th scope=col>zcj</th></tr>\n",
       "\t<tr><th></th><th scope=col>&lt;chr&gt;</th><th scope=col>&lt;int&gt;</th><th scope=col>&lt;fct&gt;</th><th scope=col>&lt;int&gt;</th><th scope=col>&lt;int&gt;</th><th scope=col>&lt;int&gt;</th><th scope=col>&lt;int&gt;</th><th scope=col>&lt;int&gt;</th><th scope=col>&lt;int&gt;</th><th scope=col>&lt;int&gt;</th><th scope=col>&lt;int&gt;</th><th scope=col>&lt;int&gt;</th><th scope=col>&lt;fct&gt;</th><th scope=col>&lt;int&gt;</th></tr>\n",
       "</thead>\n",
       "<tbody>\n",
       "\t<tr><th scope=row>488</th><td>宁琦  </td><td>1110</td><td>男</td><td>94</td><td>97</td><td>97</td><td>97</td><td>100</td><td>100</td><td>100</td><td>100</td><td>100</td><td>理科</td><td>885</td></tr>\n",
       "\t<tr><th scope=row>392</th><td>焦金音</td><td>1108</td><td>女</td><td>91</td><td>98</td><td>95</td><td>99</td><td> 99</td><td>100</td><td>100</td><td>100</td><td> 97</td><td>理科</td><td>879</td></tr>\n",
       "\t<tr><th scope=row>438</th><td>鲁孟秋</td><td>1109</td><td>女</td><td>93</td><td>98</td><td>98</td><td>97</td><td> 96</td><td> 98</td><td>100</td><td>100</td><td> 98</td><td>理科</td><td>878</td></tr>\n",
       "\t<tr><th scope=row>393</th><td>伊礼贤</td><td>1108</td><td>男</td><td>92</td><td>97</td><td>99</td><td>95</td><td> 94</td><td>100</td><td>100</td><td>100</td><td> 99</td><td>理科</td><td>876</td></tr>\n",
       "\t<tr><th scope=row>489</th><td>傅世鸿</td><td>1110</td><td>男</td><td>88</td><td>98</td><td>99</td><td>95</td><td>100</td><td>100</td><td> 97</td><td>100</td><td> 95</td><td>理科</td><td>872</td></tr>\n",
       "</tbody>\n",
       "</table>\n"
      ],
      "text/latex": [
       "A data.frame: 5 × 14\n",
       "\\begin{tabular}{r|llllllllllllll}\n",
       "  & xm & bj & xb & yw & sx & wy & zz & ls & dl & wl & hx & sw & wlfk & zcj\\\\\n",
       "  & <chr> & <int> & <fct> & <int> & <int> & <int> & <int> & <int> & <int> & <int> & <int> & <int> & <fct> & <int>\\\\\n",
       "\\hline\n",
       "\t488 & 宁琦   & 1110 & 男 & 94 & 97 & 97 & 97 & 100 & 100 & 100 & 100 & 100 & 理科 & 885\\\\\n",
       "\t392 & 焦金音 & 1108 & 女 & 91 & 98 & 95 & 99 &  99 & 100 & 100 & 100 &  97 & 理科 & 879\\\\\n",
       "\t438 & 鲁孟秋 & 1109 & 女 & 93 & 98 & 98 & 97 &  96 &  98 & 100 & 100 &  98 & 理科 & 878\\\\\n",
       "\t393 & 伊礼贤 & 1108 & 男 & 92 & 97 & 99 & 95 &  94 & 100 & 100 & 100 &  99 & 理科 & 876\\\\\n",
       "\t489 & 傅世鸿 & 1110 & 男 & 88 & 98 & 99 & 95 & 100 & 100 &  97 & 100 &  95 & 理科 & 872\\\\\n",
       "\\end{tabular}\n"
      ],
      "text/markdown": [
       "\n",
       "A data.frame: 5 × 14\n",
       "\n",
       "| <!--/--> | xm &lt;chr&gt; | bj &lt;int&gt; | xb &lt;fct&gt; | yw &lt;int&gt; | sx &lt;int&gt; | wy &lt;int&gt; | zz &lt;int&gt; | ls &lt;int&gt; | dl &lt;int&gt; | wl &lt;int&gt; | hx &lt;int&gt; | sw &lt;int&gt; | wlfk &lt;fct&gt; | zcj &lt;int&gt; |\n",
       "|---|---|---|---|---|---|---|---|---|---|---|---|---|---|---|\n",
       "| 488 | 宁琦   | 1110 | 男 | 94 | 97 | 97 | 97 | 100 | 100 | 100 | 100 | 100 | 理科 | 885 |\n",
       "| 392 | 焦金音 | 1108 | 女 | 91 | 98 | 95 | 99 |  99 | 100 | 100 | 100 |  97 | 理科 | 879 |\n",
       "| 438 | 鲁孟秋 | 1109 | 女 | 93 | 98 | 98 | 97 |  96 |  98 | 100 | 100 |  98 | 理科 | 878 |\n",
       "| 393 | 伊礼贤 | 1108 | 男 | 92 | 97 | 99 | 95 |  94 | 100 | 100 | 100 |  99 | 理科 | 876 |\n",
       "| 489 | 傅世鸿 | 1110 | 男 | 88 | 98 | 99 | 95 | 100 | 100 |  97 | 100 |  95 | 理科 | 872 |\n",
       "\n"
      ],
      "text/plain": [
       "    xm     bj   xb yw sx wy zz ls  dl  wl  hx  sw  wlfk zcj\n",
       "488 宁琦   1110 男 94 97 97 97 100 100 100 100 100 理科 885\n",
       "392 焦金音 1108 女 91 98 95 99  99 100 100 100  97 理科 879\n",
       "438 鲁孟秋 1109 女 93 98 98 97  96  98 100 100  98 理科 878\n",
       "393 伊礼贤 1108 男 92 97 99 95  94 100 100 100  99 理科 876\n",
       "489 傅世鸿 1110 男 88 98 99 95 100 100  97 100  95 理科 872"
      ]
     },
     "metadata": {},
     "output_type": "display_data"
    }
   ],
   "source": [
    "cjb$zcj <- apply(cjb[,4:12],1,sum)\n",
    "head(cjb[order(cjb$zcj),])\n",
    "cjb[order(cjb$zcj,decreasing=T)[1:5],]\n"
   ]
  },
  {
   "cell_type": "code",
   "execution_count": 277,
   "metadata": {},
   "outputs": [],
   "source": [
    "set.seed(2012)\n",
    "n_record <- nrow(cjb)\n",
    "train_idx <- sample(1:n_record,floor(n_record*0.7))\n"
   ]
  },
  {
   "cell_type": "markdown",
   "metadata": {},
   "source": [
    "### tidyverse"
   ]
  },
  {
   "cell_type": "code",
   "execution_count": 284,
   "metadata": {},
   "outputs": [
    {
     "data": {
      "text/html": [
       "<table>\n",
       "<caption>A data.frame: 6 × 14</caption>\n",
       "<thead>\n",
       "\t<tr><th></th><th scope=col>xm</th><th scope=col>bj</th><th scope=col>xb</th><th scope=col>yw</th><th scope=col>sx</th><th scope=col>wy</th><th scope=col>zz</th><th scope=col>ls</th><th scope=col>dl</th><th scope=col>wl</th><th scope=col>hx</th><th scope=col>sw</th><th scope=col>wlfk</th><th scope=col>zcj</th></tr>\n",
       "\t<tr><th></th><th scope=col>&lt;chr&gt;</th><th scope=col>&lt;int&gt;</th><th scope=col>&lt;fct&gt;</th><th scope=col>&lt;int&gt;</th><th scope=col>&lt;int&gt;</th><th scope=col>&lt;int&gt;</th><th scope=col>&lt;int&gt;</th><th scope=col>&lt;int&gt;</th><th scope=col>&lt;int&gt;</th><th scope=col>&lt;int&gt;</th><th scope=col>&lt;int&gt;</th><th scope=col>&lt;int&gt;</th><th scope=col>&lt;fct&gt;</th><th scope=col>&lt;int&gt;</th></tr>\n",
       "</thead>\n",
       "<tbody>\n",
       "\t<tr><th scope=row>1</th><td>周黎  </td><td>1101</td><td>女</td><td>94</td><td>82</td><td>96</td><td>97</td><td>97</td><td>98</td><td>95</td><td>94</td><td>88</td><td>文科</td><td>841</td></tr>\n",
       "\t<tr><th scope=row>2</th><td>汤海明</td><td>1101</td><td>男</td><td>87</td><td>94</td><td>89</td><td>95</td><td>94</td><td>94</td><td>90</td><td>90</td><td>89</td><td>文科</td><td>822</td></tr>\n",
       "\t<tr><th scope=row>3</th><td>舒江辉</td><td>1101</td><td>男</td><td>92</td><td>79</td><td>86</td><td>98</td><td>95</td><td>96</td><td>89</td><td>94</td><td>87</td><td>文科</td><td>816</td></tr>\n",
       "\t<tr><th scope=row>4</th><td>翁柯  </td><td>1101</td><td>女</td><td>91</td><td>84</td><td>96</td><td>93</td><td>97</td><td>94</td><td>82</td><td>90</td><td>83</td><td>文科</td><td>810</td></tr>\n",
       "\t<tr><th scope=row>5</th><td>祁强  </td><td>1101</td><td>男</td><td>85</td><td>92</td><td>82</td><td>93</td><td>87</td><td>88</td><td>95</td><td>94</td><td>93</td><td>文科</td><td>809</td></tr>\n",
       "\t<tr><th scope=row>6</th><td>湛容  </td><td>1101</td><td>女</td><td>92</td><td>82</td><td>85</td><td>91</td><td>90</td><td>92</td><td>82</td><td>98</td><td>90</td><td>文科</td><td>802</td></tr>\n",
       "</tbody>\n",
       "</table>\n"
      ],
      "text/latex": [
       "A data.frame: 6 × 14\n",
       "\\begin{tabular}{r|llllllllllllll}\n",
       "  & xm & bj & xb & yw & sx & wy & zz & ls & dl & wl & hx & sw & wlfk & zcj\\\\\n",
       "  & <chr> & <int> & <fct> & <int> & <int> & <int> & <int> & <int> & <int> & <int> & <int> & <int> & <fct> & <int>\\\\\n",
       "\\hline\n",
       "\t1 & 周黎   & 1101 & 女 & 94 & 82 & 96 & 97 & 97 & 98 & 95 & 94 & 88 & 文科 & 841\\\\\n",
       "\t2 & 汤海明 & 1101 & 男 & 87 & 94 & 89 & 95 & 94 & 94 & 90 & 90 & 89 & 文科 & 822\\\\\n",
       "\t3 & 舒江辉 & 1101 & 男 & 92 & 79 & 86 & 98 & 95 & 96 & 89 & 94 & 87 & 文科 & 816\\\\\n",
       "\t4 & 翁柯   & 1101 & 女 & 91 & 84 & 96 & 93 & 97 & 94 & 82 & 90 & 83 & 文科 & 810\\\\\n",
       "\t5 & 祁强   & 1101 & 男 & 85 & 92 & 82 & 93 & 87 & 88 & 95 & 94 & 93 & 文科 & 809\\\\\n",
       "\t6 & 湛容   & 1101 & 女 & 92 & 82 & 85 & 91 & 90 & 92 & 82 & 98 & 90 & 文科 & 802\\\\\n",
       "\\end{tabular}\n"
      ],
      "text/markdown": [
       "\n",
       "A data.frame: 6 × 14\n",
       "\n",
       "| <!--/--> | xm &lt;chr&gt; | bj &lt;int&gt; | xb &lt;fct&gt; | yw &lt;int&gt; | sx &lt;int&gt; | wy &lt;int&gt; | zz &lt;int&gt; | ls &lt;int&gt; | dl &lt;int&gt; | wl &lt;int&gt; | hx &lt;int&gt; | sw &lt;int&gt; | wlfk &lt;fct&gt; | zcj &lt;int&gt; |\n",
       "|---|---|---|---|---|---|---|---|---|---|---|---|---|---|---|\n",
       "| 1 | 周黎   | 1101 | 女 | 94 | 82 | 96 | 97 | 97 | 98 | 95 | 94 | 88 | 文科 | 841 |\n",
       "| 2 | 汤海明 | 1101 | 男 | 87 | 94 | 89 | 95 | 94 | 94 | 90 | 90 | 89 | 文科 | 822 |\n",
       "| 3 | 舒江辉 | 1101 | 男 | 92 | 79 | 86 | 98 | 95 | 96 | 89 | 94 | 87 | 文科 | 816 |\n",
       "| 4 | 翁柯   | 1101 | 女 | 91 | 84 | 96 | 93 | 97 | 94 | 82 | 90 | 83 | 文科 | 810 |\n",
       "| 5 | 祁强   | 1101 | 男 | 85 | 92 | 82 | 93 | 87 | 88 | 95 | 94 | 93 | 文科 | 809 |\n",
       "| 6 | 湛容   | 1101 | 女 | 92 | 82 | 85 | 91 | 90 | 92 | 82 | 98 | 90 | 文科 | 802 |\n",
       "\n"
      ],
      "text/plain": [
       "  xm     bj   xb yw sx wy zz ls dl wl hx sw wlfk zcj\n",
       "1 周黎   1101 女 94 82 96 97 97 98 95 94 88 文科 841\n",
       "2 汤海明 1101 男 87 94 89 95 94 94 90 90 89 文科 822\n",
       "3 舒江辉 1101 男 92 79 86 98 95 96 89 94 87 文科 816\n",
       "4 翁柯   1101 女 91 84 96 93 97 94 82 90 83 文科 810\n",
       "5 祁强   1101 男 85 92 82 93 87 88 95 94 93 文科 809\n",
       "6 湛容   1101 女 92 82 85 91 90 92 82 98 90 文科 802"
      ]
     },
     "metadata": {},
     "output_type": "display_data"
    }
   ],
   "source": [
    "cjb %>% head"
   ]
  },
  {
   "cell_type": "code",
   "execution_count": 286,
   "metadata": {},
   "outputs": [
    {
     "data": {
      "text/html": [
       "<table>\n",
       "<caption>A data.frame: 3 × 3</caption>\n",
       "<thead>\n",
       "\t<tr><th></th><th scope=col>xm</th><th scope=col>yw</th><th scope=col>sx</th></tr>\n",
       "\t<tr><th></th><th scope=col>&lt;chr&gt;</th><th scope=col>&lt;int&gt;</th><th scope=col>&lt;int&gt;</th></tr>\n",
       "</thead>\n",
       "<tbody>\n",
       "\t<tr><th scope=row>1</th><td>周黎  </td><td>94</td><td>82</td></tr>\n",
       "\t<tr><th scope=row>2</th><td>汤海明</td><td>87</td><td>94</td></tr>\n",
       "\t<tr><th scope=row>3</th><td>舒江辉</td><td>92</td><td>79</td></tr>\n",
       "</tbody>\n",
       "</table>\n"
      ],
      "text/latex": [
       "A data.frame: 3 × 3\n",
       "\\begin{tabular}{r|lll}\n",
       "  & xm & yw & sx\\\\\n",
       "  & <chr> & <int> & <int>\\\\\n",
       "\\hline\n",
       "\t1 & 周黎   & 94 & 82\\\\\n",
       "\t2 & 汤海明 & 87 & 94\\\\\n",
       "\t3 & 舒江辉 & 92 & 79\\\\\n",
       "\\end{tabular}\n"
      ],
      "text/markdown": [
       "\n",
       "A data.frame: 3 × 3\n",
       "\n",
       "| <!--/--> | xm &lt;chr&gt; | yw &lt;int&gt; | sx &lt;int&gt; |\n",
       "|---|---|---|---|\n",
       "| 1 | 周黎   | 94 | 82 |\n",
       "| 2 | 汤海明 | 87 | 94 |\n",
       "| 3 | 舒江辉 | 92 | 79 |\n",
       "\n"
      ],
      "text/plain": [
       "  xm     yw sx\n",
       "1 周黎   94 82\n",
       "2 汤海明 87 94\n",
       "3 舒江辉 92 79"
      ]
     },
     "metadata": {},
     "output_type": "display_data"
    }
   ],
   "source": [
    "cjb %>% select(xm,yw,sx) %>% head(n=3)"
   ]
  },
  {
   "cell_type": "code",
   "execution_count": 299,
   "metadata": {},
   "outputs": [
    {
     "data": {
      "text/html": [
       "<table>\n",
       "<caption>A data.frame: 6 × 3</caption>\n",
       "<thead>\n",
       "\t<tr><th></th><th scope=col>name</th><th scope=col>chainese</th><th scope=col>math</th></tr>\n",
       "\t<tr><th></th><th scope=col>&lt;chr&gt;</th><th scope=col>&lt;int&gt;</th><th scope=col>&lt;int&gt;</th></tr>\n",
       "</thead>\n",
       "<tbody>\n",
       "\t<tr><th scope=row>1</th><td>周黎  </td><td>94</td><td>82</td></tr>\n",
       "\t<tr><th scope=row>2</th><td>汤海明</td><td>87</td><td>94</td></tr>\n",
       "\t<tr><th scope=row>3</th><td>舒江辉</td><td>92</td><td>79</td></tr>\n",
       "\t<tr><th scope=row>4</th><td>翁柯  </td><td>91</td><td>84</td></tr>\n",
       "\t<tr><th scope=row>5</th><td>祁强  </td><td>85</td><td>92</td></tr>\n",
       "\t<tr><th scope=row>6</th><td>湛容  </td><td>92</td><td>82</td></tr>\n",
       "</tbody>\n",
       "</table>\n"
      ],
      "text/latex": [
       "A data.frame: 6 × 3\n",
       "\\begin{tabular}{r|lll}\n",
       "  & name & chainese & math\\\\\n",
       "  & <chr> & <int> & <int>\\\\\n",
       "\\hline\n",
       "\t1 & 周黎   & 94 & 82\\\\\n",
       "\t2 & 汤海明 & 87 & 94\\\\\n",
       "\t3 & 舒江辉 & 92 & 79\\\\\n",
       "\t4 & 翁柯   & 91 & 84\\\\\n",
       "\t5 & 祁强   & 85 & 92\\\\\n",
       "\t6 & 湛容   & 92 & 82\\\\\n",
       "\\end{tabular}\n"
      ],
      "text/markdown": [
       "\n",
       "A data.frame: 6 × 3\n",
       "\n",
       "| <!--/--> | name &lt;chr&gt; | chainese &lt;int&gt; | math &lt;int&gt; |\n",
       "|---|---|---|---|\n",
       "| 1 | 周黎   | 94 | 82 |\n",
       "| 2 | 汤海明 | 87 | 94 |\n",
       "| 3 | 舒江辉 | 92 | 79 |\n",
       "| 4 | 翁柯   | 91 | 84 |\n",
       "| 5 | 祁强   | 85 | 92 |\n",
       "| 6 | 湛容   | 92 | 82 |\n",
       "\n"
      ],
      "text/plain": [
       "  name   chainese math\n",
       "1 周黎   94       82  \n",
       "2 汤海明 87       94  \n",
       "3 舒江辉 92       79  \n",
       "4 翁柯   91       84  \n",
       "5 祁强   85       92  \n",
       "6 湛容   92       82  "
      ]
     },
     "metadata": {},
     "output_type": "display_data"
    }
   ],
   "source": [
    "cjb %>% select(xm,yw,sx) %>% \n",
    "    set_names(c(\"name\",\"chainese\",\"math\")) %>%\n",
    "    head"
   ]
  },
  {
   "cell_type": "code",
   "execution_count": 302,
   "metadata": {},
   "outputs": [
    {
     "data": {
      "text/html": [
       "<table>\n",
       "<caption>A data.frame: 6 × 10</caption>\n",
       "<thead>\n",
       "\t<tr><th></th><th scope=col>xm</th><th scope=col>yw</th><th scope=col>sx</th><th scope=col>wy</th><th scope=col>zz</th><th scope=col>ls</th><th scope=col>dl</th><th scope=col>wl</th><th scope=col>hx</th><th scope=col>sw</th></tr>\n",
       "\t<tr><th></th><th scope=col>&lt;chr&gt;</th><th scope=col>&lt;int&gt;</th><th scope=col>&lt;int&gt;</th><th scope=col>&lt;int&gt;</th><th scope=col>&lt;int&gt;</th><th scope=col>&lt;int&gt;</th><th scope=col>&lt;int&gt;</th><th scope=col>&lt;int&gt;</th><th scope=col>&lt;int&gt;</th><th scope=col>&lt;int&gt;</th></tr>\n",
       "</thead>\n",
       "<tbody>\n",
       "\t<tr><th scope=row>1</th><td>周黎  </td><td>94</td><td>82</td><td>96</td><td>97</td><td>97</td><td>98</td><td>95</td><td>94</td><td>88</td></tr>\n",
       "\t<tr><th scope=row>2</th><td>汤海明</td><td>87</td><td>94</td><td>89</td><td>95</td><td>94</td><td>94</td><td>90</td><td>90</td><td>89</td></tr>\n",
       "\t<tr><th scope=row>3</th><td>舒江辉</td><td>92</td><td>79</td><td>86</td><td>98</td><td>95</td><td>96</td><td>89</td><td>94</td><td>87</td></tr>\n",
       "\t<tr><th scope=row>4</th><td>翁柯  </td><td>91</td><td>84</td><td>96</td><td>93</td><td>97</td><td>94</td><td>82</td><td>90</td><td>83</td></tr>\n",
       "\t<tr><th scope=row>5</th><td>祁强  </td><td>85</td><td>92</td><td>82</td><td>93</td><td>87</td><td>88</td><td>95</td><td>94</td><td>93</td></tr>\n",
       "\t<tr><th scope=row>6</th><td>湛容  </td><td>92</td><td>82</td><td>85</td><td>91</td><td>90</td><td>92</td><td>82</td><td>98</td><td>90</td></tr>\n",
       "</tbody>\n",
       "</table>\n"
      ],
      "text/latex": [
       "A data.frame: 6 × 10\n",
       "\\begin{tabular}{r|llllllllll}\n",
       "  & xm & yw & sx & wy & zz & ls & dl & wl & hx & sw\\\\\n",
       "  & <chr> & <int> & <int> & <int> & <int> & <int> & <int> & <int> & <int> & <int>\\\\\n",
       "\\hline\n",
       "\t1 & 周黎   & 94 & 82 & 96 & 97 & 97 & 98 & 95 & 94 & 88\\\\\n",
       "\t2 & 汤海明 & 87 & 94 & 89 & 95 & 94 & 94 & 90 & 90 & 89\\\\\n",
       "\t3 & 舒江辉 & 92 & 79 & 86 & 98 & 95 & 96 & 89 & 94 & 87\\\\\n",
       "\t4 & 翁柯   & 91 & 84 & 96 & 93 & 97 & 94 & 82 & 90 & 83\\\\\n",
       "\t5 & 祁强   & 85 & 92 & 82 & 93 & 87 & 88 & 95 & 94 & 93\\\\\n",
       "\t6 & 湛容   & 92 & 82 & 85 & 91 & 90 & 92 & 82 & 98 & 90\\\\\n",
       "\\end{tabular}\n"
      ],
      "text/markdown": [
       "\n",
       "A data.frame: 6 × 10\n",
       "\n",
       "| <!--/--> | xm &lt;chr&gt; | yw &lt;int&gt; | sx &lt;int&gt; | wy &lt;int&gt; | zz &lt;int&gt; | ls &lt;int&gt; | dl &lt;int&gt; | wl &lt;int&gt; | hx &lt;int&gt; | sw &lt;int&gt; |\n",
       "|---|---|---|---|---|---|---|---|---|---|---|\n",
       "| 1 | 周黎   | 94 | 82 | 96 | 97 | 97 | 98 | 95 | 94 | 88 |\n",
       "| 2 | 汤海明 | 87 | 94 | 89 | 95 | 94 | 94 | 90 | 90 | 89 |\n",
       "| 3 | 舒江辉 | 92 | 79 | 86 | 98 | 95 | 96 | 89 | 94 | 87 |\n",
       "| 4 | 翁柯   | 91 | 84 | 96 | 93 | 97 | 94 | 82 | 90 | 83 |\n",
       "| 5 | 祁强   | 85 | 92 | 82 | 93 | 87 | 88 | 95 | 94 | 93 |\n",
       "| 6 | 湛容   | 92 | 82 | 85 | 91 | 90 | 92 | 82 | 98 | 90 |\n",
       "\n"
      ],
      "text/plain": [
       "  xm     yw sx wy zz ls dl wl hx sw\n",
       "1 周黎   94 82 96 97 97 98 95 94 88\n",
       "2 汤海明 87 94 89 95 94 94 90 90 89\n",
       "3 舒江辉 92 79 86 98 95 96 89 94 87\n",
       "4 翁柯   91 84 96 93 97 94 82 90 83\n",
       "5 祁强   85 92 82 93 87 88 95 94 93\n",
       "6 湛容   92 82 85 91 90 92 82 98 90"
      ]
     },
     "metadata": {},
     "output_type": "display_data"
    }
   ],
   "source": [
    "cjb %>%\n",
    "    select(1,4:12) %>%\n",
    "    head"
   ]
  },
  {
   "cell_type": "code",
   "execution_count": 307,
   "metadata": {},
   "outputs": [
    {
     "data": {
      "text/html": [
       "<table>\n",
       "<caption>A data.frame: 6 × 14</caption>\n",
       "<thead>\n",
       "\t<tr><th></th><th scope=col>xm</th><th scope=col>bj</th><th scope=col>xb</th><th scope=col>yw</th><th scope=col>sx</th><th scope=col>wy</th><th scope=col>zz</th><th scope=col>ls</th><th scope=col>dl</th><th scope=col>wl</th><th scope=col>hx</th><th scope=col>sw</th><th scope=col>wlfk</th><th scope=col>zcj</th></tr>\n",
       "\t<tr><th></th><th scope=col>&lt;chr&gt;</th><th scope=col>&lt;fct&gt;</th><th scope=col>&lt;fct&gt;</th><th scope=col>&lt;int&gt;</th><th scope=col>&lt;int&gt;</th><th scope=col>&lt;int&gt;</th><th scope=col>&lt;int&gt;</th><th scope=col>&lt;int&gt;</th><th scope=col>&lt;int&gt;</th><th scope=col>&lt;int&gt;</th><th scope=col>&lt;int&gt;</th><th scope=col>&lt;int&gt;</th><th scope=col>&lt;fct&gt;</th><th scope=col>&lt;dbl&gt;</th></tr>\n",
       "</thead>\n",
       "<tbody>\n",
       "\t<tr><th scope=row>770</th><td>瞿兵  </td><td>1115</td><td>男</td><td>88</td><td>68</td><td>77</td><td>91</td><td> 82</td><td>87</td><td>62</td><td>88</td><td>67</td><td>理科</td><td>710</td></tr>\n",
       "\t<tr><th scope=row>771</th><td>谈莞发</td><td>1115</td><td>男</td><td>79</td><td>78</td><td>70</td><td>83</td><td> 86</td><td>86</td><td>76</td><td>78</td><td>70</td><td>理科</td><td>706</td></tr>\n",
       "\t<tr><th scope=row>772</th><td>应上清</td><td>1115</td><td>男</td><td>87</td><td>63</td><td>55</td><td>93</td><td>100</td><td>94</td><td>43</td><td>88</td><td>82</td><td>理科</td><td>705</td></tr>\n",
       "\t<tr><th scope=row>773</th><td>徐宏平</td><td>1115</td><td>男</td><td>85</td><td>59</td><td>89</td><td>80</td><td> 85</td><td>82</td><td>61</td><td>64</td><td>75</td><td>理科</td><td>680</td></tr>\n",
       "\t<tr><th scope=row>774</th><td>昌肖峰</td><td>1115</td><td>男</td><td>81</td><td>62</td><td>76</td><td>89</td><td> 76</td><td>91</td><td>49</td><td>68</td><td>74</td><td>理科</td><td>666</td></tr>\n",
       "\t<tr><th scope=row>775</th><td>郑慕海</td><td>1115</td><td>男</td><td>72</td><td>59</td><td>82</td><td>92</td><td> 85</td><td>82</td><td>59</td><td>58</td><td>55</td><td>理科</td><td>644</td></tr>\n",
       "</tbody>\n",
       "</table>\n"
      ],
      "text/latex": [
       "A data.frame: 6 × 14\n",
       "\\begin{tabular}{r|llllllllllllll}\n",
       "  & xm & bj & xb & yw & sx & wy & zz & ls & dl & wl & hx & sw & wlfk & zcj\\\\\n",
       "  & <chr> & <fct> & <fct> & <int> & <int> & <int> & <int> & <int> & <int> & <int> & <int> & <int> & <fct> & <dbl>\\\\\n",
       "\\hline\n",
       "\t770 & 瞿兵   & 1115 & 男 & 88 & 68 & 77 & 91 &  82 & 87 & 62 & 88 & 67 & 理科 & 710\\\\\n",
       "\t771 & 谈莞发 & 1115 & 男 & 79 & 78 & 70 & 83 &  86 & 86 & 76 & 78 & 70 & 理科 & 706\\\\\n",
       "\t772 & 应上清 & 1115 & 男 & 87 & 63 & 55 & 93 & 100 & 94 & 43 & 88 & 82 & 理科 & 705\\\\\n",
       "\t773 & 徐宏平 & 1115 & 男 & 85 & 59 & 89 & 80 &  85 & 82 & 61 & 64 & 75 & 理科 & 680\\\\\n",
       "\t774 & 昌肖峰 & 1115 & 男 & 81 & 62 & 76 & 89 &  76 & 91 & 49 & 68 & 74 & 理科 & 666\\\\\n",
       "\t775 & 郑慕海 & 1115 & 男 & 72 & 59 & 82 & 92 &  85 & 82 & 59 & 58 & 55 & 理科 & 644\\\\\n",
       "\\end{tabular}\n"
      ],
      "text/markdown": [
       "\n",
       "A data.frame: 6 × 14\n",
       "\n",
       "| <!--/--> | xm &lt;chr&gt; | bj &lt;fct&gt; | xb &lt;fct&gt; | yw &lt;int&gt; | sx &lt;int&gt; | wy &lt;int&gt; | zz &lt;int&gt; | ls &lt;int&gt; | dl &lt;int&gt; | wl &lt;int&gt; | hx &lt;int&gt; | sw &lt;int&gt; | wlfk &lt;fct&gt; | zcj &lt;dbl&gt; |\n",
       "|---|---|---|---|---|---|---|---|---|---|---|---|---|---|---|\n",
       "| 770 | 瞿兵   | 1115 | 男 | 88 | 68 | 77 | 91 |  82 | 87 | 62 | 88 | 67 | 理科 | 710 |\n",
       "| 771 | 谈莞发 | 1115 | 男 | 79 | 78 | 70 | 83 |  86 | 86 | 76 | 78 | 70 | 理科 | 706 |\n",
       "| 772 | 应上清 | 1115 | 男 | 87 | 63 | 55 | 93 | 100 | 94 | 43 | 88 | 82 | 理科 | 705 |\n",
       "| 773 | 徐宏平 | 1115 | 男 | 85 | 59 | 89 | 80 |  85 | 82 | 61 | 64 | 75 | 理科 | 680 |\n",
       "| 774 | 昌肖峰 | 1115 | 男 | 81 | 62 | 76 | 89 |  76 | 91 | 49 | 68 | 74 | 理科 | 666 |\n",
       "| 775 | 郑慕海 | 1115 | 男 | 72 | 59 | 82 | 92 |  85 | 82 | 59 | 58 | 55 | 理科 | 644 |\n",
       "\n"
      ],
      "text/plain": [
       "    xm     bj   xb yw sx wy zz ls  dl wl hx sw wlfk zcj\n",
       "770 瞿兵   1115 男 88 68 77 91  82 87 62 88 67 理科 710\n",
       "771 谈莞发 1115 男 79 78 70 83  86 86 76 78 70 理科 706\n",
       "772 应上清 1115 男 87 63 55 93 100 94 43 88 82 理科 705\n",
       "773 徐宏平 1115 男 85 59 89 80  85 82 61 64 75 理科 680\n",
       "774 昌肖峰 1115 男 81 62 76 89  76 91 49 68 74 理科 666\n",
       "775 郑慕海 1115 男 72 59 82 92  85 82 59 58 55 理科 644"
      ]
     },
     "metadata": {},
     "output_type": "display_data"
    }
   ],
   "source": [
    "cjb %>%\n",
    "    mutate_at(vars(bj,xb,wlfk),factor) %>%\n",
    "    mutate(zcj = rowSums(.[4:12])) %>%\n",
    "    tail"
   ]
  },
  {
   "cell_type": "code",
   "execution_count": 311,
   "metadata": {},
   "outputs": [],
   "source": [
    "cjb %<>%\n",
    "    mutate(zcj=rowSums(.[4:12])) %>%\n",
    "    arrange(desc(zcj))"
   ]
  },
  {
   "cell_type": "code",
   "execution_count": 313,
   "metadata": {},
   "outputs": [
    {
     "data": {
      "text/html": [
       "<table>\n",
       "<caption>A data.frame: 2 × 14</caption>\n",
       "<thead>\n",
       "\t<tr><th scope=col>xm</th><th scope=col>bj</th><th scope=col>xb</th><th scope=col>yw</th><th scope=col>sx</th><th scope=col>wy</th><th scope=col>zz</th><th scope=col>ls</th><th scope=col>dl</th><th scope=col>wl</th><th scope=col>hx</th><th scope=col>sw</th><th scope=col>wlfk</th><th scope=col>zcj</th></tr>\n",
       "\t<tr><th scope=col>&lt;chr&gt;</th><th scope=col>&lt;int&gt;</th><th scope=col>&lt;fct&gt;</th><th scope=col>&lt;int&gt;</th><th scope=col>&lt;int&gt;</th><th scope=col>&lt;int&gt;</th><th scope=col>&lt;int&gt;</th><th scope=col>&lt;int&gt;</th><th scope=col>&lt;int&gt;</th><th scope=col>&lt;int&gt;</th><th scope=col>&lt;int&gt;</th><th scope=col>&lt;int&gt;</th><th scope=col>&lt;fct&gt;</th><th scope=col>&lt;dbl&gt;</th></tr>\n",
       "</thead>\n",
       "<tbody>\n",
       "\t<tr><td>滑亚  </td><td>1113</td><td>男</td><td>33</td><td>46</td><td>30</td><td>65</td><td>82</td><td>76</td><td>56</td><td>76</td><td>59</td><td>理科</td><td>523</td></tr>\n",
       "\t<tr><td>张良平</td><td>1115</td><td>男</td><td> 0</td><td> 0</td><td> 0</td><td> 0</td><td> 0</td><td> 0</td><td> 0</td><td> 0</td><td> 0</td><td>理科</td><td>  0</td></tr>\n",
       "</tbody>\n",
       "</table>\n"
      ],
      "text/latex": [
       "A data.frame: 2 × 14\n",
       "\\begin{tabular}{llllllllllllll}\n",
       " xm & bj & xb & yw & sx & wy & zz & ls & dl & wl & hx & sw & wlfk & zcj\\\\\n",
       " <chr> & <int> & <fct> & <int> & <int> & <int> & <int> & <int> & <int> & <int> & <int> & <int> & <fct> & <dbl>\\\\\n",
       "\\hline\n",
       "\t 滑亚   & 1113 & 男 & 33 & 46 & 30 & 65 & 82 & 76 & 56 & 76 & 59 & 理科 & 523\\\\\n",
       "\t 张良平 & 1115 & 男 &  0 &  0 &  0 &  0 &  0 &  0 &  0 &  0 &  0 & 理科 &   0\\\\\n",
       "\\end{tabular}\n"
      ],
      "text/markdown": [
       "\n",
       "A data.frame: 2 × 14\n",
       "\n",
       "| xm &lt;chr&gt; | bj &lt;int&gt; | xb &lt;fct&gt; | yw &lt;int&gt; | sx &lt;int&gt; | wy &lt;int&gt; | zz &lt;int&gt; | ls &lt;int&gt; | dl &lt;int&gt; | wl &lt;int&gt; | hx &lt;int&gt; | sw &lt;int&gt; | wlfk &lt;fct&gt; | zcj &lt;dbl&gt; |\n",
       "|---|---|---|---|---|---|---|---|---|---|---|---|---|---|\n",
       "| 滑亚   | 1113 | 男 | 33 | 46 | 30 | 65 | 82 | 76 | 56 | 76 | 59 | 理科 | 523 |\n",
       "| 张良平 | 1115 | 男 |  0 |  0 |  0 |  0 |  0 |  0 |  0 |  0 |  0 | 理科 |   0 |\n",
       "\n"
      ],
      "text/plain": [
       "  xm     bj   xb yw sx wy zz ls dl wl hx sw wlfk zcj\n",
       "1 滑亚   1113 男 33 46 30 65 82 76 56 76 59 理科 523\n",
       "2 张良平 1115 男  0  0  0  0  0  0  0  0  0 理科   0"
      ]
     },
     "metadata": {},
     "output_type": "display_data"
    }
   ],
   "source": [
    "cjb %>%\n",
    "    dplyr::filter(yw<60)"
   ]
  },
  {
   "cell_type": "code",
   "execution_count": 321,
   "metadata": {},
   "outputs": [
    {
     "name": "stderr",
     "output_type": "stream",
     "text": [
      "`summarise()` ungrouping output (override with `.groups` argument)\n",
      "\n"
     ]
    },
    {
     "data": {
      "text/html": [
       "<table>\n",
       "<caption>A tibble: 2 × 2</caption>\n",
       "<thead>\n",
       "\t<tr><th scope=col>xb</th><th scope=col>count</th></tr>\n",
       "\t<tr><th scope=col>&lt;fct&gt;</th><th scope=col>&lt;int&gt;</th></tr>\n",
       "</thead>\n",
       "<tbody>\n",
       "\t<tr><td>女</td><td>406</td></tr>\n",
       "\t<tr><td>男</td><td>368</td></tr>\n",
       "</tbody>\n",
       "</table>\n"
      ],
      "text/latex": [
       "A tibble: 2 × 2\n",
       "\\begin{tabular}{ll}\n",
       " xb & count\\\\\n",
       " <fct> & <int>\\\\\n",
       "\\hline\n",
       "\t 女 & 406\\\\\n",
       "\t 男 & 368\\\\\n",
       "\\end{tabular}\n"
      ],
      "text/markdown": [
       "\n",
       "A tibble: 2 × 2\n",
       "\n",
       "| xb &lt;fct&gt; | count &lt;int&gt; |\n",
       "|---|---|\n",
       "| 女 | 406 |\n",
       "| 男 | 368 |\n",
       "\n"
      ],
      "text/plain": [
       "  xb count\n",
       "1 女 406  \n",
       "2 男 368  "
      ]
     },
     "metadata": {},
     "output_type": "display_data"
    }
   ],
   "source": [
    "cjb %>%\n",
    "    dplyr::filter(zcj!=0) %>%\n",
    "    group_by(xb) %>%\n",
    "    summarise(count=n())"
   ]
  },
  {
   "cell_type": "code",
   "execution_count": null,
   "metadata": {},
   "outputs": [],
   "source": []
  }
 ],
 "metadata": {
  "kernelspec": {
   "display_name": "R",
   "language": "R",
   "name": "ir"
  },
  "language_info": {
   "codemirror_mode": "r",
   "file_extension": ".r",
   "mimetype": "text/x-r-source",
   "name": "R",
   "pygments_lexer": "r",
   "version": "3.6.3"
  }
 },
 "nbformat": 4,
 "nbformat_minor": 4
}
