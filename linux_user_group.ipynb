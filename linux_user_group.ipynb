{
 "cells": [
  {
   "cell_type": "markdown",
   "metadata": {},
   "source": [
    "## 用户、组和权限管理\n",
    "1. 认证 Authentication\n",
    "2. 授权 Authoruzation\n",
    "3. 审计 监督权限使用\n",
    "\n",
    "> 组：一个文件只能属于一个用户，通过组实现其它用户对于文件访问\n",
    "\n",
    "#### 用户类别：\n",
    "1. 管理员\n",
    "2. 普通用户\n",
    "    + 系统用户\n",
    "    + 登录用户\n",
    "#### 组类别\n",
    "1. 管理员组\n",
    "2. 普通用户组\n",
    "    + 系统组\n",
    "    + 登录用户组 \n",
    "    \n",
    "#### 组类别2\n",
    "> 一个用户可以在多个组\n",
    "1. 用户的基本组\n",
    "2. 用户的附加组\n",
    "\n",
    "#### 相关命令\n",
    "1. useradd \n",
    "    + cat /etc/shells 查看所有shell \n",
    "2. userdel\n",
    "3. usermod\n",
    "4. passwd\n",
    "5. groudadd [-r]\n",
    "6. groupdel\n",
    "7. groupmod\n",
    "8. gpasswd\n",
    "    + newgrp 临时切换指定的组\n",
    "9. chage\n",
    "10. chsh\n",
    "11. id\n",
    "12. su\n",
    "    + -c\n",
    "13. "
   ]
  },
  {
   "cell_type": "code",
   "execution_count": 44,
   "metadata": {},
   "outputs": [
    {
     "name": "stdout",
     "output_type": "stream",
     "text": [
      "root:x:0:0:root:/root:/bin/bash\n",
      "daemon:x:1:1:daemon:/usr/sbin:/usr/sbin/nologin\n",
      "bin:x:2:2:bin:/bin:/usr/sbin/nologin\n",
      "sys:x:3:3:sys:/dev:/usr/sbin/nologin\n",
      "sync:x:4:65534:sync:/bin:/bin/sync\n",
      "games:x:5:60:games:/usr/games:/usr/sbin/nologin\n",
      "man:x:6:12:man:/var/cache/man:/usr/sbin/nologin\n",
      "lp:x:7:7:lp:/var/spool/lpd:/usr/sbin/nologin\n",
      "mail:x:8:8:mail:/var/mail:/usr/sbin/nologin\n",
      "news:x:9:9:news:/var/spool/news:/usr/sbin/nologin\n",
      "passwd (1ssl)        - compute password hashes\n",
      "passwd (1)           - change user password\n",
      "passwd (5)           - the password file\n",
      "PASSWD(5)                File Formats and Conversions                PASSWD(5)\n",
      "\n",
      "NAME\n",
      "       passwd - the password file\n",
      "\n",
      "DESCRIPTION\n",
      "       /etc/passwd contains one line for each user account, with seven fields\n",
      "       delimited by colons (“:”). These fields are:\n",
      "\n",
      "       •   login name\n"
     ]
    }
   ],
   "source": [
    "head /etc/passwd # 用户名称解析库\n",
    "# 用户名：用户密码占位符/用户密码：用户ID：主组ID：注释：家目录：用户默认打开shell\n",
    "whatis passwd\n",
    "man 5 passwd | head "
   ]
  },
  {
   "cell_type": "code",
   "execution_count": 15,
   "metadata": {},
   "outputs": [
    {
     "name": "stdout",
     "output_type": "stream",
     "text": [
      "root:x:0:\n",
      "daemon:x:1:\n",
      "bin:x:2:\n",
      "sys:x:3:\n",
      "adm:x:4:syslog\n",
      "tty:x:5:syslog\n",
      "disk:x:6:\n",
      "lp:x:7:\n",
      "mail:x:8:\n",
      "news:x:9:\n"
     ]
    }
   ],
   "source": [
    "head /etc/group # 组名:x:组ID：以此组为附加组的用户列表"
   ]
  },
  {
   "cell_type": "code",
   "execution_count": 22,
   "metadata": {},
   "outputs": [
    {
     "name": "stdout",
     "output_type": "stream",
     "text": [
      "root:$6$GOScsL6ixk.TKGiZ$TNgVKRcJb/mmlJGZeRUPKycoGJdsrS/L0rHxRx1bRZK6bYavc2.eMjWpcroaibzIfmiwfKAW6tx86B0yV7NsC.:18566:0:99999:7:::\n",
      "daemon:*:18375:0:99999:7:::\n",
      "bin:*:18375:0:99999:7:::\n",
      "sys:*:18375:0:99999:7:::\n",
      "sync:*:18375:0:99999:7:::\n",
      "games:*:18375:0:99999:7:::\n",
      "man:*:18375:0:99999:7:::\n",
      "lp:*:18375:0:99999:7:::\n",
      "mail:*:18375:0:99999:7:::\n",
      "news:*:18375:0:99999:7:::\n"
     ]
    }
   ],
   "source": [
    "head /etc/shadow # 用户密码"
   ]
  },
  {
   "cell_type": "code",
   "execution_count": 28,
   "metadata": {},
   "outputs": [
    {
     "name": "stdout",
     "output_type": "stream",
     "text": [
      "root:*::\n",
      "daemon:*::\n",
      "bin:*::\n",
      "sys:*::\n",
      "adm:*::syslog\n",
      "tty:*::syslog\n",
      "disk:*::\n",
      "lp:*::\n",
      "mail:*::\n",
      "news:*::\n"
     ]
    }
   ],
   "source": [
    "head /etc/gshadow # 组密码"
   ]
  },
  {
   "cell_type": "code",
   "execution_count": 34,
   "metadata": {},
   "outputs": [
    {
     "name": "stdout",
     "output_type": "stream",
     "text": [
      "2f065f71bdbbfe3637ae14b43f1ae015  -\n"
     ]
    }
   ],
   "source": [
    "echo \"How are you?\" | md5sum"
   ]
  },
  {
   "cell_type": "markdown",
   "metadata": {},
   "source": [
    "## 权限管理\n",
    "1. 模型和所属关系\n",
    "    + mode:rwxrwxrwx\n",
    "    + ownership:user,group\n",
    "2. ls -l\n",
    "    + rwxrwxrwx\n",
    "    + user,group,other\n",
    "3. chmod \n",
    "    + u g o a\n",
    "    + -R 递归修改目录\n",
    "    + chmod g=rw,u=r xx \n",
    "    + chmod ug=rw xx\n",
    "    + chmod u-x xx\n",
    "    + chmod 775 xx\n",
    "    + chmod --reference xxx xxx\n",
    "\n",
    "4. chown\n",
    "    + -R\n",
    "    + chown -R user:group xxx/\n",
    "5. chgrp\n",
    "    + chgrp group /xxx\n",
    "6. 权限\n",
    "    + 文件：\n",
    "        + r：可获取文件数据\n",
    "        + w：可修改文件数据\n",
    "        + x：可将此文件运行为进程\n",
    "    + 目录：\n",
    "        + r：可使用ls命令获取其下所有文件列表\n",
    "        + w：可修改此目录下的文件列表，即创建删除文件\n",
    "        + x：可cd至此目录，可使用ls -l来获取文件的详细信息\n",
    "7. 权限组合模型\n",
    "    + --- 000 0\n",
    "    + --x 001 1\n",
    "    + -w- 010 2\n",
    "    + -wx 011 3\n",
    "    + r-- 100 4\n",
    "    + r-x 101 5\n",
    "    + rw- 110 6\n",
    "    + rwx 111 7\n",
    "        "
   ]
  }
 ],
 "metadata": {
  "kernelspec": {
   "display_name": "Bash",
   "language": "bash",
   "name": "bash"
  },
  "language_info": {
   "codemirror_mode": "shell",
   "file_extension": ".sh",
   "mimetype": "text/x-sh",
   "name": "bash"
  }
 },
 "nbformat": 4,
 "nbformat_minor": 4
}
