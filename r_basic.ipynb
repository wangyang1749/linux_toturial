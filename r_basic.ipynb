{
 "cells": [
  {
   "cell_type": "markdown",
   "metadata": {},
   "source": [
    "## R语言基础\n",
    "<https://github.com/byaxb/RDataAnalytics>\n",
    "1. 控制流\n",
    "    + 顺序\n",
    "    + 条件\n",
    "       + ifelse\n",
    "    + 循环 \n",
    "        + break next\n",
    "        + for\n",
    "        + while\n",
    "        + repeat\n",
    "2. 函数"
   ]
  },
  {
   "cell_type": "markdown",
   "metadata": {},
   "source": [
    "---\n",
    "#### 控制流"
   ]
  },
  {
   "cell_type": "code",
   "execution_count": 1,
   "metadata": {},
   "outputs": [
    {
     "data": {
      "text/html": [
       "90.1666666666667"
      ],
      "text/latex": [
       "90.1666666666667"
      ],
      "text/markdown": [
       "90.1666666666667"
      ],
      "text/plain": [
       "[1] 90.16667"
      ]
     },
     "metadata": {},
     "output_type": "display_data"
    },
    {
     "data": {
      "text/html": [
       "3.43025752191678"
      ],
      "text/latex": [
       "3.43025752191678"
      ],
      "text/markdown": [
       "3.43025752191678"
      ],
      "text/plain": [
       "[1] 3.430258"
      ]
     },
     "metadata": {},
     "output_type": "display_data"
    },
    {
     "data": {
      "text/html": [
       "3.43025752191678"
      ],
      "text/latex": [
       "3.43025752191678"
      ],
      "text/markdown": [
       "3.43025752191678"
      ],
      "text/plain": [
       "[1] 3.430258"
      ]
     },
     "metadata": {},
     "output_type": "display_data"
    },
    {
     "data": {
      "text/html": [
       "<style>\n",
       ".list-inline {list-style: none; margin:0; padding: 0}\n",
       ".list-inline>li {display: inline-block}\n",
       ".list-inline>li:not(:last-child)::after {content: \"\\00b7\"; padding: 0 .5ex}\n",
       "</style>\n",
       "<ol class=list-inline><li>TRUE</li><li>FALSE</li><li>TRUE</li><li>TRUE</li><li>FALSE</li><li>TRUE</li></ol>\n"
      ],
      "text/latex": [
       "\\begin{enumerate*}\n",
       "\\item TRUE\n",
       "\\item FALSE\n",
       "\\item TRUE\n",
       "\\item TRUE\n",
       "\\item FALSE\n",
       "\\item TRUE\n",
       "\\end{enumerate*}\n"
      ],
      "text/markdown": [
       "1. TRUE\n",
       "2. FALSE\n",
       "3. TRUE\n",
       "4. TRUE\n",
       "5. FALSE\n",
       "6. TRUE\n",
       "\n",
       "\n"
      ],
      "text/plain": [
       "[1]  TRUE FALSE  TRUE  TRUE FALSE  TRUE"
      ]
     },
     "metadata": {},
     "output_type": "display_data"
    }
   ],
   "source": [
    "#每一个同学都有多科成绩\n",
    "#语文\n",
    "yw <- c(94, 87, 92, 91, 85, 92)\n",
    "#数学\n",
    "sx <- c(82, 94, 79, 84, 92, 82)\n",
    "#外语\n",
    "wy <- c(96, 89, 86, 96, 82, 85)\n",
    "(yw_mean <- mean(yw)) # 平均分\n",
    "sd(yw) # 标准差\n",
    "(1/(6-1) * sum((yw-yw_mean)^2))^0.5\n",
    "yw >=90"
   ]
  },
  {
   "cell_type": "code",
   "execution_count": 2,
   "metadata": {},
   "outputs": [
    {
     "name": "stderr",
     "output_type": "stream",
     "text": [
      "very good\n",
      "\n"
     ]
    }
   ],
   "source": [
    "min_score <- min(yw)\n",
    "if(min_score){\n",
    "    message(\"very good\")\n",
    "}else if(min_score >= 80){\n",
    "    message(\"good\")\n",
    "}else{\n",
    "    message(\"bad\")\n",
    "}"
   ]
  },
  {
   "cell_type": "code",
   "execution_count": 3,
   "metadata": {},
   "outputs": [
    {
     "data": {
      "text/html": [
       "<style>\n",
       ".list-inline {list-style: none; margin:0; padding: 0}\n",
       ".list-inline>li {display: inline-block}\n",
       ".list-inline>li:not(:last-child)::after {content: \"\\00b7\"; padding: 0 .5ex}\n",
       "</style>\n",
       "<ol class=list-inline><li>'good'</li><li>'bad'</li><li>'good'</li><li>'good'</li><li>'bad'</li><li>'good'</li></ol>\n"
      ],
      "text/latex": [
       "\\begin{enumerate*}\n",
       "\\item 'good'\n",
       "\\item 'bad'\n",
       "\\item 'good'\n",
       "\\item 'good'\n",
       "\\item 'bad'\n",
       "\\item 'good'\n",
       "\\end{enumerate*}\n"
      ],
      "text/markdown": [
       "1. 'good'\n",
       "2. 'bad'\n",
       "3. 'good'\n",
       "4. 'good'\n",
       "5. 'bad'\n",
       "6. 'good'\n",
       "\n",
       "\n"
      ],
      "text/plain": [
       "[1] \"good\" \"bad\"  \"good\" \"good\" \"bad\"  \"good\""
      ]
     },
     "metadata": {},
     "output_type": "display_data"
    }
   ],
   "source": [
    "ifelse(yw >= 90,\"good\",\"bad\")"
   ]
  },
  {
   "cell_type": "code",
   "execution_count": 4,
   "metadata": {},
   "outputs": [
    {
     "data": {
      "text/html": [
       "<style>\n",
       ".list-inline {list-style: none; margin:0; padding: 0}\n",
       ".list-inline>li {display: inline-block}\n",
       ".list-inline>li:not(:last-child)::after {content: \"\\00b7\"; padding: 0 .5ex}\n",
       "</style>\n",
       "<ol class=list-inline><li>'good'</li><li>'bad'</li><li>'good'</li><li>'good'</li><li>'bad'</li><li>'good'</li></ol>\n"
      ],
      "text/latex": [
       "\\begin{enumerate*}\n",
       "\\item 'good'\n",
       "\\item 'bad'\n",
       "\\item 'good'\n",
       "\\item 'good'\n",
       "\\item 'bad'\n",
       "\\item 'good'\n",
       "\\end{enumerate*}\n"
      ],
      "text/markdown": [
       "1. 'good'\n",
       "2. 'bad'\n",
       "3. 'good'\n",
       "4. 'good'\n",
       "5. 'bad'\n",
       "6. 'good'\n",
       "\n",
       "\n"
      ],
      "text/plain": [
       "[1] \"good\" \"bad\"  \"good\" \"good\" \"bad\"  \"good\""
      ]
     },
     "metadata": {},
     "output_type": "display_data"
    }
   ],
   "source": [
    "ifelse(yw >= 90,\"good\",ifelse(yw >= 80,\"bad\",\"very bad\"))"
   ]
  },
  {
   "cell_type": "code",
   "execution_count": 5,
   "metadata": {},
   "outputs": [
    {
     "data": {
      "text/html": [
       "<style>\n",
       ".list-inline {list-style: none; margin:0; padding: 0}\n",
       ".list-inline>li {display: inline-block}\n",
       ".list-inline>li:not(:last-child)::after {content: \"\\00b7\"; padding: 0 .5ex}\n",
       "</style>\n",
       "<ol class=list-inline><li>0</li><li>0</li><li>0</li><li>0</li><li>0</li><li>0</li><li>0</li><li>0</li><li>0</li><li>0</li><li>0</li><li>0</li><li>0</li><li>0</li><li>0</li><li>0</li></ol>\n"
      ],
      "text/latex": [
       "\\begin{enumerate*}\n",
       "\\item 0\n",
       "\\item 0\n",
       "\\item 0\n",
       "\\item 0\n",
       "\\item 0\n",
       "\\item 0\n",
       "\\item 0\n",
       "\\item 0\n",
       "\\item 0\n",
       "\\item 0\n",
       "\\item 0\n",
       "\\item 0\n",
       "\\item 0\n",
       "\\item 0\n",
       "\\item 0\n",
       "\\item 0\n",
       "\\end{enumerate*}\n"
      ],
      "text/markdown": [
       "1. 0\n",
       "2. 0\n",
       "3. 0\n",
       "4. 0\n",
       "5. 0\n",
       "6. 0\n",
       "7. 0\n",
       "8. 0\n",
       "9. 0\n",
       "10. 0\n",
       "11. 0\n",
       "12. 0\n",
       "13. 0\n",
       "14. 0\n",
       "15. 0\n",
       "16. 0\n",
       "\n",
       "\n"
      ],
      "text/plain": [
       " [1] 0 0 0 0 0 0 0 0 0 0 0 0 0 0 0 0"
      ]
     },
     "metadata": {},
     "output_type": "display_data"
    },
    {
     "data": {
      "text/html": [
       "<style>\n",
       ".list-inline {list-style: none; margin:0; padding: 0}\n",
       ".list-inline>li {display: inline-block}\n",
       ".list-inline>li:not(:last-child)::after {content: \"\\00b7\"; padding: 0 .5ex}\n",
       "</style>\n",
       "<ol class=list-inline><li>3</li><li>4</li><li>5</li><li>6</li><li>7</li><li>8</li><li>9</li><li>10</li><li>11</li><li>12</li><li>13</li><li>14</li><li>15</li><li>16</li></ol>\n"
      ],
      "text/latex": [
       "\\begin{enumerate*}\n",
       "\\item 3\n",
       "\\item 4\n",
       "\\item 5\n",
       "\\item 6\n",
       "\\item 7\n",
       "\\item 8\n",
       "\\item 9\n",
       "\\item 10\n",
       "\\item 11\n",
       "\\item 12\n",
       "\\item 13\n",
       "\\item 14\n",
       "\\item 15\n",
       "\\item 16\n",
       "\\end{enumerate*}\n"
      ],
      "text/markdown": [
       "1. 3\n",
       "2. 4\n",
       "3. 5\n",
       "4. 6\n",
       "5. 7\n",
       "6. 8\n",
       "7. 9\n",
       "8. 10\n",
       "9. 11\n",
       "10. 12\n",
       "11. 13\n",
       "12. 14\n",
       "13. 15\n",
       "14. 16\n",
       "\n",
       "\n"
      ],
      "text/plain": [
       " [1]  3  4  5  6  7  8  9 10 11 12 13 14 15 16"
      ]
     },
     "metadata": {},
     "output_type": "display_data"
    },
    {
     "name": "stdout",
     "output_type": "stream",
     "text": [
      "[1] 2\n",
      "[1] 3\n",
      "[1] 5\n",
      "[1] 8\n",
      "[1] 13\n",
      "[1] 21\n",
      "[1] 34\n",
      "[1] 55\n",
      "[1] 89\n",
      "[1] 144\n",
      "[1] 233\n",
      "[1] 377\n",
      "[1] 610\n",
      "[1] 987\n"
     ]
    }
   ],
   "source": [
    "n_fib <- 16\n",
    "(fib <- numeric(n_fib))\n",
    "fib[1:2] <- c(1,1)\n",
    "(l_num <- 3:n_fib)\n",
    "for(i in l_num){\n",
    "    fib[i] <- fib[i-1]+fib[i-2]\n",
    "    show(fib[i])\n",
    "}"
   ]
  },
  {
   "cell_type": "code",
   "execution_count": 6,
   "metadata": {},
   "outputs": [
    {
     "data": {
      "text/html": [
       "<style>\n",
       ".list-inline {list-style: none; margin:0; padding: 0}\n",
       ".list-inline>li {display: inline-block}\n",
       ".list-inline>li:not(:last-child)::after {content: \"\\00b7\"; padding: 0 .5ex}\n",
       "</style>\n",
       "<ol class=list-inline><li>1</li><li>1</li><li>2</li><li>3</li><li>5</li><li>8</li><li>13</li><li>21</li><li>34</li><li>55</li><li>89</li><li>144</li><li>233</li><li>377</li><li>610</li><li>987</li></ol>\n"
      ],
      "text/latex": [
       "\\begin{enumerate*}\n",
       "\\item 1\n",
       "\\item 1\n",
       "\\item 2\n",
       "\\item 3\n",
       "\\item 5\n",
       "\\item 8\n",
       "\\item 13\n",
       "\\item 21\n",
       "\\item 34\n",
       "\\item 55\n",
       "\\item 89\n",
       "\\item 144\n",
       "\\item 233\n",
       "\\item 377\n",
       "\\item 610\n",
       "\\item 987\n",
       "\\end{enumerate*}\n"
      ],
      "text/markdown": [
       "1. 1\n",
       "2. 1\n",
       "3. 2\n",
       "4. 3\n",
       "5. 5\n",
       "6. 8\n",
       "7. 13\n",
       "8. 21\n",
       "9. 34\n",
       "10. 55\n",
       "11. 89\n",
       "12. 144\n",
       "13. 233\n",
       "14. 377\n",
       "15. 610\n",
       "16. 987\n",
       "\n",
       "\n"
      ],
      "text/plain": [
       " [1]   1   1   2   3   5   8  13  21  34  55  89 144 233 377 610 987"
      ]
     },
     "metadata": {},
     "output_type": "display_data"
    }
   ],
   "source": [
    "fib <- c(1,1)\n",
    "#tail(fib)\n",
    "while(sum(tail(fib,2)) < 1000){\n",
    "    fib_t <- sum(fib[length(fib)], fib[length(fib)-1])\n",
    "    fib <- c(fib, fib_t)\n",
    "}\n",
    "fib"
   ]
  },
  {
   "cell_type": "code",
   "execution_count": 7,
   "metadata": {},
   "outputs": [
    {
     "data": {
      "text/html": [
       "<style>\n",
       ".list-inline {list-style: none; margin:0; padding: 0}\n",
       ".list-inline>li {display: inline-block}\n",
       ".list-inline>li:not(:last-child)::after {content: \"\\00b7\"; padding: 0 .5ex}\n",
       "</style>\n",
       "<ol class=list-inline><li>1</li><li>1</li><li>2</li><li>3</li><li>5</li><li>8</li><li>13</li><li>21</li><li>34</li><li>55</li><li>89</li><li>144</li><li>233</li><li>377</li><li>610</li><li>987</li></ol>\n"
      ],
      "text/latex": [
       "\\begin{enumerate*}\n",
       "\\item 1\n",
       "\\item 1\n",
       "\\item 2\n",
       "\\item 3\n",
       "\\item 5\n",
       "\\item 8\n",
       "\\item 13\n",
       "\\item 21\n",
       "\\item 34\n",
       "\\item 55\n",
       "\\item 89\n",
       "\\item 144\n",
       "\\item 233\n",
       "\\item 377\n",
       "\\item 610\n",
       "\\item 987\n",
       "\\end{enumerate*}\n"
      ],
      "text/markdown": [
       "1. 1\n",
       "2. 1\n",
       "3. 2\n",
       "4. 3\n",
       "5. 5\n",
       "6. 8\n",
       "7. 13\n",
       "8. 21\n",
       "9. 34\n",
       "10. 55\n",
       "11. 89\n",
       "12. 144\n",
       "13. 233\n",
       "14. 377\n",
       "15. 610\n",
       "16. 987\n",
       "\n",
       "\n"
      ],
      "text/plain": [
       " [1]   1   1   2   3   5   8  13  21  34  55  89 144 233 377 610 987"
      ]
     },
     "metadata": {},
     "output_type": "display_data"
    }
   ],
   "source": [
    "fib <- c(1,1)\n",
    "repeat {\n",
    "    if(sum(tail(fib,2)) >= 1000){\n",
    "        break\n",
    "    }\n",
    "    fib <- c(fib, sum(tail(fib,2)))\n",
    "}\n",
    "fib"
   ]
  },
  {
   "cell_type": "markdown",
   "metadata": {},
   "source": [
    "+ 只要穿行模式不是必须的，本轮循环不受上一轮影响，采用并行模式"
   ]
  },
  {
   "cell_type": "code",
   "execution_count": 8,
   "metadata": {},
   "outputs": [
    {
     "data": {
      "text/plain": [
       "   user  system elapsed \n",
       "  0.546   0.605   1.151 "
      ]
     },
     "metadata": {},
     "output_type": "display_data"
    }
   ],
   "source": [
    "x <- 1:1e8\n",
    "y <- 2:(1e8+1)\n",
    "z <- integer(1e8)\n",
    "system.time(z <- x+y,gcFirst=T)"
   ]
  },
  {
   "cell_type": "code",
   "execution_count": 9,
   "metadata": {},
   "outputs": [],
   "source": [
    "if(F){\n",
    "     system.time({\n",
    "        for (i in 1:1e8){\n",
    "            z[i] <- x[i] + y[i]\n",
    "        }\n",
    "    },gcFirst=T)   \n",
    "}"
   ]
  },
  {
   "cell_type": "code",
   "execution_count": null,
   "metadata": {},
   "outputs": [],
   "source": [
    "if(T){\n",
    "     system.time({\n",
    "         sapply(1:1e8,function(i){\n",
    "             z[i] <- x[i] + y[i]\n",
    "         })\n",
    "    },gcFirst=T)   \n",
    "}"
   ]
  },
  {
   "cell_type": "code",
   "execution_count": null,
   "metadata": {},
   "outputs": [],
   "source": [
    "n_fib <- 16\n",
    "sapply(1:n_fib, function(x) {\n",
    "    1 / sqrt(5) *\n",
    "        (((1 + sqrt(5)) / 2) ^ x -\n",
    "             ((1 - sqrt(5)) / 2) ^ x)\n",
    "})"
   ]
  },
  {
   "cell_type": "code",
   "execution_count": null,
   "metadata": {},
   "outputs": [],
   "source": [
    "library(pbapply)\n",
    "pbsapply(1:n_fib, function(x) {\n",
    "    1 / sqrt(5) *\n",
    "        (((1 + sqrt(5)) / 2) ^ x -\n",
    "             ((1 - sqrt(5)) / 2) ^ x)\n",
    "})"
   ]
  },
  {
   "cell_type": "markdown",
   "metadata": {},
   "source": [
    "\n",
    "----\n",
    "#### 函数"
   ]
  },
  {
   "cell_type": "code",
   "execution_count": 46,
   "metadata": {},
   "outputs": [
    {
     "name": "stderr",
     "output_type": "stream",
     "text": [
      "I am interface\n",
      "\n"
     ]
    },
    {
     "data": {
      "text/html": [
       "4"
      ],
      "text/latex": [
       "4"
      ],
      "text/markdown": [
       "4"
      ],
      "text/plain": [
       "[1] 4"
      ]
     },
     "metadata": {},
     "output_type": "display_data"
    },
    {
     "name": "stderr",
     "output_type": "stream",
     "text": [
      "I am interface\n",
      "\n"
     ]
    },
    {
     "data": {
      "text/plain": [
       "[1] 4\n",
       "attr(,\"class\")\n",
       "[1] \"addXY\""
      ]
     },
     "metadata": {},
     "output_type": "display_data"
    },
    {
     "name": "stderr",
     "output_type": "stream",
     "text": [
      "I am interface\n",
      "\n"
     ]
    },
    {
     "data": {
      "text/plain": [
       "[1] 4\n",
       "attr(,\"class\")\n",
       "[1] \"multiplyXY\""
      ]
     },
     "metadata": {},
     "output_type": "display_data"
    },
    {
     "name": "stderr",
     "output_type": "stream",
     "text": [
      "I am interface\n",
      "\n"
     ]
    },
    {
     "data": {
      "text/plain": [
       "[1] 45\n",
       "attr(,\"class\")\n",
       "[1] \"multiplyXY\""
      ]
     },
     "metadata": {},
     "output_type": "display_data"
    }
   ],
   "source": [
    "my_function <- function(x,y){\n",
    "  message(\"I am interface\")\n",
    "  UseMethod(\"my_function\",y) # 通过x标签类型确定执行函数\n",
    "}\n",
    "my_function.addXY <- function(x,y){\n",
    "  return(x+y)\n",
    "}\n",
    "my_function.multiplyXY <- function(x,y){\n",
    "  return(x*y)\n",
    "}\n",
    "my_function.default <- function(x,y){\n",
    "  return(x-y)\n",
    "}\n",
    "x<-9\n",
    "y<-5\n",
    "my_function(x,y) # default 4\n",
    "class(x) <- \"addXY\"\n",
    "my_function(x,y) # addXY 14\n",
    "class(x) <- \"multiplyXY\"\n",
    "my_function(x,y) # multiplyXY 45\n",
    "class(y) <- \"multiplyXY\"\n",
    "my_function(x,y) # multiplyXY 45"
   ]
  },
  {
   "cell_type": "code",
   "execution_count": 32,
   "metadata": {},
   "outputs": [
    {
     "data": {
      "text/html": [
       "<style>\n",
       ".list-inline {list-style: none; margin:0; padding: 0}\n",
       ".list-inline>li {display: inline-block}\n",
       ".list-inline>li:not(:last-child)::after {content: \"\\00b7\"; padding: 0 .5ex}\n",
       "</style>\n",
       "<ol class=list-inline><li>'data'</li><li>'learn_case'</li><li>'linux_bash.ipynb'</li><li>'linux_basic.ipynb'</li><li>'linux_nano.sh'</li><li>'linux_network.ipynb'</li><li>'linux_process.ipynb'</li><li>'linux_user_group.ipynb'</li><li>'python_oop.ipynb'</li><li>'r_basic.ipynb'</li><li>'r_data_object.ipynb'</li><li>'r_graphich.ipynb'</li><li>'smaple.tmp'</li></ol>\n"
      ],
      "text/latex": [
       "\\begin{enumerate*}\n",
       "\\item 'data'\n",
       "\\item 'learn\\_case'\n",
       "\\item 'linux\\_bash.ipynb'\n",
       "\\item 'linux\\_basic.ipynb'\n",
       "\\item 'linux\\_nano.sh'\n",
       "\\item 'linux\\_network.ipynb'\n",
       "\\item 'linux\\_process.ipynb'\n",
       "\\item 'linux\\_user\\_group.ipynb'\n",
       "\\item 'python\\_oop.ipynb'\n",
       "\\item 'r\\_basic.ipynb'\n",
       "\\item 'r\\_data\\_object.ipynb'\n",
       "\\item 'r\\_graphich.ipynb'\n",
       "\\item 'smaple.tmp'\n",
       "\\end{enumerate*}\n"
      ],
      "text/markdown": [
       "1. 'data'\n",
       "2. 'learn_case'\n",
       "3. 'linux_bash.ipynb'\n",
       "4. 'linux_basic.ipynb'\n",
       "5. 'linux_nano.sh'\n",
       "6. 'linux_network.ipynb'\n",
       "7. 'linux_process.ipynb'\n",
       "8. 'linux_user_group.ipynb'\n",
       "9. 'python_oop.ipynb'\n",
       "10. 'r_basic.ipynb'\n",
       "11. 'r_data_object.ipynb'\n",
       "12. 'r_graphich.ipynb'\n",
       "13. 'smaple.tmp'\n",
       "\n",
       "\n"
      ],
      "text/plain": [
       " [1] \"data\"                   \"learn_case\"             \"linux_bash.ipynb\"      \n",
       " [4] \"linux_basic.ipynb\"      \"linux_nano.sh\"          \"linux_network.ipynb\"   \n",
       " [7] \"linux_process.ipynb\"    \"linux_user_group.ipynb\" \"python_oop.ipynb\"      \n",
       "[10] \"r_basic.ipynb\"          \"r_data_object.ipynb\"    \"r_graphich.ipynb\"      \n",
       "[13] \"smaple.tmp\"            "
      ]
     },
     "metadata": {},
     "output_type": "display_data"
    }
   ],
   "source": [
    "\"!\" <- function(x){\n",
    "    system(x,intern=T)\n",
    "}\n",
    "cmd_1 <- !\"ls\"\n",
    "cmd_1"
   ]
  },
  {
   "cell_type": "code",
   "execution_count": 1,
   "metadata": {},
   "outputs": [
    {
     "data": {
      "text/html": [
       "<style>\n",
       ".list-inline {list-style: none; margin:0; padding: 0}\n",
       ".list-inline>li {display: inline-block}\n",
       ".list-inline>li:not(:last-child)::after {content: \"\\00b7\"; padding: 0 .5ex}\n",
       "</style>\n",
       "<ol class=list-inline><li>7</li><li>9</li><li>11</li><li>13</li><li>15</li></ol>\n"
      ],
      "text/latex": [
       "\\begin{enumerate*}\n",
       "\\item 7\n",
       "\\item 9\n",
       "\\item 11\n",
       "\\item 13\n",
       "\\item 15\n",
       "\\end{enumerate*}\n"
      ],
      "text/markdown": [
       "1. 7\n",
       "2. 9\n",
       "3. 11\n",
       "4. 13\n",
       "5. 15\n",
       "\n",
       "\n"
      ],
      "text/plain": [
       "[1]  7  9 11 13 15"
      ]
     },
     "metadata": {},
     "output_type": "display_data"
    },
    {
     "data": {
      "text/html": [
       "<style>\n",
       ".list-inline {list-style: none; margin:0; padding: 0}\n",
       ".list-inline>li {display: inline-block}\n",
       ".list-inline>li:not(:last-child)::after {content: \"\\00b7\"; padding: 0 .5ex}\n",
       "</style>\n",
       "<ol class=list-inline><li>7</li><li>9</li><li>11</li><li>13</li><li>15</li></ol>\n"
      ],
      "text/latex": [
       "\\begin{enumerate*}\n",
       "\\item 7\n",
       "\\item 9\n",
       "\\item 11\n",
       "\\item 13\n",
       "\\item 15\n",
       "\\end{enumerate*}\n"
      ],
      "text/markdown": [
       "1. 7\n",
       "2. 9\n",
       "3. 11\n",
       "4. 13\n",
       "5. 15\n",
       "\n",
       "\n"
      ],
      "text/plain": [
       "[1]  7  9 11 13 15"
      ]
     },
     "metadata": {},
     "output_type": "display_data"
    },
    {
     "data": {
      "text/html": [
       "7"
      ],
      "text/latex": [
       "7"
      ],
      "text/markdown": [
       "7"
      ],
      "text/plain": [
       "[1] 7"
      ]
     },
     "metadata": {},
     "output_type": "display_data"
    },
    {
     "data": {
      "text/html": [
       "7"
      ],
      "text/latex": [
       "7"
      ],
      "text/markdown": [
       "7"
      ],
      "text/plain": [
       "[1] 7"
      ]
     },
     "metadata": {},
     "output_type": "display_data"
    },
    {
     "data": {
      "text/html": [
       "7"
      ],
      "text/latex": [
       "7"
      ],
      "text/markdown": [
       "7"
      ],
      "text/plain": [
       "[1] 7"
      ]
     },
     "metadata": {},
     "output_type": "display_data"
    },
    {
     "data": {
      "text/html": [
       "7"
      ],
      "text/latex": [
       "7"
      ],
      "text/markdown": [
       "7"
      ],
      "text/plain": [
       "[1] 7"
      ]
     },
     "metadata": {},
     "output_type": "display_data"
    },
    {
     "data": {
      "text/html": [
       "7"
      ],
      "text/latex": [
       "7"
      ],
      "text/markdown": [
       "7"
      ],
      "text/plain": [
       "[1] 7"
      ]
     },
     "metadata": {},
     "output_type": "display_data"
    },
    {
     "data": {
      "text/html": [
       "7"
      ],
      "text/latex": [
       "7"
      ],
      "text/markdown": [
       "7"
      ],
      "text/plain": [
       "[1] 7"
      ]
     },
     "metadata": {},
     "output_type": "display_data"
    }
   ],
   "source": [
    "\"+.onlyFirst\" <- function(a,b){\n",
    "  return(a[1]+b[1])\n",
    "}\n",
    "a <- 1:5\n",
    "b <- 6:10\n",
    "a+b # 7  9 11 13 15\n",
    "\"+\"(a,b) # 7  9 11 13 15\n",
    "\n",
    "class(a) <- \"onlyFirst\"\n",
    "a+b # 7  \n",
    "\"+\"(a,b) # 7\n",
    "\n",
    "class(a) <- NULL\n",
    "class(b) <- \"onlyFirst\"\n",
    "a+b # 7  \n",
    "\"+\"(a,b) # 7\n",
    "\n",
    "class(a) <- \"onlyFirst\"\n",
    "class(b) <- \"onlyFirst\"\n",
    "a+b # 7  \n",
    "\"+\"(a,b) # 7"
   ]
  },
  {
   "cell_type": "code",
   "execution_count": 54,
   "metadata": {},
   "outputs": [
    {
     "data": {
      "text/plain": [
       "[1] +.Date        +.gg*         +.glue*       +.POSIXt      +.vctrs_vctr*\n",
       "see '?methods' for accessing help and source code"
      ]
     },
     "metadata": {},
     "output_type": "display_data"
    },
    {
     "data": {
      "text/plain": [
       "[1] +.Date        +.gg*         +.glue*       +.POSIXt      +.vctrs_vctr*\n",
       "see '?methods' for accessing help and source code"
      ]
     },
     "metadata": {},
     "output_type": "display_data"
    }
   ],
   "source": [
    "methods(\"+\")\n",
    "library(\"ggplot2\")\n",
    "methods(\"+\")"
   ]
  },
  {
   "cell_type": "markdown",
   "metadata": {},
   "source": [
    "<https://blog.csdn.net/qq_43407763/article/details/91652918>\n",
    "#### apply\n",
    "对矩阵、数据框、数组(二维、多维)等矩阵型数据，按行或列应用函数FUN进行循环计算，并以返回计算结果\n",
    "+ X:数组、矩阵、数据框等矩阵型数据\n",
    "+ MARGIN: 按行计算或按按列计算，1表示按行，2表示按列\n",
    "+ FUN: 自定义的调用函数"
   ]
  },
  {
   "cell_type": "code",
   "execution_count": 56,
   "metadata": {},
   "outputs": [
    {
     "data": {
      "text/html": [
       "<table>\n",
       "<caption>A matrix: 6 × 2 of type dbl</caption>\n",
       "<thead>\n",
       "\t<tr><th scope=col>x</th><th scope=col>y</th></tr>\n",
       "</thead>\n",
       "<tbody>\n",
       "\t<tr><td> 1</td><td> 12</td></tr>\n",
       "\t<tr><td>11</td><td> 32</td></tr>\n",
       "\t<tr><td>21</td><td> 52</td></tr>\n",
       "\t<tr><td>31</td><td> 72</td></tr>\n",
       "\t<tr><td>41</td><td> 92</td></tr>\n",
       "\t<tr><td>51</td><td>112</td></tr>\n",
       "</tbody>\n",
       "</table>\n"
      ],
      "text/latex": [
       "A matrix: 6 × 2 of type dbl\n",
       "\\begin{tabular}{ll}\n",
       " x & y\\\\\n",
       "\\hline\n",
       "\t  1 &  12\\\\\n",
       "\t 11 &  32\\\\\n",
       "\t 21 &  52\\\\\n",
       "\t 31 &  72\\\\\n",
       "\t 41 &  92\\\\\n",
       "\t 51 & 112\\\\\n",
       "\\end{tabular}\n"
      ],
      "text/markdown": [
       "\n",
       "A matrix: 6 × 2 of type dbl\n",
       "\n",
       "| x | y |\n",
       "|---|---|\n",
       "|  1 |  12 |\n",
       "| 11 |  32 |\n",
       "| 21 |  52 |\n",
       "| 31 |  72 |\n",
       "| 41 |  92 |\n",
       "| 51 | 112 |\n",
       "\n"
      ],
      "text/plain": [
       "     x  y  \n",
       "[1,]  1  12\n",
       "[2,] 11  32\n",
       "[3,] 21  52\n",
       "[4,] 31  72\n",
       "[5,] 41  92\n",
       "[6,] 51 112"
      ]
     },
     "metadata": {},
     "output_type": "display_data"
    },
    {
     "data": {
      "text/html": [
       "'matrix'"
      ],
      "text/latex": [
       "'matrix'"
      ],
      "text/markdown": [
       "'matrix'"
      ],
      "text/plain": [
       "[1] \"matrix\""
      ]
     },
     "metadata": {},
     "output_type": "display_data"
    },
    {
     "data": {
      "image/png": "[encoded data removed]",
      "text/plain": [
       "plot without title"
      ]
     },
     "metadata": {
      "image/png": {
       "height": 420,
       "width": 420
      }
     },
     "output_type": "display_data"
    }
   ],
   "source": [
    "x <- seq(1,100,by=10)\n",
    "y <- 2*x+10\n",
    "xy <- cbind(x,y)\n",
    "head(xy)\n",
    "class(xy)\n",
    "plot(xy,type='o')"
   ]
  },
  {
   "cell_type": "code",
   "execution_count": 57,
   "metadata": {},
   "outputs": [
    {
     "data": {
      "text/html": [
       "'lm'"
      ],
      "text/latex": [
       "'lm'"
      ],
      "text/markdown": [
       "'lm'"
      ],
      "text/plain": [
       "[1] \"lm\""
      ]
     },
     "metadata": {},
     "output_type": "display_data"
    },
    {
     "data": {
      "image/png": "[encoded data removed]",
      "text/plain": [
       "Plot with title “”"
      ]
     },
     "metadata": {
      "image/png": {
       "height": 420,
       "width": 420
      }
     },
     "output_type": "display_data"
    }
   ],
   "source": [
    "my_model <- lm(y~x)\n",
    "class(my_model)\n",
    "op <- par(mfrow=c(2,2))\n",
    "plot(my_model)\n",
    "par(op)"
   ]
  },
  {
   "cell_type": "code",
   "execution_count": 68,
   "metadata": {},
   "outputs": [
    {
     "data": {
      "text/html": [
       "'/root/linux_tutorial'"
      ],
      "text/latex": [
       "'/root/linux\\_tutorial'"
      ],
      "text/markdown": [
       "'/root/linux_tutorial'"
      ],
      "text/plain": [
       "[1] \"/root/linux_tutorial\""
      ]
     },
     "metadata": {},
     "output_type": "display_data"
    },
    {
     "data": {
      "text/html": [
       "<table>\n",
       "<caption>A data.frame: 6 × 13</caption>\n",
       "<thead>\n",
       "\t<tr><th></th><th scope=col>xm</th><th scope=col>bj</th><th scope=col>xb</th><th scope=col>yw</th><th scope=col>sx</th><th scope=col>wy</th><th scope=col>zz</th><th scope=col>ls</th><th scope=col>dl</th><th scope=col>wl</th><th scope=col>hx</th><th scope=col>sw</th><th scope=col>wlfk</th></tr>\n",
       "\t<tr><th></th><th scope=col>&lt;fct&gt;</th><th scope=col>&lt;int&gt;</th><th scope=col>&lt;fct&gt;</th><th scope=col>&lt;int&gt;</th><th scope=col>&lt;int&gt;</th><th scope=col>&lt;int&gt;</th><th scope=col>&lt;int&gt;</th><th scope=col>&lt;int&gt;</th><th scope=col>&lt;int&gt;</th><th scope=col>&lt;int&gt;</th><th scope=col>&lt;int&gt;</th><th scope=col>&lt;int&gt;</th><th scope=col>&lt;fct&gt;</th></tr>\n",
       "</thead>\n",
       "<tbody>\n",
       "\t<tr><th scope=row>1</th><td>周黎  </td><td>1101</td><td>女</td><td>94</td><td>82</td><td>96</td><td>97</td><td>97</td><td>98</td><td>95</td><td>94</td><td>88</td><td>文科</td></tr>\n",
       "\t<tr><th scope=row>2</th><td>汤海明</td><td>1101</td><td>男</td><td>87</td><td>94</td><td>89</td><td>95</td><td>94</td><td>94</td><td>90</td><td>90</td><td>89</td><td>文科</td></tr>\n",
       "\t<tr><th scope=row>3</th><td>舒江辉</td><td>1101</td><td>男</td><td>92</td><td>79</td><td>86</td><td>98</td><td>95</td><td>96</td><td>89</td><td>94</td><td>87</td><td>文科</td></tr>\n",
       "\t<tr><th scope=row>4</th><td>翁柯  </td><td>1101</td><td>女</td><td>91</td><td>84</td><td>96</td><td>93</td><td>97</td><td>94</td><td>82</td><td>90</td><td>83</td><td>文科</td></tr>\n",
       "\t<tr><th scope=row>5</th><td>祁强  </td><td>1101</td><td>男</td><td>85</td><td>92</td><td>82</td><td>93</td><td>87</td><td>88</td><td>95</td><td>94</td><td>93</td><td>文科</td></tr>\n",
       "\t<tr><th scope=row>6</th><td>湛容  </td><td>1101</td><td>女</td><td>92</td><td>82</td><td>85</td><td>91</td><td>90</td><td>92</td><td>82</td><td>98</td><td>90</td><td>文科</td></tr>\n",
       "</tbody>\n",
       "</table>\n"
      ],
      "text/latex": [
       "A data.frame: 6 × 13\n",
       "\\begin{tabular}{r|lllllllllllll}\n",
       "  & xm & bj & xb & yw & sx & wy & zz & ls & dl & wl & hx & sw & wlfk\\\\\n",
       "  & <fct> & <int> & <fct> & <int> & <int> & <int> & <int> & <int> & <int> & <int> & <int> & <int> & <fct>\\\\\n",
       "\\hline\n",
       "\t1 & 周黎   & 1101 & 女 & 94 & 82 & 96 & 97 & 97 & 98 & 95 & 94 & 88 & 文科\\\\\n",
       "\t2 & 汤海明 & 1101 & 男 & 87 & 94 & 89 & 95 & 94 & 94 & 90 & 90 & 89 & 文科\\\\\n",
       "\t3 & 舒江辉 & 1101 & 男 & 92 & 79 & 86 & 98 & 95 & 96 & 89 & 94 & 87 & 文科\\\\\n",
       "\t4 & 翁柯   & 1101 & 女 & 91 & 84 & 96 & 93 & 97 & 94 & 82 & 90 & 83 & 文科\\\\\n",
       "\t5 & 祁强   & 1101 & 男 & 85 & 92 & 82 & 93 & 87 & 88 & 95 & 94 & 93 & 文科\\\\\n",
       "\t6 & 湛容   & 1101 & 女 & 92 & 82 & 85 & 91 & 90 & 92 & 82 & 98 & 90 & 文科\\\\\n",
       "\\end{tabular}\n"
      ],
      "text/markdown": [
       "\n",
       "A data.frame: 6 × 13\n",
       "\n",
       "| <!--/--> | xm &lt;fct&gt; | bj &lt;int&gt; | xb &lt;fct&gt; | yw &lt;int&gt; | sx &lt;int&gt; | wy &lt;int&gt; | zz &lt;int&gt; | ls &lt;int&gt; | dl &lt;int&gt; | wl &lt;int&gt; | hx &lt;int&gt; | sw &lt;int&gt; | wlfk &lt;fct&gt; |\n",
       "|---|---|---|---|---|---|---|---|---|---|---|---|---|---|\n",
       "| 1 | 周黎   | 1101 | 女 | 94 | 82 | 96 | 97 | 97 | 98 | 95 | 94 | 88 | 文科 |\n",
       "| 2 | 汤海明 | 1101 | 男 | 87 | 94 | 89 | 95 | 94 | 94 | 90 | 90 | 89 | 文科 |\n",
       "| 3 | 舒江辉 | 1101 | 男 | 92 | 79 | 86 | 98 | 95 | 96 | 89 | 94 | 87 | 文科 |\n",
       "| 4 | 翁柯   | 1101 | 女 | 91 | 84 | 96 | 93 | 97 | 94 | 82 | 90 | 83 | 文科 |\n",
       "| 5 | 祁强   | 1101 | 男 | 85 | 92 | 82 | 93 | 87 | 88 | 95 | 94 | 93 | 文科 |\n",
       "| 6 | 湛容   | 1101 | 女 | 92 | 82 | 85 | 91 | 90 | 92 | 82 | 98 | 90 | 文科 |\n",
       "\n"
      ],
      "text/plain": [
       "  xm     bj   xb yw sx wy zz ls dl wl hx sw wlfk\n",
       "1 周黎   1101 女 94 82 96 97 97 98 95 94 88 文科\n",
       "2 汤海明 1101 男 87 94 89 95 94 94 90 90 89 文科\n",
       "3 舒江辉 1101 男 92 79 86 98 95 96 89 94 87 文科\n",
       "4 翁柯   1101 女 91 84 96 93 97 94 82 90 83 文科\n",
       "5 祁强   1101 男 85 92 82 93 87 88 95 94 93 文科\n",
       "6 湛容   1101 女 92 82 85 91 90 92 82 98 90 文科"
      ]
     },
     "metadata": {},
     "output_type": "display_data"
    },
    {
     "data": {
      "image/png": "[encoded data removed]",
      "text/plain": [
       "plot without title"
      ]
     },
     "metadata": {
      "image/png": {
       "height": 420,
       "width": 420
      }
     },
     "output_type": "display_data"
    }
   ],
   "source": [
    "getwd()\n",
    "#setwd(\"/root/linux_tutorial/\")\n",
    "cjb <- read.csv(\"data/cjb.csv\",fileEncoding = \"UTF-8\")\n",
    "head(cjb)\n",
    "library(\"tidyverse\")\n",
    "cjb %>% \n",
    "    select(sx,wlfk) %>%\n",
    "    ggplot(aes(x=wlfk,y=sx,fill=wlfk)) +\n",
    "    geom_boxplot(width=0.5)"
   ]
  },
  {
   "cell_type": "code",
   "execution_count": 17,
   "metadata": {},
   "outputs": [
    {
     "data": {
      "text/html": [
       "'/root/linux_tutorial'"
      ],
      "text/latex": [
       "'/root/linux\\_tutorial'"
      ],
      "text/markdown": [
       "'/root/linux_tutorial'"
      ],
      "text/plain": [
       "[1] \"/root/linux_tutorial\""
      ]
     },
     "metadata": {},
     "output_type": "display_data"
    },
    {
     "data": {
      "text/html": [
       "<table>\n",
       "<caption>A data.frame: 6 × 13</caption>\n",
       "<thead>\n",
       "\t<tr><th></th><th scope=col>xm</th><th scope=col>bj</th><th scope=col>xb</th><th scope=col>yw</th><th scope=col>sx</th><th scope=col>wy</th><th scope=col>zz</th><th scope=col>ls</th><th scope=col>dl</th><th scope=col>wl</th><th scope=col>hx</th><th scope=col>sw</th><th scope=col>wlfk</th></tr>\n",
       "\t<tr><th></th><th scope=col>&lt;fct&gt;</th><th scope=col>&lt;int&gt;</th><th scope=col>&lt;fct&gt;</th><th scope=col>&lt;int&gt;</th><th scope=col>&lt;int&gt;</th><th scope=col>&lt;int&gt;</th><th scope=col>&lt;int&gt;</th><th scope=col>&lt;int&gt;</th><th scope=col>&lt;int&gt;</th><th scope=col>&lt;int&gt;</th><th scope=col>&lt;int&gt;</th><th scope=col>&lt;int&gt;</th><th scope=col>&lt;fct&gt;</th></tr>\n",
       "</thead>\n",
       "<tbody>\n",
       "\t<tr><th scope=row>1</th><td>周黎  </td><td>1101</td><td>女</td><td>94</td><td>82</td><td>96</td><td>97</td><td>97</td><td>98</td><td>95</td><td>94</td><td>88</td><td>文科</td></tr>\n",
       "\t<tr><th scope=row>2</th><td>汤海明</td><td>1101</td><td>男</td><td>87</td><td>94</td><td>89</td><td>95</td><td>94</td><td>94</td><td>90</td><td>90</td><td>89</td><td>文科</td></tr>\n",
       "\t<tr><th scope=row>3</th><td>舒江辉</td><td>1101</td><td>男</td><td>92</td><td>79</td><td>86</td><td>98</td><td>95</td><td>96</td><td>89</td><td>94</td><td>87</td><td>文科</td></tr>\n",
       "\t<tr><th scope=row>4</th><td>翁柯  </td><td>1101</td><td>女</td><td>91</td><td>84</td><td>96</td><td>93</td><td>97</td><td>94</td><td>82</td><td>90</td><td>83</td><td>文科</td></tr>\n",
       "\t<tr><th scope=row>5</th><td>祁强  </td><td>1101</td><td>男</td><td>85</td><td>92</td><td>82</td><td>93</td><td>87</td><td>88</td><td>95</td><td>94</td><td>93</td><td>文科</td></tr>\n",
       "\t<tr><th scope=row>6</th><td>湛容  </td><td>1101</td><td>女</td><td>92</td><td>82</td><td>85</td><td>91</td><td>90</td><td>92</td><td>82</td><td>98</td><td>90</td><td>文科</td></tr>\n",
       "</tbody>\n",
       "</table>\n"
      ],
      "text/latex": [
       "A data.frame: 6 × 13\n",
       "\\begin{tabular}{r|lllllllllllll}\n",
       "  & xm & bj & xb & yw & sx & wy & zz & ls & dl & wl & hx & sw & wlfk\\\\\n",
       "  & <fct> & <int> & <fct> & <int> & <int> & <int> & <int> & <int> & <int> & <int> & <int> & <int> & <fct>\\\\\n",
       "\\hline\n",
       "\t1 & 周黎   & 1101 & 女 & 94 & 82 & 96 & 97 & 97 & 98 & 95 & 94 & 88 & 文科\\\\\n",
       "\t2 & 汤海明 & 1101 & 男 & 87 & 94 & 89 & 95 & 94 & 94 & 90 & 90 & 89 & 文科\\\\\n",
       "\t3 & 舒江辉 & 1101 & 男 & 92 & 79 & 86 & 98 & 95 & 96 & 89 & 94 & 87 & 文科\\\\\n",
       "\t4 & 翁柯   & 1101 & 女 & 91 & 84 & 96 & 93 & 97 & 94 & 82 & 90 & 83 & 文科\\\\\n",
       "\t5 & 祁强   & 1101 & 男 & 85 & 92 & 82 & 93 & 87 & 88 & 95 & 94 & 93 & 文科\\\\\n",
       "\t6 & 湛容   & 1101 & 女 & 92 & 82 & 85 & 91 & 90 & 92 & 82 & 98 & 90 & 文科\\\\\n",
       "\\end{tabular}\n"
      ],
      "text/markdown": [
       "\n",
       "A data.frame: 6 × 13\n",
       "\n",
       "| <!--/--> | xm &lt;fct&gt; | bj &lt;int&gt; | xb &lt;fct&gt; | yw &lt;int&gt; | sx &lt;int&gt; | wy &lt;int&gt; | zz &lt;int&gt; | ls &lt;int&gt; | dl &lt;int&gt; | wl &lt;int&gt; | hx &lt;int&gt; | sw &lt;int&gt; | wlfk &lt;fct&gt; |\n",
       "|---|---|---|---|---|---|---|---|---|---|---|---|---|---|\n",
       "| 1 | 周黎   | 1101 | 女 | 94 | 82 | 96 | 97 | 97 | 98 | 95 | 94 | 88 | 文科 |\n",
       "| 2 | 汤海明 | 1101 | 男 | 87 | 94 | 89 | 95 | 94 | 94 | 90 | 90 | 89 | 文科 |\n",
       "| 3 | 舒江辉 | 1101 | 男 | 92 | 79 | 86 | 98 | 95 | 96 | 89 | 94 | 87 | 文科 |\n",
       "| 4 | 翁柯   | 1101 | 女 | 91 | 84 | 96 | 93 | 97 | 94 | 82 | 90 | 83 | 文科 |\n",
       "| 5 | 祁强   | 1101 | 男 | 85 | 92 | 82 | 93 | 87 | 88 | 95 | 94 | 93 | 文科 |\n",
       "| 6 | 湛容   | 1101 | 女 | 92 | 82 | 85 | 91 | 90 | 92 | 82 | 98 | 90 | 文科 |\n",
       "\n"
      ],
      "text/plain": [
       "  xm     bj   xb yw sx wy zz ls dl wl hx sw wlfk\n",
       "1 周黎   1101 女 94 82 96 97 97 98 95 94 88 文科\n",
       "2 汤海明 1101 男 87 94 89 95 94 94 90 90 89 文科\n",
       "3 舒江辉 1101 男 92 79 86 98 95 96 89 94 87 文科\n",
       "4 翁柯   1101 女 91 84 96 93 97 94 82 90 83 文科\n",
       "5 祁强   1101 男 85 92 82 93 87 88 95 94 93 文科\n",
       "6 湛容   1101 女 92 82 85 91 90 92 82 98 90 文科"
      ]
     },
     "metadata": {},
     "output_type": "display_data"
    },
    {
     "data": {
      "image/png": "[encoded data removed]",
      "text/plain": [
       "plot without title"
      ]
     },
     "metadata": {
      "image/png": {
       "height": 420,
       "width": 420
      }
     },
     "output_type": "display_data"
    }
   ],
   "source": [
    "\n",
    "getwd()\n",
    "#setwd(\"/root/linux_tutorial/\")\n",
    "cjb <- read.csv(\"data/cjb.csv\",fileEncoding = \"UTF-8\")\n",
    "head(cjb)\n",
    "library(\"tidyverse\")\n",
    "#a1 <- \"%>%\"(cjb,select(sx,wlfk))  \n",
    " a1 <- select(cjb,sx,wlfk)\n",
    "a2 <- \"%>%\"(a1,ggplot(aes(x=wlfk,y=sx,fill=wlfk)))\n",
    "(a3 <- \"+\"(a2,geom_boxplot(width=0.5)))\n",
    "    #ggplot(aes(x=wlfk,y=sx,fill=wlfk)) +\n",
    "    #geom_boxplot(width=0.5)\n",
    "#?select"
   ]
  },
  {
   "cell_type": "code",
   "execution_count": 45,
   "metadata": {},
   "outputs": [
    {
     "data": {
      "text/html": [
       "<table>\n",
       "<caption>A data.frame: 6 × 14</caption>\n",
       "<thead>\n",
       "\t<tr><th></th><th scope=col>xm</th><th scope=col>bj</th><th scope=col>xb</th><th scope=col>yw</th><th scope=col>sx</th><th scope=col>wy</th><th scope=col>zz</th><th scope=col>ls</th><th scope=col>dl</th><th scope=col>wl</th><th scope=col>hx</th><th scope=col>sw</th><th scope=col>wlfk</th><th scope=col>zcj</th></tr>\n",
       "\t<tr><th></th><th scope=col>&lt;fct&gt;</th><th scope=col>&lt;int&gt;</th><th scope=col>&lt;fct&gt;</th><th scope=col>&lt;fct&gt;</th><th scope=col>&lt;int&gt;</th><th scope=col>&lt;int&gt;</th><th scope=col>&lt;int&gt;</th><th scope=col>&lt;int&gt;</th><th scope=col>&lt;int&gt;</th><th scope=col>&lt;int&gt;</th><th scope=col>&lt;int&gt;</th><th scope=col>&lt;fct&gt;</th><th scope=col>&lt;fct&gt;</th><th scope=col>&lt;dbl&gt;</th></tr>\n",
       "</thead>\n",
       "<tbody>\n",
       "\t<tr><th scope=row>1</th><td>周黎  </td><td>1101</td><td>女</td><td>优</td><td>82</td><td>96</td><td>97</td><td>97</td><td>98</td><td>95</td><td>94</td><td>良</td><td>文科</td><td>841</td></tr>\n",
       "\t<tr><th scope=row>2</th><td>汤海明</td><td>1101</td><td>男</td><td>良</td><td>94</td><td>89</td><td>95</td><td>94</td><td>94</td><td>90</td><td>90</td><td>良</td><td>文科</td><td>822</td></tr>\n",
       "\t<tr><th scope=row>3</th><td>舒江辉</td><td>1101</td><td>男</td><td>优</td><td>79</td><td>86</td><td>98</td><td>95</td><td>96</td><td>89</td><td>94</td><td>良</td><td>文科</td><td>816</td></tr>\n",
       "\t<tr><th scope=row>4</th><td>翁柯  </td><td>1101</td><td>女</td><td>优</td><td>84</td><td>96</td><td>93</td><td>97</td><td>94</td><td>82</td><td>90</td><td>良</td><td>文科</td><td>810</td></tr>\n",
       "\t<tr><th scope=row>5</th><td>祁强  </td><td>1101</td><td>男</td><td>良</td><td>92</td><td>82</td><td>93</td><td>87</td><td>88</td><td>95</td><td>94</td><td>优</td><td>文科</td><td>809</td></tr>\n",
       "\t<tr><th scope=row>6</th><td>湛容  </td><td>1101</td><td>女</td><td>优</td><td>82</td><td>85</td><td>91</td><td>90</td><td>92</td><td>82</td><td>98</td><td>良</td><td>文科</td><td>802</td></tr>\n",
       "</tbody>\n",
       "</table>\n"
      ],
      "text/latex": [
       "A data.frame: 6 × 14\n",
       "\\begin{tabular}{r|llllllllllllll}\n",
       "  & xm & bj & xb & yw & sx & wy & zz & ls & dl & wl & hx & sw & wlfk & zcj\\\\\n",
       "  & <fct> & <int> & <fct> & <fct> & <int> & <int> & <int> & <int> & <int> & <int> & <int> & <fct> & <fct> & <dbl>\\\\\n",
       "\\hline\n",
       "\t1 & 周黎   & 1101 & 女 & 优 & 82 & 96 & 97 & 97 & 98 & 95 & 94 & 良 & 文科 & 841\\\\\n",
       "\t2 & 汤海明 & 1101 & 男 & 良 & 94 & 89 & 95 & 94 & 94 & 90 & 90 & 良 & 文科 & 822\\\\\n",
       "\t3 & 舒江辉 & 1101 & 男 & 优 & 79 & 86 & 98 & 95 & 96 & 89 & 94 & 良 & 文科 & 816\\\\\n",
       "\t4 & 翁柯   & 1101 & 女 & 优 & 84 & 96 & 93 & 97 & 94 & 82 & 90 & 良 & 文科 & 810\\\\\n",
       "\t5 & 祁强   & 1101 & 男 & 良 & 92 & 82 & 93 & 87 & 88 & 95 & 94 & 优 & 文科 & 809\\\\\n",
       "\t6 & 湛容   & 1101 & 女 & 优 & 82 & 85 & 91 & 90 & 92 & 82 & 98 & 良 & 文科 & 802\\\\\n",
       "\\end{tabular}\n"
      ],
      "text/markdown": [
       "\n",
       "A data.frame: 6 × 14\n",
       "\n",
       "| <!--/--> | xm &lt;fct&gt; | bj &lt;int&gt; | xb &lt;fct&gt; | yw &lt;fct&gt; | sx &lt;int&gt; | wy &lt;int&gt; | zz &lt;int&gt; | ls &lt;int&gt; | dl &lt;int&gt; | wl &lt;int&gt; | hx &lt;int&gt; | sw &lt;fct&gt; | wlfk &lt;fct&gt; | zcj &lt;dbl&gt; |\n",
       "|---|---|---|---|---|---|---|---|---|---|---|---|---|---|---|\n",
       "| 1 | 周黎   | 1101 | 女 | 优 | 82 | 96 | 97 | 97 | 98 | 95 | 94 | 良 | 文科 | 841 |\n",
       "| 2 | 汤海明 | 1101 | 男 | 良 | 94 | 89 | 95 | 94 | 94 | 90 | 90 | 良 | 文科 | 822 |\n",
       "| 3 | 舒江辉 | 1101 | 男 | 优 | 79 | 86 | 98 | 95 | 96 | 89 | 94 | 良 | 文科 | 816 |\n",
       "| 4 | 翁柯   | 1101 | 女 | 优 | 84 | 96 | 93 | 97 | 94 | 82 | 90 | 良 | 文科 | 810 |\n",
       "| 5 | 祁强   | 1101 | 男 | 良 | 92 | 82 | 93 | 87 | 88 | 95 | 94 | 优 | 文科 | 809 |\n",
       "| 6 | 湛容   | 1101 | 女 | 优 | 82 | 85 | 91 | 90 | 92 | 82 | 98 | 良 | 文科 | 802 |\n",
       "\n"
      ],
      "text/plain": [
       "  xm     bj   xb yw sx wy zz ls dl wl hx sw wlfk zcj\n",
       "1 周黎   1101 女 优 82 96 97 97 98 95 94 良 文科 841\n",
       "2 汤海明 1101 男 良 94 89 95 94 94 90 90 良 文科 822\n",
       "3 舒江辉 1101 男 优 79 86 98 95 96 89 94 良 文科 816\n",
       "4 翁柯   1101 女 优 84 96 93 97 94 82 90 良 文科 810\n",
       "5 祁强   1101 男 良 92 82 93 87 88 95 94 优 文科 809\n",
       "6 湛容   1101 女 优 82 85 91 90 92 82 98 良 文科 802"
      ]
     },
     "metadata": {},
     "output_type": "display_data"
    }
   ],
   "source": [
    "cjb <- read.csv(\"data/cjb.csv\",fileEncoding = \"UTF-8\")\n",
    "library(\"tidyverse\")\n",
    "\n",
    "\n",
    "as_five_grade_score <- function(x){\n",
    "    cut(x,breaks=c(0,seq(60,100,by=10)),labels=c(\"不及格\",\"及格\",\"中\",\"良\",\"优\"))\n",
    "}\n",
    "# as_five_grade_score(cjb$sw)\n",
    "cjb %<>%\n",
    "     mutate(zcj = rowSums(.[4:12]))%>%\n",
    "    filter(zcj!=0) %>% # 剔除脏数据\n",
    "    mutate_at(vars(xb,wlfk),factor) %>% # 类型转换\n",
    "    mutate_at(vars(yw,sw),as_five_grade_score) # 数据分箱\n",
    "head(cjb)"
   ]
  },
  {
   "cell_type": "code",
   "execution_count": 33,
   "metadata": {},
   "outputs": [
    {
     "name": "stderr",
     "output_type": "stream",
     "text": [
      "Loading required package: arules\n",
      "\n",
      "Loading required package: Matrix\n",
      "\n",
      "\n",
      "Attaching package: ‘arules’\n",
      "\n",
      "\n",
      "The following objects are masked from ‘package:base’:\n",
      "\n",
      "    abbreviate, write\n",
      "\n",
      "\n",
      "Loading required package: grid\n",
      "\n"
     ]
    },
    {
     "ename": "ERROR",
     "evalue": "Error in cjb %>% select(xb:wlfk) %>% apriori(parameter = list(supp = 0.06, : could not find function \"%>%\"\n",
     "output_type": "error",
     "traceback": [
      "Error in cjb %>% select(xb:wlfk) %>% apriori(parameter = list(supp = 0.06, : could not find function \"%>%\"\nTraceback:\n"
     ]
    }
   ],
   "source": [
    "library(arulesViz)\n",
    "my_model <- cjb %>%\n",
    "    select(xb:wlfk) %>%\n",
    "    apriori(parameter = list(supp = 0.06, conf = 0.8),\n",
    "            appearance = list(rhs = paste0(\"wlfk=\", c(\"文科\", \"理科\"))))\n",
    "\n",
    "\n",
    "\n",
    "plot(my_model, method = \"graph\")"
   ]
  }
 ],
 "metadata": {
  "kernelspec": {
   "display_name": "R",
   "language": "R",
   "name": "ir"
  },
  "language_info": {
   "codemirror_mode": "r",
   "file_extension": ".r",
   "mimetype": "text/x-r-source",
   "name": "R",
   "pygments_lexer": "r",
   "version": "3.6.3"
  }
 },
 "nbformat": 4,
 "nbformat_minor": 4
}
