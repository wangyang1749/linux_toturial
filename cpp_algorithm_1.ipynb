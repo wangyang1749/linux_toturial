{
 "cells": [
  {
   "cell_type": "code",
   "execution_count": 1,
   "metadata": {},
   "outputs": [],
   "source": [
    "#ifndef _INCL_GUARD\n",
    "#define _INCL_GUARD\n",
    "//线性表\n",
    "template <class T> class List{\n",
    "    void clear(); //清空线性表\n",
    "    bool isEmpty(); // 线性表为空时返回true\n",
    "    bool append(const T value);// 在表尾增加一个元素，表的长度增加1\n",
    "    bool instert(const int p,const T value);// 在p位置插入一个元素value，表的长度加1\n",
    "    bool del(const int p);//删除p位置的元素，表的长度减1\n",
    "    bool getPos(int& p,const T value);//查找值为value的元素返回其为位置\n",
    "    bool getvalue(const int p,T& value);// 把p位置元素返回到变量value\n",
    "    bool setValue(const int p,const T value);// 用value修改p位置的元素\n",
    "};\n",
    "\n",
    "\n",
    "#endif\n",
    "\n"
   ]
  },
  {
   "cell_type": "code",
   "execution_count": 3,
   "metadata": {},
   "outputs": [
    {
     "name": "stderr",
     "output_type": "stream",
     "text": [
      "input_line_11:2:26: error: redefinition of 'ArrList'\n",
      "template <class T> class ArrList : public List<T>{\n",
      "                         ^\n",
      "input_line_9:2:26: note: previous definition is here\n",
      "template <class T> class ArrList : public List<T>{\n",
      "                         ^\n"
     ]
    },
    {
     "ename": "Interpreter Error",
     "evalue": "",
     "output_type": "error",
     "traceback": [
      "Interpreter Error: "
     ]
    }
   ],
   "source": [
    "#include <iostream>\n",
    "//using namespace std;\n",
    "\n",
    "\n",
    "template <class T> class ArrList : public List<T>{\n",
    "    T * aList;\n",
    "    int maxSize;\n",
    "    int curLen;\n",
    "    int position;\n",
    "public:\n",
    "    ArrList(const int size){\n",
    "        maxSize = size;\n",
    "        aList = new T[maxSize];\n",
    "        curLen = position = 0;\n",
    "    }\n",
    "    ~ArrList(){\n",
    "        delete[] aList; \n",
    "       // cout<<\"delete aList\"<<endl;\n",
    "    }\n",
    "};"
   ]
  },
  {
   "cell_type": "code",
   "execution_count": 8,
   "metadata": {},
   "outputs": [
    {
     "name": "stderr",
     "output_type": "stream",
     "text": [
      "input_line_10:2:2: error: use of undeclared identifier 'ArrList'\n",
      " ArrList<int> arr(10);\n",
      " ^\n",
      "input_line_10:2:13: error: expected '(' for function-style cast or type construction\n",
      " ArrList<int> arr(10);\n",
      "         ~~~^\n",
      "input_line_10:2:15: error: use of undeclared identifier 'arr'\n",
      " ArrList<int> arr(10);\n",
      "              ^\n"
     ]
    },
    {
     "ename": "Interpreter Error",
     "evalue": "",
     "output_type": "error",
     "traceback": [
      "Interpreter Error: "
     ]
    }
   ],
   "source": [
    "ArrList<int> arr(10);\n",
    "\n"
   ]
  }
 ],
 "metadata": {
  "kernelspec": {
   "display_name": "C++17",
   "language": "C++17",
   "name": "xcpp17"
  },
  "language_info": {
   "codemirror_mode": "text/x-c++src",
   "file_extension": ".cpp",
   "mimetype": "text/x-c++src",
   "name": "c++",
   "version": "17"
  },
  "varInspector": {
   "cols": {
    "lenName": 16,
    "lenType": 16,
    "lenVar": 40
   },
   "kernels_config": {
    "python": {
     "delete_cmd_postfix": "",
     "delete_cmd_prefix": "del ",
     "library": "var_list.py",
     "varRefreshCmd": "print(var_dic_list())"
    },
    "r": {
     "delete_cmd_postfix": ") ",
     "delete_cmd_prefix": "rm(",
     "library": "var_list.r",
     "varRefreshCmd": "cat(var_dic_list()) "
    }
   },
   "types_to_exclude": [
    "module",
    "function",
    "builtin_function_or_method",
    "instance",
    "_Feature"
   ],
   "window_display": false
  }
 },
 "nbformat": 4,
 "nbformat_minor": 4
}
