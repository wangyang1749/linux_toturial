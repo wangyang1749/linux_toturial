{
 "cells": [
  {
   "cell_type": "markdown",
   "metadata": {},
   "source": [
    "### Linux线程\n",
    "1. 内核的功用\n",
    "    + 进程管理\n",
    "    + 文件管理\n",
    "    + 网络管理\n",
    "    + 内存管理\n",
    "    + 驱动程序\n",
    "    + 安全功能\n",
    "2. 模式切换：内核空间到用户空间\n",
    "3. 进程创建\n",
    "    + init（由内核启动）\n",
    "        + 父子关系\n",
    "        + 进程：都由其父进程创建，fork(), clone()\n",
    "4. 进程优先级\n",
    "    + 0-139\n",
    "        + 1-99:实时优先级\n",
    "        + 100-139:静态优先级\n",
    "5. 进程内存\n",
    "    + Page Frame：页框\n",
    "    + 线性地址空间 -> 物理地址空间（cpu的MMU完成）\n",
    "6. 进程间通信\n",
    "    + 同一主机\n",
    "        + signal\n",
    "        + shared memory\n",
    "    + 不同主机\n",
    "        + rpc\n",
    "        + socket\n",
    "7. 进程状态\n",
    "    + running\n",
    "    + ready 就绪态\n",
    "        + 可中断interruptable\n",
    "        + 不可中断\n",
    "    + stoped 停止\n",
    "    + zombie 僵死"
   ]
  },
  {
   "cell_type": "code",
   "execution_count": 6,
   "metadata": {},
   "outputs": [
    {
     "name": "stdout",
     "output_type": "stream",
     "text": [
      "systemd─┬─AliYunDun───23*[{AliYunDun}]\n",
      "        ├─AliYunDunUpdate───3*[{AliYunDunUpdate}]\n",
      "        ├─ModemManager───2*[{ModemManager}]\n",
      "        ├─NetworkManager───2*[{NetworkManager}]\n",
      "        ├─3*[R───2*[{R}]]\n",
      "        ├─R\n",
      "        ├─Xtigervnc───4*[{Xtigervnc}]\n",
      "        ├─accounts-daemon───2*[{accounts-daemon}]\n",
      "        ├─agent───2*[{agent}]\n",
      "        ├─2*[agetty]\n",
      "        ├─aliyun-service───2*[{aliyun-service}]\n",
      "        ├─at-spi-bus-laun─┬─dbus-daemon\n",
      "        │                 └─3*[{at-spi-bus-laun}]\n",
      "        ├─at-spi2-registr───2*[{at-spi2-registr}]\n",
      "        ├─atd\n",
      "        ├─avahi-daemon───avahi-daemon\n",
      "        ├─cat\n",
      "        ├─chronyd───chronyd\n",
      "        ├─cron\n",
      "        ├─3*[dbus-daemon]\n",
      "        ├─2*[dbus-launch]\n",
      "        ├─dconf-service───2*[{dconf-service}]\n",
      "        ├─gnome-terminal-─┬─bash───firefox─┬─Privileged Cont───16*[{Privileged +\n",
      "        │                 │                ├─RDD Process───2*[{RDD Process}]\n",
      "        │                 │                ├─Web Content───22*[{Web Content}]\n",
      "        │                 │                ├─2*[Web Content───16*[{Web Content}+\n",
      "        │                 │                ├─Web Content───14*[{Web Content}]\n",
      "        │                 │                ├─WebExtensions───16*[{WebExtensions+\n",
      "        │                 │                └─55*[{firefox}]\n",
      "        │                 ├─bash───java─┬─java───50*[{java}]\n",
      "        │                 │             └─29*[{java}]\n",
      "        │                 ├─bash\n",
      "        │                 └─3*[{gnome-terminal-}]\n",
      "        ├─2*[gvfsd───2*[{gvfsd}]]\n",
      "        ├─jupyter-lab─┬─bash───bash───bash\n",
      "        │             ├─python─┬─bash───pstree\n",
      "        │             │        └─7*[{python}]\n",
      "        │             ├─2*[python─┬─bash]\n",
      "        │             │           └─7*[{python}]]\n",
      "        │             └─3*[{jupyter-lab}]\n",
      "        ├─networkd-dispat\n",
      "        ├─nginx───2*[nginx]\n",
      "        ├─polkitd───2*[{polkitd}]\n",
      "        ├─python\n",
      "        ├─rsyslogd───3*[{rsyslogd}]\n",
      "        ├─rtkit-daemon───2*[{rtkit-daemon}]\n",
      "        ├─sshd───sshd\n",
      "        ├─su───bash───su───bash───tail\n",
      "        ├─switcheroo-cont───2*[{switcheroo-cont}]\n",
      "        ├─systemd───(sd-pam)\n",
      "        ├─systemd-journal\n",
      "        ├─systemd-logind\n",
      "        ├─systemd-network\n",
      "        ├─systemd-resolve\n",
      "        ├─systemd-udevd\n",
      "        ├─tr\n",
      "        ├─udisksd───4*[{udisksd}]\n",
      "        ├─upowerd───2*[{upowerd}]\n",
      "        ├─vncserver───openbox\n",
      "        └─wpa_supplicant\n"
     ]
    }
   ],
   "source": [
    "pstree"
   ]
  },
  {
   "cell_type": "markdown",
   "metadata": {},
   "source": [
    "#### ps\n",
    "1. `ll /proc/` 内核中的状态信息\n",
    "    + 内核参数：\n",
    "        + `/proc/sys/`可设置从而调整内核运行特性的参数\n",
    "        + 状态变量：用于输出内核中统计信息或状态信息，仅能用于查看\n",
    "    + 参数；模拟成文件系统类型；\n",
    "    + 进程号：\n",
    "        + `/proc/PID`\n",
    "2. 进程的启动方式\n",
    "    + 系统启动过程自启动：与终端无关的进程\n",
    "    + 用户通过终端启动：与终端相关的进程\n",
    "3. 选项\n",
    "    + a 与终端相关的进程\n",
    "    + x 与终端无关的进程\n",
    "4. 信息\n",
    "    + PID：进程号\n",
    "    + TTY：终端（？不知道终端是什么）\n",
    "    + STAT：运进程状态\n",
    "    + TIME：累计占用CPU时间\n",
    "    + COMMAND：由那个命令启动的子进程（`[]`表示内核线程）"
   ]
  },
  {
   "cell_type": "code",
   "execution_count": 15,
   "metadata": {},
   "outputs": [
    {
     "name": "stdout",
     "output_type": "stream",
     "text": [
      "arch_status      environ    mountinfo      personality   statm\n",
      "\u001b[0m\u001b[01;34mattr\u001b[0m             \u001b[01;36mexe\u001b[0m        mounts         projid_map    status\n",
      "autogroup        \u001b[01;34mfd\u001b[0m         mountstats     \u001b[01;36mroot\u001b[0m          syscall\n",
      "auxv             \u001b[01;34mfdinfo\u001b[0m     \u001b[01;34mnet\u001b[0m            sched         \u001b[01;34mtask\u001b[0m\n",
      "cgroup           gid_map    \u001b[01;34mns\u001b[0m             schedstat     timers\n",
      "clear_refs       io         numa_maps      sessionid     timerslack_ns\n",
      "cmdline          limits     oom_adj        setgroups     uid_map\n",
      "comm             loginuid   oom_score      smaps         wchan\n",
      "coredump_filter  \u001b[01;34mmap_files\u001b[0m  oom_score_adj  smaps_rollup\n",
      "cpuset           maps       pagemap        stack\n",
      "\u001b[01;36mcwd\u001b[0m              mem        patch_state    stat\n",
      "/sbin/init\u0000noibrs\u000055622a1fe000-55622a230000 r--p 00000000 fc:01 1194953                    /usr/lib/systemd/systemd\n",
      "55622a230000-55622a2e9000 r-xp 00032000 fc:01 1194953                    /usr/lib/systemd/systemd\n",
      "55622a2e9000-55622a33f000 r--p 000eb000 fc:01 1194953                    /usr/lib/systemd/systemd\n",
      "55622a33f000-55622a385000 r--p 00140000 fc:01 1194953                    /usr/lib/systemd/systemd\n",
      "55622a385000-55622a386000 rw-p 00186000 fc:01 1194953                    /usr/lib/systemd/systemd\n",
      "55622a7f5000-55622aa25000 rw-p 00000000 00:00 0                          [heap]\n",
      "7f0570000000-7f0570021000 rw-p 00000000 00:00 0 \n",
      "7f0570021000-7f0574000000 ---p 00000000 00:00 0 \n",
      "7f0578000000-7f0578021000 rw-p 00000000 00:00 0 \n",
      "7f0578021000-7f057c000000 ---p 00000000 00:00 0 \n"
     ]
    }
   ],
   "source": [
    "ls /proc/1\n",
    "cat /proc/1/cmdline\n",
    "head /proc/1/maps"
   ]
  },
  {
   "cell_type": "code",
   "execution_count": 27,
   "metadata": {},
   "outputs": [
    {
     "name": "stdout",
     "output_type": "stream",
     "text": [
      "    PID TTY          TIME CMD\n",
      "2944980 pts/3    00:00:00 bash\n",
      "2999669 pts/3    00:00:00 ps\n"
     ]
    }
   ],
   "source": [
    "ps # 整理`/proc`文件"
   ]
  },
  {
   "cell_type": "code",
   "execution_count": 8,
   "metadata": {},
   "outputs": [
    {
     "name": "stdout",
     "output_type": "stream",
     "text": [
      "/dev/pts/4\n",
      "    PID TTY      STAT   TIME COMMAND\n",
      "    601 ttyS0    Ss+    0:00 /sbin/agetty -o -p -- \\u --keep-baud 115200,38400,9600 ttyS0 vt220\n",
      "    606 tty1     Ss+    0:00 /sbin/agetty -o -p -- \\u --noclear tty1 linux\n",
      " 169062 pts/11   Ss+    0:00 bash\n",
      "3092738 pts/11   Sl     3:47 /usr/lib/firefox/firefox\n",
      "3092791 pts/11   Sl     0:45 /usr/lib/firefox/firefox -contentproc -childID 1 -isForBrowser -prefsLen 1 -prefMapSize 226951 -parentBuildID 20201014125134 -appdir /usr/lib/firefox/browser 3092738 true tab\n",
      "3092819 pts/11   Sl     0:05 /usr/lib/firefox/firefox -contentproc -childID 2 -isForBrowser -prefsLen 41 -prefMapSize 226951 -parentBuildID 20201014125134 -appdir /usr/lib/firefox/browser 3092738 true tab\n",
      "3092864 pts/11   Sl     0:33 /usr/lib/firefox/firefox -contentproc -childID 3 -isForBrowser -prefsLen 6278 -prefMapSize 226951 -parentBuildID 20201014125134 -appdir /usr/lib/firefox/browser 3092738 true tab\n",
      "3092923 pts/11   Sl     0:10 /usr/lib/firefox/firefox -contentproc -childID 5 -isForBrowser -prefsLen 7012 -prefMapSize 226951 -parentBuildID 20201014125134 -appdir /usr/lib/firefox/browser 3092738 true tab\n",
      "3093160 pts/11   Sl     0:05 /usr/lib/firefox/firefox -contentproc -childID 7 -isForBrowser -prefsLen 7313 -prefMapSize 226951 -parentBuildID 20201014125134 -appdir /usr/lib/firefox/browser 3092738 true tab\n"
     ]
    }
   ],
   "source": [
    "tty\n",
    "ps a | head # 所以与终端相关的进程"
   ]
  },
  {
   "cell_type": "code",
   "execution_count": 9,
   "metadata": {},
   "outputs": [
    {
     "name": "stdout",
     "output_type": "stream",
     "text": [
      "    PID TTY      STAT   TIME COMMAND\n",
      "      1 ?        Ss     0:16 /sbin/init noibrs\n",
      "      2 ?        S      0:00 [kthreadd]\n",
      "      3 ?        I<     0:00 [rcu_gp]\n",
      "      4 ?        I<     0:00 [rcu_par_gp]\n",
      "      6 ?        I<     0:00 [kworker/0:0H-kblockd]\n",
      "      9 ?        I<     0:00 [mm_percpu_wq]\n",
      "     10 ?        S      0:17 [ksoftirqd/0]\n",
      "     11 ?        I      2:01 [rcu_sched]\n",
      "     12 ?        S      0:05 [migration/0]\n"
     ]
    }
   ],
   "source": [
    "ps x | head # 与终端无关的进程 ？表示不知道终端是什么"
   ]
  },
  {
   "cell_type": "markdown",
   "metadata": {},
   "source": [
    "+ aux\n",
    "    + USER:\n",
    "    + PID\n",
    "    + %CPU：累计CPU使用时间\n",
    "    + %MEM：内存空间占用比率（占整个内存）\n",
    "    + VSZ：占用虚拟内存大小（线性地址空间）\n",
    "    + RSS：Resident Size，常驻内存集\n",
    "    + TTY：\n",
    "    + STAT：状态\n",
    "        + R：运行\n",
    "        + S：可中断睡眠\n",
    "        + D：不可中断睡眠\n",
    "        + T：停止\n",
    "        + Z：Zomble僵死\n",
    "        + `+`前台进程\n",
    "        + `l`多线程\n",
    "        + `N` 低优先级进程\n",
    "        + `<` 高优先级进程\n",
    "        + `S`：会话引领者（父进程）"
   ]
  },
  {
   "cell_type": "code",
   "execution_count": 5,
   "metadata": {},
   "outputs": [
    {
     "name": "stdout",
     "output_type": "stream",
     "text": [
      "USER         PID %CPU %MEM    VSZ   RSS TTY      STAT START   TIME COMMAND\n",
      "root           1  0.0  0.1 168508 10316 ?        Ss   Oct31   0:16 /sbin/init noibrs\n",
      "root           2  0.0  0.0      0     0 ?        S    Oct31   0:00 [kthreadd]\n",
      "root           3  0.0  0.0      0     0 ?        I<   Oct31   0:00 [rcu_gp]\n",
      "root           4  0.0  0.0      0     0 ?        I<   Oct31   0:00 [rcu_par_gp]\n",
      "root           6  0.0  0.0      0     0 ?        I<   Oct31   0:00 [kworker/0:0H-kblockd]\n",
      "root           9  0.0  0.0      0     0 ?        I<   Oct31   0:00 [mm_percpu_wq]\n",
      "root          10  0.0  0.0      0     0 ?        S    Oct31   0:17 [ksoftirqd/0]\n",
      "root          11  0.0  0.0      0     0 ?        I    Oct31   2:01 [rcu_sched]\n",
      "root          12  0.0  0.0      0     0 ?        S    Oct31   0:05 [migration/0]\n"
     ]
    }
   ],
   "source": [
    "ps aux | head # 以用户为中心，显示进程"
   ]
  },
  {
   "cell_type": "code",
   "execution_count": 6,
   "metadata": {},
   "outputs": [
    {
     "name": "stdout",
     "output_type": "stream",
     "text": [
      "UID          PID    PPID  C STIME TTY          TIME CMD\n",
      "root           1       0  0 Oct31 ?        00:00:16 /sbin/init noibrs\n",
      "root           2       0  0 Oct31 ?        00:00:00 [kthreadd]\n",
      "root           3       2  0 Oct31 ?        00:00:00 [rcu_gp]\n",
      "root           4       2  0 Oct31 ?        00:00:00 [rcu_par_gp]\n",
      "root           6       2  0 Oct31 ?        00:00:00 [kworker/0:0H-kblockd]\n",
      "root           9       2  0 Oct31 ?        00:00:00 [mm_percpu_wq]\n",
      "root          10       2  0 Oct31 ?        00:00:17 [ksoftirqd/0]\n",
      "root          11       2  0 Oct31 ?        00:02:01 [rcu_sched]\n",
      "root          12       2  0 Oct31 ?        00:00:05 [migration/0]\n"
     ]
    }
   ],
   "source": [
    "ps -ef | head # STIME 启动时间 TIME 累计运行时间"
   ]
  },
  {
   "cell_type": "code",
   "execution_count": 4,
   "metadata": {},
   "outputs": [
    {
     "name": "stdout",
     "output_type": "stream",
     "text": [
      "UID          PID    PPID  C    SZ   RSS PSR STIME TTY          TIME CMD\n",
      "root           1       0  0 42127 10316   1 Oct31 ?        00:00:16 /sbin/init noibrs\n",
      "root           2       0  0     0     0   1 Oct31 ?        00:00:00 [kthreadd]\n",
      "root           3       2  0     0     0   0 Oct31 ?        00:00:00 [rcu_gp]\n",
      "root           4       2  0     0     0   0 Oct31 ?        00:00:00 [rcu_par_gp]\n",
      "root           6       2  0     0     0   0 Oct31 ?        00:00:00 [kworker/0:0H-kblockd]\n",
      "root           9       2  0     0     0   0 Oct31 ?        00:00:00 [mm_percpu_wq]\n",
      "root          10       2  0     0     0   0 Oct31 ?        00:00:17 [ksoftirqd/0]\n",
      "root          11       2  0     0     0   0 Oct31 ?        00:02:01 [rcu_sched]\n",
      "root          12       2  0     0     0   0 Oct31 ?        00:00:05 [migration/0]\n"
     ]
    }
   ],
   "source": [
    "ps -eF | head # PSR运行在那颗CUP上"
   ]
  },
  {
   "cell_type": "code",
   "execution_count": 2,
   "metadata": {},
   "outputs": [
    {
     "name": "stdout",
     "output_type": "stream",
     "text": [
      "UID          PID    PPID  C    SZ   RSS PSR STIME TTY          TIME CMD\n",
      "root           2       0  0     0     0   1 Oct31 ?        00:00:00 [kthreadd]\n",
      "root           3       2  0     0     0   0 Oct31 ?        00:00:00   [rcu_gp]\n",
      "root           4       2  0     0     0   0 Oct31 ?        00:00:00   [rcu_par_gp]\n",
      "root           6       2  0     0     0   0 Oct31 ?        00:00:00   [kworker/0:0H-kblockd]\n",
      "root           9       2  0     0     0   0 Oct31 ?        00:00:00   [mm_percpu_wq]\n",
      "root          10       2  0     0     0   0 Oct31 ?        00:00:17   [ksoftirqd/0]\n",
      "root          11       2  0     0     0   1 Oct31 ?        00:02:01   [rcu_sched]\n",
      "root          12       2  0     0     0   0 Oct31 ?        00:00:05   [migration/0]\n",
      "root          13       2  0     0     0   0 Oct31 ?        00:00:00   [idle_inject/0]\n"
     ]
    }
   ],
   "source": [
    "ps -eFH | head # 层级结构显示"
   ]
  },
  {
   "cell_type": "code",
   "execution_count": 7,
   "metadata": {},
   "outputs": [
    {
     "name": "stdout",
     "output_type": "stream",
     "text": [
      "    PID COMMAND                      NI PSR STAT TT          PPID RTPRIO\n",
      "      1 /sbin/init noibrs             0   1 Ss   ?              0      -\n",
      "      2 [kthreadd]                    0   1 S    ?              0      -\n",
      "      3 [rcu_gp]                    -20   0 I<   ?              2      -\n",
      "      4 [rcu_par_gp]                -20   0 I<   ?              2      -\n",
      "      6 [kworker/0:0H-kblockd]      -20   0 I<   ?              2      -\n",
      "      9 [mm_percpu_wq]              -20   0 I<   ?              2      -\n",
      "     10 [ksoftirqd/0]                 0   0 S    ?              2      -\n",
      "     11 [rcu_sched]                   0   0 I    ?              2      -\n",
      "     12 [migration/0]                 -   0 S    ?              2     99\n"
     ]
    }
   ],
   "source": [
    "ps -axo pid,command,ni,psr,stat,tty,ppid,rtprio| head"
   ]
  },
  {
   "cell_type": "markdown",
   "metadata": {},
   "source": [
    "#### pgrep, pkill\n",
    "1. pgrep\n",
    "    + `-u` effective user\n",
    "    + `-U` real user\n",
    "    + `-T` 显示与终端相关的\n",
    "    + `-l` 显示进程名\n",
    "    + `-a` 完整进程名\n",
    "    + `-P` 显示此进程的子进程\n",
    "2. pkill"
   ]
  },
  {
   "cell_type": "code",
   "execution_count": 77,
   "metadata": {},
   "outputs": [
    {
     "name": "stdout",
     "output_type": "stream",
     "text": [
      "66121\n",
      "66140\n",
      "root       66120  0.0  0.0  12748  3052 ?        S    Nov03   0:00 su \u001b[01;31m\u001b[Kwangyang\u001b[m\u001b[K\n",
      "\u001b[01;31m\u001b[Kwangyang\u001b[m\u001b[K   66121  0.0  0.0  10836  4512 ?        S    Nov03   0:00 bash\n",
      "root     3065185  0.0  0.0  10760  2468 pts/4    S+   10:22   0:00 grep --color=auto \u001b[01;31m\u001b[Kwangyang\u001b[m\u001b[K\n"
     ]
    }
   ],
   "source": [
    "pgrep -U wangyang\n",
    "ps aux | grep \"wangyang\""
   ]
  },
  {
   "cell_type": "code",
   "execution_count": 81,
   "metadata": {},
   "outputs": [
    {
     "name": "stdout",
     "output_type": "stream",
     "text": [
      "748 nginx: master process /usr/sbin/nginx -g daemon on; master_process on;\n",
      "749 nginx: worker process                           \n",
      "750 nginx: worker process                           \n"
     ]
    }
   ],
   "source": [
    "pgrep -a nginx"
   ]
  },
  {
   "cell_type": "code",
   "execution_count": 85,
   "metadata": {},
   "outputs": [
    {
     "name": "stdout",
     "output_type": "stream",
     "text": [
      "664\n"
     ]
    }
   ],
   "source": [
    "pidof sshd # 获取进程id\n",
    "\n",
    "\n",
    "\tProcessing done in User Mode\n",
    "sy\tProcessing done in System/Kernel Mode\n",
    "ni\tTime Spent on “Nice” Processes\n",
    "id\tTime Spent Idle\n",
    "wa\tWaiting for a I/O Process to Complete\n",
    "hi\tTime Spent Due to Hardware Interrupts\n",
    "si\tTime Spent Due to Software Interrupts\n",
    "st\tTime “Stolen” by Virtual Machine Resources"
   ]
  },
  {
   "cell_type": "markdown",
   "metadata": {},
   "source": [
    "#### top\n",
    "1. 第一行\n",
    "    + 10:08:45 — 当前系统时间\n",
    "    + 10 days, 3:05 — 系统已经运行了10天3小时5分钟（在这期间没有重启过）\n",
    "    + 1 users — 当前有1个用户登录系统\n",
    "    + load average: 0.00, 0.00, 0.00 — load average后面的三个数分别是1分钟、5分钟、15分钟的负载情况。\n",
    "    >load average数据是每隔5秒钟检查一次活跃的进程数，然后按特定算法计算出的数值。如果这个数除以逻辑CPU的数量，结果高于5的时候就表明系统在超负荷运转了。\n",
    "\n",
    "2. 第二行：\n",
    "    + 系统现在共有135个进程\n",
    "    + 其中处于运行中的有1个\n",
    "    + 134个在休眠（sleep）\n",
    "    + stoped状态的有0个，\n",
    "    + zombie状态（僵尸）的有0个。\n",
    "3. 第三行\n",
    "    + 0.3% us (user space)— 用户空间占用CPU的百分比。\n",
    "    + 0.0% sy (system space)— 内核空间占用CPU的百分比。\n",
    "    + 0.0% ni (nice)— 改变过优先级的进程占用CPU的百分比\n",
    "    + 99.7% id (idel)— 空闲CPU百分比\n",
    "    + 0.0% wa (wait)— IO等待占用CPU的百分比\n",
    "    + 0.0% hi (hardware interrupts)— 硬中断（Hardware IRQ）占用CPU的百分比\n",
    "    + 0.0% si — 软中断（Software Interrupts）占用CPU的百分比\n",
    "    + cs:context 进程切换\n",
    "4. menu\n",
    "    + PID — 进程id\n",
    "    + USER — 进程所有者\n",
    "    + PR — 进程优先级\n",
    "    + NI — nice值。负值表示高优先级，正值表示低优先级\n",
    "    + VIRT — 进程使用的虚拟内存总量，单位kb。VIRT=SWAP+RES\n",
    "    + RES — 进程使用的、未被换出的物理内存大小，单位kb。RES=CODE+DATA\n",
    "    + SHR — 共享内存大小，单位kb\n",
    "    + S — 进程状态。D=不可中断的睡眠状态 R=运行 S=睡眠 T=跟踪/停止 Z=僵尸进程\n",
    "    + %CPU — 上次更新到现在的CPU时间占用百分比\n",
    "    + %MEM — 进程使用的物理内存百分比\n",
    "    + TIME+ — 进程使用的CPU时间总计，单位1/100秒\n",
    "    + COMMAND — 进程名称（命令名/命令行）\n",
    "5. 操作\n",
    "    + `1`查看每个逻辑cpu状况\n",
    "    + 排序\n",
    "        + `P` CPU白百分比占用排序\n",
    "        + `M` 以占用内存百分比排序\n",
    "        + `T` 占用CPU时间排序\n",
    "    + l、t、m\n",
    "    + 选项\n",
    "        + `-d` 指定刷新时间\n",
    "        + `-k` 杀死进程"
   ]
  },
  {
   "cell_type": "code",
   "execution_count": 87,
   "metadata": {},
   "outputs": [
    {
     "name": "stdout",
     "output_type": "stream",
     "text": [
      " 10:33:17 up 5 days, 16:11,  0 users,  load average: 0.00, 0.00, 0.00\n"
     ]
    }
   ],
   "source": [
    "uptime # 时间，运行时长，用户，运行负载"
   ]
  },
  {
   "cell_type": "code",
   "execution_count": 93,
   "metadata": {},
   "outputs": [
    {
     "name": "stdout",
     "output_type": "stream",
     "text": [
      "1\n",
      "cpu cores\t: 1\n",
      "2\n"
     ]
    }
   ],
   "source": [
    "#cat /proc/cpuinfo\n",
    "cat /proc/cpuinfo| grep \"physical id\"| sort| uniq| wc -l\n",
    "cat /proc/cpuinfo| grep \"cpu cores\"| uniq\n",
    "cat /proc/cpuinfo| grep \"processor\"| wc -l #简单来说，它可使处理器中的1颗内核，如2颗内核那样在操作系统中发挥作用\n"
   ]
  },
  {
   "cell_type": "markdown",
   "metadata": {},
   "source": [
    "### "
   ]
  }
 ],
 "metadata": {
  "kernelspec": {
   "display_name": "Bash",
   "language": "bash",
   "name": "bash"
  },
  "language_info": {
   "codemirror_mode": "shell",
   "file_extension": ".sh",
   "mimetype": "text/x-sh",
   "name": "bash"
  }
 },
 "nbformat": 4,
 "nbformat_minor": 4
}
