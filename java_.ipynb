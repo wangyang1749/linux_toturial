{
 "cells": [
  {
   "cell_type": "code",
   "execution_count": 41,
   "metadata": {},
   "outputs": [
    {
     "data": {
      "text/plain": [
       "1"
      ]
     },
     "execution_count": 41,
     "metadata": {},
     "output_type": "execute_result"
    }
   ],
   "source": [
    "// 二分查找法\n",
    "int BinarySearch(int a[],int b,int n){\n",
    "    int left=0,right=n-1;\n",
    "    while(left<=right){\n",
    "        int middle = (left+right)/2; //3\n",
    "        if(b<a[middle])\n",
    "            right=a[middle]-1;//[0,2]\n",
    "        else if(b>a[middle])\n",
    "            left=a[middle]+1;//[4,6]\n",
    "        else return middle;\n",
    "    }\n",
    "    return -1;\n",
    "}\n",
    "int a[]={1,2,3,4,5,6};\n",
    "BinarySearch(a,2,6);"
   ]
  },
  {
   "cell_type": "code",
   "execution_count": 45,
   "metadata": {},
   "outputs": [
    {
     "data": {
      "text/plain": [
       "1"
      ]
     },
     "execution_count": 45,
     "metadata": {},
     "output_type": "execute_result"
    }
   ],
   "source": [
    "import java.util.Arrays;\n",
    "Arrays.binarySearch(a,2);"
   ]
  },
  {
   "cell_type": "code",
   "execution_count": 50,
   "metadata": {},
   "outputs": [
    {
     "data": {
      "text/plain": [
       "1"
      ]
     },
     "execution_count": 50,
     "metadata": {},
     "output_type": "execute_result"
    }
   ],
   "source": [
    "//Recursive Binary Search\n",
    "int RecursiveBinarySearch(int a[],int b,int left,int right){\n",
    "    if(left<=right){\n",
    "        int middle = (left+right)/2; //3\n",
    "        if(b<a[middle])\n",
    "            return RecursiveBinarySearch(a,b,left,middle-1);\n",
    "        else if(b>a[middle])\n",
    "            return RecursiveBinarySearch(a,b,middle+1,right);\n",
    "        return middle;\n",
    "    }\n",
    "    return -1;\n",
    "}\n",
    "RecursiveBinarySearch(a,2,0,5);"
   ]
  }
 ],
 "metadata": {
  "kernelspec": {
   "display_name": "Java",
   "language": "java",
   "name": "java"
  },
  "language_info": {
   "codemirror_mode": "java",
   "file_extension": ".jshell",
   "mimetype": "text/x-java-source",
   "name": "Java",
   "pygments_lexer": "java",
   "version": "15.0.1+9-18"
  }
 },
 "nbformat": 4,
 "nbformat_minor": 4
}
