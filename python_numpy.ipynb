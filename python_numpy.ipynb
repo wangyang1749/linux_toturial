{
 "cells": [
  {
   "cell_type": "code",
   "execution_count": 2,
   "metadata": {},
   "outputs": [],
   "source": [
    "import numpy as np"
   ]
  },
  {
   "cell_type": "code",
   "execution_count": 3,
   "metadata": {},
   "outputs": [
    {
     "name": "stdout",
     "output_type": "stream",
     "text": [
      "[[1 2 3]\n",
      " [4 5 6]]\n",
      "number of dimation: 2\n",
      "shape :  (2, 3)\n",
      "size: 6\n"
     ]
    }
   ],
   "source": [
    "# numpy 的基本属性\n",
    "array = np.array([[1,2,3],\n",
    "                 [4,5,6]])\n",
    "print(array)\n",
    "print(\"number of dimation:\",array.ndim) # 维度\n",
    "print(\"shape : \",array.shape)\n",
    "print(\"size:\",array.size)"
   ]
  },
  {
   "cell_type": "code",
   "execution_count": 46,
   "metadata": {},
   "outputs": [
    {
     "name": "stdout",
     "output_type": "stream",
     "text": [
      "普通list [1, 2, 3]\n",
      "[1 2 3]\n",
      "int64\n",
      "[[2 3 4]\n",
      " [5 6 7]]\n",
      "[[0. 0. 0. 0.]\n",
      " [0. 0. 0. 0.]\n",
      " [0. 0. 0. 0.]]\n",
      "[[1 1 1 1]\n",
      " [1 1 1 1]\n",
      " [1 1 1 1]]\n",
      "[[0. 0. 0. 0.]\n",
      " [0. 0. 0. 0.]\n",
      " [0. 0. 0. 0.]]\n",
      "[10 12 14 16 18]\n",
      "[[ 0  1  2  3]\n",
      " [ 4  5  6  7]\n",
      " [ 8  9 10 11]]\n",
      "[ 1.    3.25  5.5   7.75 10.  ]\n",
      "[1 6]\n"
     ]
    }
   ],
   "source": [
    "# numpy 创建array\n",
    "print(\"普通list\",[1,2,3])\n",
    "a = np.array([1,2,3],dtype=np.int64) # int32 float64 float32\n",
    "print(a)\n",
    "print(a.dtype)\n",
    "\n",
    "b = np.array([[2,3,4],\n",
    "              [5,6,7]])\n",
    "print(b)\n",
    "\n",
    "b = np.zeros((3,4))\n",
    "print(b)\n",
    "b = np.ones((3,4),dtype=np.int16)\n",
    "print(b)\n",
    "b = np.empty((3,4))\n",
    "print(b)\n",
    "b = np.arange(10,20,2) # 10到20步长2\n",
    "print(b)\n",
    "b = np.arange(12).reshape((3,4))\n",
    "print(b)\n",
    "b = np.linspace(1,10,5) # 生成线段等差数列\n",
    "b_ = np.arange(1,10,5) # 10到20步长2\n",
    "print(b)\n",
    "print(b_)"
   ]
  },
  {
   "cell_type": "code",
   "execution_count": 70,
   "metadata": {},
   "outputs": [
    {
     "name": "stdout",
     "output_type": "stream",
     "text": [
      "[10 20 30 40]\n",
      "[0 1 2 3]\n",
      "[10 19 28 37]\n",
      "[10 21 32 43]\n",
      "[  0  20  60 120]\n",
      "[0 1 4 9]\n",
      "[-0.54402111  0.91294525 -0.98803162  0.74511316]\n",
      "[-0.83907153  0.40808206  0.15425145 -0.66693806]\n",
      "[ True  True  True False]\n",
      "-----------------------------------------------\n",
      "[[1 1]\n",
      " [0 1]]\n",
      "[[0 1]\n",
      " [2 3]]\n",
      "[[0 1]\n",
      " [0 3]]\n",
      "[[2 4]\n",
      " [2 3]]\n",
      "[[2 4]\n",
      " [2 3]]\n",
      "-----------------------------------------------\n",
      "[[0.3057611  0.17444766 0.96816085 0.78052589]\n",
      " [0.47594969 0.36139405 0.02871035 0.78417328]]\n",
      "3.8791228877622563\n",
      "0.028710353773197972\n",
      "0.9681608536458148\n",
      "[2.22889551 1.65022738]\n"
     ]
    }
   ],
   "source": [
    "# numpy 基础的运算1\n",
    "a = np.array([10,20,30,40])\n",
    "b = np.arange(4)\n",
    "print(a)\n",
    "print(b)\n",
    "print(a-b)\n",
    "print(a+b)\n",
    "print(a*b)\n",
    "print(b**2) # 平方\n",
    "print(np.sin(a)) # sin\n",
    "print(np.cos(a)) # sin\n",
    "print(b<3)\n",
    "\n",
    "print(\"-----------------------------------------------\")\n",
    "\n",
    "a = np.array([[1,1],\n",
    "              [0,1]])\n",
    "b = np.arange(4).reshape((2,2))\n",
    "print(a)\n",
    "print(b)\n",
    "print(a*b)\n",
    "print(np.dot(a,b))\n",
    "print(a.dot(b))\n",
    "\n",
    "print(\"-----------------------------------------------\")\n",
    "\n",
    "a = np.random.random((2,4)) # 0~1随机数字\n",
    "print(a)\n",
    "print(np.sum(a))\n",
    "print(np.min(a))\n",
    "print(np.max(a))\n",
    "print(np.sum(a,axis=1)) # axis=1 列中求和\n"
   ]
  },
  {
   "cell_type": "code",
   "execution_count": 5,
   "metadata": {},
   "outputs": [
    {
     "name": "stdout",
     "output_type": "stream",
     "text": [
      "[[14 13 12 11]\n",
      " [10  9  8  7]\n",
      " [ 6  5  4  3]]\n",
      "11\n",
      "0\n",
      "8.5\n",
      "8.5\n",
      "8.5\n",
      "8.5\n",
      "cumsum [ 14  27  39  50  60  69  77  84  90  95  99 102]\n",
      "diff [[-1 -1 -1]\n",
      " [-1 -1 -1]\n",
      " [-1 -1 -1]]\n",
      "nonzero (array([0, 0, 0, 0, 1, 1, 1, 1, 2, 2, 2, 2]), array([0, 1, 2, 3, 0, 1, 2, 3, 0, 1, 2, 3]))\n",
      "sort [[11 12 13 14]\n",
      " [ 7  8  9 10]\n",
      " [ 3  4  5  6]]\n",
      "[[14 10  6]\n",
      " [13  9  5]\n",
      " [12  8  4]\n",
      " [11  7  3]]\n",
      "[[14 10  6]\n",
      " [13  9  5]\n",
      " [12  8  4]\n",
      " [11  7  3]]\n",
      "[[332 302 272 242]\n",
      " [302 275 248 221]\n",
      " [272 248 224 200]\n",
      " [242 221 200 179]]\n",
      "[[9 9 9 9]\n",
      " [9 9 8 7]\n",
      " [6 5 5 5]]\n",
      "[10.  9.  8.  7.]\n"
     ]
    }
   ],
   "source": [
    "# numpy 基础的运算2\n",
    "A = np.arange(14,2,-1).reshape((3,4))\n",
    "print(A)\n",
    "print(np.argmin(A)) # 最小值的索引\n",
    "print(np.argmax(A)) # 最大值的索引\n",
    "print(np.mean(A))\n",
    "print(A.mean())\n",
    "print(np.average(A))\n",
    "print(np.median(A)) # 中位数\n",
    "print(\"cumsum\",np.cumsum(A)) # 累加\n",
    "print(\"diff\",np.diff(A)) # 累差\n",
    "print(\"nonzero\",np.nonzero(A)) # 累差\n",
    "print(\"sort\",np.sort(A)) # 累差\n",
    "print(np.transpose(A))\n",
    "print(A.T)\n",
    "print((A.T).dot(A))\n",
    "print(np.clip(A,5,9)) # 大于9的数字是9，小于5的是5\n",
    "print(np.mean(A,axis=0))"
   ]
  },
  {
   "cell_type": "code",
   "execution_count": 167,
   "metadata": {},
   "outputs": [
    {
     "name": "stdout",
     "output_type": "stream",
     "text": [
      "[[ 3  4  5  6]\n",
      " [ 7  8  9 10]\n",
      " [11 12 13 14]]\n",
      "12\n",
      "12\n",
      "[11 12 13 14]\n",
      "[ 5  9 13]\n",
      "[3 4 5 6]\n",
      "[ 7  8  9 10]\n",
      "[11 12 13 14]\n",
      "----------------------------------------------\n",
      "[ 3  7 11]\n",
      "[ 4  8 12]\n",
      "[ 5  9 13]\n",
      "[ 6 10 14]\n",
      "----------------------------------------------\n",
      "[ 3  4  5  6  7  8  9 10 11 12 13 14]\n",
      "3\n",
      "4\n",
      "5\n",
      "6\n",
      "7\n",
      "8\n",
      "9\n",
      "10\n",
      "11\n",
      "12\n",
      "13\n",
      "14\n"
     ]
    }
   ],
   "source": [
    "#### numpy 索引\n",
    "A = np.arange(3,15).reshape((3,4))\n",
    "print(A)\n",
    "print(A[2][1])\n",
    "print(A[2,1])\n",
    "print(A[2,:])\n",
    "print(A[:,2])\n",
    "\n",
    "for row in A:\n",
    "    print(row)\n",
    "print(\"----------------------------------------------\")\n",
    "for col in A.T:\n",
    "    print(col)\n",
    "    \n",
    "print(\"----------------------------------------------\")\n",
    "print(A.flatten())\n",
    "\n",
    "for item in A.flat:\n",
    "    print(item)"
   ]
  },
  {
   "cell_type": "code",
   "execution_count": 162,
   "metadata": {},
   "outputs": [
    {
     "name": "stdout",
     "output_type": "stream",
     "text": [
      "(3,)\n",
      "(2, 3)\n",
      "A.shape:\n",
      " (3,)\n",
      "C.shape:\n",
      " (6,)\n",
      "A.T:\n",
      " [1 1 1]\n",
      "A:\n",
      " [[1]\n",
      " [1]\n",
      " [1]]\n",
      "B:\n",
      " [[2]\n",
      " [2]\n",
      " [2]]\n",
      "hstack\n",
      " [[1 2]\n",
      " [1 2]\n",
      " [1 2]]\n",
      "concatenate:\n",
      " [[1 2 2 1]\n",
      " [1 2 2 1]\n",
      " [1 2 2 1]]\n"
     ]
    }
   ],
   "source": [
    "# array 合并\n",
    "A = np.array([1,1,1])\n",
    "B = np.array([2,2,2])\n",
    "\n",
    "C = np.vstack((A,B))\n",
    "\n",
    "print(A.shape)\n",
    "print(C.shape)\n",
    "\n",
    "C = np.hstack((A,B))\n",
    "print(\"A.shape:\\n\",A.shape)\n",
    "print(\"C.shape:\\n\",C.shape)\n",
    "print(\"A.T:\\n\",A.T)\n",
    "A = A[:,np.newaxis]\n",
    "B = B[:,np.newaxis]\n",
    "print(\"A:\\n\",A) # 在行上添加维度\n",
    "print(\"B:\\n\",B) # 在列上添加维度\n",
    "print(\"hstack\\n\",np.hstack((A,B)))\n",
    "\n",
    "C = np.concatenate((A,B,B,A),axis=1)\n",
    "print(\"concatenate:\\n\",C)"
   ]
  },
  {
   "cell_type": "code",
   "execution_count": 163,
   "metadata": {},
   "outputs": [
    {
     "name": "stdout",
     "output_type": "stream",
     "text": [
      "[[ 0  1  2  3]\n",
      " [ 4  5  6  7]\n",
      " [ 8  9 10 11]]\n",
      "split:\n",
      " [array([[0, 1, 2, 3]]), array([[4, 5, 6, 7]]), array([[ 8,  9, 10, 11]])]\n",
      "array_split:\n",
      " [array([[0, 1],\n",
      "       [4, 5],\n",
      "       [8, 9]]), array([[ 2],\n",
      "       [ 6],\n",
      "       [10]]), array([[ 3],\n",
      "       [ 7],\n",
      "       [11]])]\n",
      "vsplit:\n",
      " [array([[0, 1, 2, 3]]), array([[4, 5, 6, 7]]), array([[ 8,  9, 10, 11]])]\n",
      "hsplit:\n",
      " [array([[0, 1],\n",
      "       [4, 5],\n",
      "       [8, 9]]), array([[ 2,  3],\n",
      "       [ 6,  7],\n",
      "       [10, 11]])]\n"
     ]
    }
   ],
   "source": [
    "# array 分割\n",
    "A = np.arange(12).reshape((3,4))\n",
    "print(A)\n",
    "print(\"split:\\n\",np.split(A,3,axis=0))\n",
    "print(\"array_split:\\n\",np.array_split(A,3,axis=1))\n",
    "print(\"vsplit:\\n\",np.vsplit(A,3))\n",
    "print(\"hsplit:\\n\",np.hsplit(A,2))\n"
   ]
  },
  {
   "cell_type": "code",
   "execution_count": 164,
   "metadata": {},
   "outputs": [
    {
     "name": "stdout",
     "output_type": "stream",
     "text": [
      "a: [8 1 2 3]\n",
      "b: [8 1 2 3]\n",
      "b is a: True\n",
      "a: [ 8 44 55  3]\n",
      "b: [8 1 2 3]\n"
     ]
    }
   ],
   "source": [
    "# array copy 和 deep copy\n",
    "a = np.arange(4)\n",
    "b=a\n",
    "a[0]=8\n",
    "print(\"a:\",a)\n",
    "print(\"b:\",b)\n",
    "print(\"b is a:\",b is a)\n",
    "b = a.copy()\n",
    "a[1:3] = [44,55]\n",
    "print(\"a:\",a)\n",
    "print(\"b:\",b)"
   ]
  }
 ],
 "metadata": {
  "kernelspec": {
   "display_name": "Python 3",
   "language": "python",
   "name": "python3"
  },
  "language_info": {
   "codemirror_mode": {
    "name": "ipython",
    "version": 3
   },
   "file_extension": ".py",
   "mimetype": "text/x-python",
   "name": "python",
   "nbconvert_exporter": "python",
   "pygments_lexer": "ipython3",
   "version": "3.8.3"
  }
 },
 "nbformat": 4,
 "nbformat_minor": 4
}
