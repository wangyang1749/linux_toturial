{
 "cells": [
  {
   "cell_type": "markdown",
   "metadata": {},
   "source": [
    "#### 基础命令\n",
    "1. tty\n",
    "2. \n",
    "\n",
    "#### 文本查看\n",
    "1. cat\n",
    "\n",
    "#### 文件管理\n",
    "1. cp\n",
    "\n",
    "#### linux根文件系统\n",
    "1. FHS 文件系统层级结构标准\n",
    "\n",
    "2. 目录说明\n",
    "\n",
    "```\n",
    "/\n",
    "├── bin -> usr/bin 所有用户可用的基本命令\n",
    "├── boot  引导加载器使用的静态文件：kernel，initramfs，grub\n",
    "├── dev 特殊文件或设备文件 [字符设备（线性设备）：键盘、显示屏] [块设备（随机设备）：硬盘]\n",
    "├── etc 配置文件\n",
    "├── home\n",
    "├── lib -> usr/lib\n",
    "├── lib32 -> usr/lib32\n",
    "├── lib64 -> usr/lib64\n",
    "├── libx32 -> usr/libx32\n",
    "├── lost+found\n",
    "├── media\n",
    "├── mnt\n",
    "├── opt\n",
    "├── proc 为内核及进程存储相关信息，多为内核参数，例如net.ipv4.ip_forward，虚拟为/net/ipv4/ip_forward，存储于/proc/sys/,因此其完整路径为/proc/sys/net/ipv4/ip_forward\n",
    "├── root\n",
    "├── run\n",
    "├── sbin -> usr/sbin 供系统管理使用的工具程序\n",
    "├── srv\n",
    "├── swapfile\n",
    "├── sys\n",
    "├── tmp\n",
    "├── usr shareable read-only data\n",
    "└── var 变化的数据文件\n",
    "```"
   ]
  },
  {
   "cell_type": "code",
   "execution_count": 14,
   "metadata": {},
   "outputs": [
    {
     "name": "stdout",
     "output_type": "stream",
     "text": [
      "total 4\n",
      "dr-xr-xr-x 146 root            root                          0 Oct 31 18:21 ./\n",
      "ls: write error: Broken pipe\n",
      "-------------------------################-------------------------\n",
      "-rw-r--r-- 1 root root 0 Nov  4 18:10 /proc/sys/net/ipv4/ip_forward\n",
      "-------------------------################-------------------------\n",
      "total 4\n",
      "dr-xr-xr-x  13 root root    0 Nov  1 02:21 ./\n"
     ]
    }
   ],
   "source": [
    "# tree -L 1 /\n",
    "ll /proc | head -n 2\n",
    "echo \"-------------------------################-------------------------\"\n",
    "ll /proc/sys/net/ipv4/ip_forward | head -n 2\n",
    "echo \"-------------------------################-------------------------\"\n",
    "ll /sys | head -n 2"
   ]
  },
  {
   "cell_type": "markdown",
   "metadata": {},
   "source": [
    "## \n",
    "#### 终端设备（硬件设备表示为文件）\n",
    "1. 物理终端：/dev/console\n",
    "2. 虚拟终端：/dev/tty#[1～6]\n",
    "3. 串行终端：/dev/ttyS#\n",
    "4. 伪终端：/dev/pts/#\n",
    "> 在启动设备之后，在其上关联一个用户接口程序，即可实现与用户交互"
   ]
  },
  {
   "cell_type": "code",
   "execution_count": 4,
   "metadata": {},
   "outputs": [
    {
     "name": "stdout",
     "output_type": "stream",
     "text": [
      "crw------- 1 root root 5, 1 Oct 31 18:22 \u001b[0m\u001b[40;33;01m/dev/console\u001b[0m\n"
     ]
    }
   ],
   "source": [
    "ll /dev/console"
   ]
  },
  {
   "cell_type": "code",
   "execution_count": 8,
   "metadata": {},
   "outputs": [
    {
     "name": "stdout",
     "output_type": "stream",
     "text": [
      "/dev/pts/6\n"
     ]
    }
   ],
   "source": [
    "tty # 显示当前终端"
   ]
  },
  {
   "cell_type": "code",
   "execution_count": 12,
   "metadata": {},
   "outputs": [
    {
     "name": "stdout",
     "output_type": "stream",
     "text": [
      "/bin/bash\n"
     ]
    }
   ],
   "source": [
    "echo $SHELL # 显示当前SHELL接口程序"
   ]
  },
  {
   "cell_type": "markdown",
   "metadata": {},
   "source": [
    "#### IO重定向\n",
    "1. `>` 覆盖输出重定向\n",
    "2. `>>` 追加输出重定向\n",
    "3. `2>`/`2>>`错误输出重定向\n",
    "    + cat 2> a.out\n",
    "4. `&>`/`&>>` 合并错误输出流和正确输出流\n",
    "    + cat /xxx/xx >> /tmp/xx 2>&1\n",
    "5. `cat > a.txt <<END xxx END` Here Document\n",
    "6. `tr [a-z] [A-Z] < /xxx` 将xxx中的小写转换为大写\n",
    "7. `tr -d [abc] < /xxx` 删除xxx中的abc字符\n",
    "8. 特殊设备`/dev/null`, 将数据丢弃"
   ]
  },
  {
   "cell_type": "code",
   "execution_count": 22,
   "metadata": {},
   "outputs": [
    {
     "name": "stdout",
     "output_type": "stream",
     "text": [
      "hello word\n"
     ]
    }
   ],
   "source": [
    "# 将'hello word'输出到/dev/pts/6\n",
    "echo \"hello word\" > `tty` #/dev/pts/6 "
   ]
  },
  {
   "cell_type": "markdown",
   "metadata": {},
   "source": [
    "#### bash特殊符号"
   ]
  },
  {
   "cell_type": "code",
   "execution_count": 3,
   "metadata": {},
   "outputs": [
    {
     "name": "stdout",
     "output_type": "stream",
     "text": [
      "bash_basic.ipynb  network.ipynb  tty  user_group.ipynb\n",
      "0\n"
     ]
    }
   ],
   "source": [
    "ls\n",
    "echo $? # 命令执行完之后返回值"
   ]
  },
  {
   "cell_type": "code",
   "execution_count": 4,
   "metadata": {},
   "outputs": [],
   "source": [
    "cd /tmp\n",
    "tr "
   ]
  },
  {
   "cell_type": "markdown",
   "metadata": {},
   "source": [
    "#### 管道\n",
    "1. COMMAND1 | COMMEND2 | COMMEND3| .."
   ]
  },
  {
   "cell_type": "code",
   "execution_count": 16,
   "metadata": {},
   "outputs": [
    {
     "name": "stdout",
     "output_type": "stream",
     "text": [
      "ABCD1234\n",
      "\n"
     ]
    }
   ],
   "source": [
    "echo \"abcd1234\" > a.txt\n",
    "cat a.txt | tr [a-z] [A-Z] # 将abcd转换为大写 \n",
    "rm a.txt\n",
    "ls -l"
   ]
  },
  {
   "cell_type": "code",
   "execution_count": 21,
   "metadata": {},
   "outputs": [
    {
     "name": "stdout",
     "output_type": "stream",
     "text": [
      "ABCD1234\n",
      "total 20\n",
      "-rw-r--r-- 1 root root 3643 Nov  4 16:49 bash_basic.ipynb\n",
      "-rw-r--r-- 1 root root  410 Nov  4 10:26 network.ipynb\n",
      "-rw-r--r-- 1 root root   11 Nov  4 15:58 tty\n",
      "-rw-r--r-- 1 root root 6294 Nov  4 09:30 user_group.ipynb\n"
     ]
    }
   ],
   "source": [
    "echo \"abcd1234\" > a.txt\n",
    "cat a.txt | tee b.txt | tr [a-z] [A-Z] # tee 保存原始数据到 b.txt\n",
    "rm a.txt b.txt\n",
    "ls -l"
   ]
  }
 ],
 "metadata": {
  "kernelspec": {
   "display_name": "Bash",
   "language": "bash",
   "name": "bash"
  },
  "language_info": {
   "codemirror_mode": "shell",
   "file_extension": ".sh",
   "mimetype": "text/x-sh",
   "name": "bash"
  }
 },
 "nbformat": 4,
 "nbformat_minor": 4
}
