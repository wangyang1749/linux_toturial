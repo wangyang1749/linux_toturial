{
 "cells": [
  {
   "cell_type": "markdown",
   "metadata": {},
   "source": [
    "## 面向对象编程"
   ]
  },
  {
   "cell_type": "markdown",
   "metadata": {},
   "source": [
    "id(1) # 1 是一个数据对象\n",
    "type(1)\n",
    "dir(1)[:5] # c查看属性和方法\n",
    "\n",
    "id(\"a\")\n",
    "type(\"a\")\n",
    "dir(\"a\")[:5]\n",
    "\n",
    "abs(-1) # 函数也是对象\n",
    "type(abs)\n",
    "dir(abs)[:5]\n",
    "\n",
    "\"abc\".upper()\n",
    "\n",
    "(1+2j).real\n",
    "(1+2j).imag"
   ]
  },
  {
   "cell_type": "markdown",
   "metadata": {},
   "source": [
    "## 类的定义与调用\n",
    "\n",
    "```\n",
    "class <name>:\n",
    "    def __init__(self,<args>):\n",
    "    def <name>(self,<args>)\n",
    "```\n"
   ]
  },
  {
   "cell_type": "code",
   "execution_count": 29,
   "metadata": {},
   "outputs": [
    {
     "name": "stdout",
     "output_type": "stream",
     "text": [
      "Force<0, 1>\n",
      "Force<3, 5>\n"
     ]
    }
   ],
   "source": [
    "class Force:\n",
    "    def __init__(self, x, y):\n",
    "        self.fx, self.fy = x, y \n",
    "        \n",
    "    def show(self):\n",
    "        print(\"Force<%s, %s>\" % (self.fx, self.fy))\n",
    "    \n",
    "    def add(self, force2): # 与另一个力合力\n",
    "        x = self.fx + force2.fx\n",
    "        y = self.fy + force2.fy\n",
    "        return Force(x, y)\n",
    "\n",
    "f1 = Force(0,1)\n",
    "f1.show()\n",
    "\n",
    "f2 = Force(3,4)\n",
    "f3 = f1.add(f2)\n",
    "f3.show()\n",
    "            \n"
   ]
  },
  {
   "cell_type": "markdown",
   "metadata": {},
   "source": [
    "## 类定义中中的特殊方法\n",
    "1. `__add__(self,other)` -> `+`\n",
    "2. `__sub__(self,other)` -> `-`\n",
    "3. `__mul__(self,other)` -> `*`\n",
    "4. `__div__(self,other)` -> `/`\n",
    "5. `__radd__(self,other)` 自己作为右操作符\n",
    "6. `__eq__(self,other)` -> `==` equal\n",
    "7. `__ne__(self,other)` -> `!=` not equal\n",
    "8. `__lt__(self,other)` -> `<` less than\n",
    "9. `__gt__(self,other)` -> `>` greater than\n",
    "10. `__le__(self,other)` -> `<=` less than and equal\n",
    "11. `__ge__(self,other)` -> `>=` "
   ]
  },
  {
   "cell_type": "code",
   "execution_count": 75,
   "metadata": {},
   "outputs": [
    {
     "name": "stdout",
     "output_type": "stream",
     "text": [
      "open file!\n",
      "close file!\n"
     ]
    }
   ],
   "source": [
    "from os.path import join\n",
    "class FileObject:\n",
    "    def __init__(self, filepath=\"/root/linux_tutorial\", filename=\"smaple.tmp\"):\n",
    "        print(\"open file!\")\n",
    "        self.file = open(join(filepath,filename),\"w\")\n",
    "    \n",
    "    def __del__(self):\n",
    "        print(\"close file!\")\n",
    "        self.file.close()\n",
    "        del self.file\n",
    "            \n",
    "file1 = FileObject()\n",
    "del file1        "
   ]
  },
  {
   "cell_type": "code",
   "execution_count": 82,
   "metadata": {},
   "outputs": [
    {
     "name": "stdout",
     "output_type": "stream",
     "text": [
      "Force<0, 1>\n",
      "Force<3, 5>\n",
      "Force<0, 1>==Force<3, 4> -> False\n"
     ]
    }
   ],
   "source": [
    "class Force:\n",
    "    def __init__(self, x, y):\n",
    "        self.fx, self.fy = x, y \n",
    "        \n",
    "    def show(self):\n",
    "        print(\"Force<%s, %s>\" % (self.fx, self.fy))\n",
    "    \n",
    "    def add(self, force2): # 与另一个力合力\n",
    "        x = self.fx + force2.fx\n",
    "        y = self.fy + force2.fy\n",
    "        return Force(x, y)\n",
    "    \n",
    "    __add__ = add\n",
    "    \n",
    "    def __str__(self):\n",
    "            return \"Force<%s, %s>\" % (self.fx, self.fy)\n",
    "    def __eq__(self,force2):\n",
    "        return (self.fx == force2.fx) and (self.fy == force2.fy)\n",
    "    \n",
    "f1 = Force(0,1)\n",
    "f1.show()\n",
    "\n",
    "f2 = Force(3,4)\n",
    "#f3 = f1.add(f2)\n",
    "f3 = f1 + f2\n",
    "#f3.show()\n",
    "print(f3)           \n",
    "print(\"%s==%s -> %s\" % (f1,f2,f1==f2))\n"
   ]
  },
  {
   "cell_type": "markdown",
   "metadata": {},
   "source": [
    "### 自定义对象排序\n",
    "1. `__lt__`"
   ]
  },
  {
   "cell_type": "code",
   "execution_count": 101,
   "metadata": {},
   "outputs": [
    {
     "name": "stdout",
     "output_type": "stream",
     "text": [
      "[(ww,16), (wk,15), (zs,12), (li,7)]\n"
     ]
    },
    {
     "data": {
      "text/plain": [
       "[(li,7), (zs,12), (wk,15), (ww,16)]"
      ]
     },
     "execution_count": 101,
     "metadata": {},
     "output_type": "execute_result"
    }
   ],
   "source": [
    "num = [5,3,4,6,2]\n",
    "num.sort(reverse=True)\n",
    "num\n",
    "\n",
    "sorted(num) # 返回排序的副本，不改变原来列表\n",
    "\n",
    "class Student:\n",
    "        def __init__(self, name, grade):\n",
    "            self.name, self.grade = name,grade\n",
    "        def __lt__(self,other):\n",
    "            return self.grade < other.grade\n",
    "        def __str__(self):\n",
    "                return \"(%s,%s)\" % (self.name, self.grade)\n",
    "        __repr__ = __str__\n",
    "        \n",
    "s = list()\n",
    "s.append(Student(\"zs\",12))\n",
    "s.append(Student(\"li\",7))\n",
    "s.append(Student(\"ww\",16))\n",
    "s.append(Student(\"wk\",15))\n",
    "\n",
    "s.sort(reverse = True)\n",
    "\n",
    "print(s)\n",
    "\n",
    "sorted(s)\n"
   ]
  },
  {
   "cell_type": "markdown",
   "metadata": {},
   "source": [
    "### 类的继承\n",
    "```\n",
    "class <child_name> (<father_name>)\n",
    "    def <override>)(self,...)\n",
    "```\n",
    "1. override的子类调研父类method`super().Method_name()`\n",
    "2. self 代表对象实例\n",
    "```\n",
    "<object>.<method>(<args>)\n",
    "<class>.<method>(<object>,<args>)\n",
    "```"
   ]
  },
  {
   "cell_type": "code",
   "execution_count": 6,
   "metadata": {},
   "outputs": [
    {
     "name": "stdout",
     "output_type": "stream",
     "text": [
      "BMW:run 200 miles!\n",
      "BMW:run 100 miles!\n",
      "Tesla:run 100 miles!\n",
      "Tesla:fuel out!\n",
      "BMW:fuel out!\n"
     ]
    }
   ],
   "source": [
    "class Car:\n",
    "    def __init__(self,name):\n",
    "        self.name = name\n",
    "        self.remain_mile = 0\n",
    "    def fill_fuel(self,miles):\n",
    "        self.remain_mile = miles\n",
    "    def run(self,miles):\n",
    "        print(self.name,end=\":\")\n",
    "        if self.remain_mile >= miles:\n",
    "            self.remain_mile -= miles\n",
    "            print(\"run %d miles!\" % (miles))\n",
    "        else:\n",
    "            print(\"fuel out!\")\n",
    "class GasCar(Car):\n",
    "    def __init__(self,name,capacity):\n",
    "        super().__init__(name)\n",
    "        self.capaciry = capacity\n",
    "    def fill_fuel(self,gas): # 加汽油gas升]\n",
    "        self.remain_mile = gas * 6.0 # 每升考6公里\n",
    "class ElecCar(Car):\n",
    "    def fill_fuel(self,power): # 充电power度\n",
    "        self.remain_mile = power * 3.0 # 每度电3公里\n",
    "        \n",
    "gcar = GasCar(\"BMW\",50)\n",
    "gcar.fill_fuel(50.0)\n",
    "gcar.run(200.0)\n",
    "GasCar.run(gcar,100.0)\n",
    "\n",
    "ecar = ElecCar(\"Tesla\")\n",
    "ecar.fill_fuel(60.0)\n",
    "ecar.run(100.0)\n",
    "ElecCar.run(ecar,100)\n",
    "\n",
    "\n",
    "def test(arg):\n",
    "    arg.run(60)\n",
    "\n",
    "test(gcar)"
   ]
  },
  {
   "cell_type": "code",
   "execution_count": 22,
   "metadata": {},
   "outputs": [
    {
     "name": "stdout",
     "output_type": "stream",
     "text": [
      "Help on class GasCar in module __main__:\n",
      "\n",
      "class GasCar(Car)\n",
      " |  GasCar(name, capacity)\n",
      " |  \n",
      " |  Method resolution order:\n",
      " |      GasCar\n",
      " |      Car\n",
      " |      builtins.object\n",
      " |  \n",
      " |  Methods defined here:\n",
      " |  \n",
      " |  __init__(self, name, capacity)\n",
      " |      Initialize self.  See help(type(self)) for accurate signature.\n",
      " |  \n",
      " |  fill_fuel(self, gas)\n",
      " |  \n",
      " |  ----------------------------------------------------------------------\n",
      " |  Methods inherited from Car:\n",
      " |  \n",
      " |  run(self, miles)\n",
      " |  \n",
      " |  ----------------------------------------------------------------------\n",
      " |  Data descriptors inherited from Car:\n",
      " |  \n",
      " |  __dict__\n",
      " |      dictionary for instance variables (if defined)\n",
      " |  \n",
      " |  __weakref__\n",
      " |      list of weak references to the object (if defined)\n",
      "\n"
     ]
    }
   ],
   "source": [
    "a = GasCar(\"aaa\",90)\n",
    "type(a)\n",
    "#print(GasCar.__doc__)\n",
    "help(GasCar)"
   ]
  },
  {
   "cell_type": "markdown",
   "metadata": {},
   "source": [
    "### 例外处理 \n",
    "1. `try-expect`\n",
    "```\n",
    "try:\n",
    "    <do something>\n",
    "expect <error type> [as e]:\n",
    "    <deal>\n",
    "```\n",
    "\n",
    "2. `try-finally`\n",
    "```\n",
    "try:\n",
    "    <do something>\n",
    "expect <error type> [as e]:\n",
    "    <deal>\n",
    "finally:\n",
    "    <do something>\n",
    "```\n",
    "\n",
    "3. `try-else`\n",
    "```\n",
    "try:\n",
    "    <do something>\n",
    "expect <error type> [as e]:\n",
    "    <deal>\n",
    "else:\n",
    "    <no error do something>\n",
    "```"
   ]
  },
  {
   "cell_type": "code",
   "execution_count": 128,
   "metadata": {},
   "outputs": [],
   "source": [
    "try:\n",
    "    1/0\n",
    "except :\n",
    "    pass"
   ]
  },
  {
   "cell_type": "code",
   "execution_count": 138,
   "metadata": {},
   "outputs": [
    {
     "name": "stdout",
     "output_type": "stream",
     "text": [
      "division by zero\n",
      "finally\n"
     ]
    }
   ],
   "source": [
    "try:\n",
    "    1/0\n",
    "except ZeroDivisionError as e:\n",
    "    print(e)\n",
    "else:\n",
    "    print(\"else\")\n",
    "finally:\n",
    "    print(\"finally\")"
   ]
  },
  {
   "cell_type": "markdown",
   "metadata": {},
   "source": [
    "### 推导式\n",
    "1. list `[<expression> for <var> in <iterable_obj> if <condition>]`\n",
    "2. dict `{<key expression> : <value experssion> for <var> in <iterable_obj> if <condition>}`\n",
    "3. 生成器推导式 `(<expression> for <var> in <iterable_obj> if <condition>])`\n",
    "    + 返回一个生成器对象，也是可以迭代的\n",
    "    + 但生成器并不会立即产生全部元素，仅在要用到元素的时候才生产，可以极大节省内存"
   ]
  },
  {
   "cell_type": "code",
   "execution_count": 150,
   "metadata": {},
   "outputs": [
    {
     "name": "stdout",
     "output_type": "stream",
     "text": [
      "[2, 4, 6, 8, 10, 12]\n",
      "[0, 4, 8, 12, 16]\n",
      "{'k0': 0, 'k1': 2, 'k2': 4, 'k3': 6, 'k4': 8, 'k5': 10, 'k6': 12, 'k7': 14, 'k8': 16, 'k9': 18}\n",
      "{0, 1, 64, 4, 36, 9, 16, 49, 81, 25}\n",
      "{1, 2, 3, 4, 5, 6, 7, 8, 9, 10, 11, 12, 13, 14, 15, 16, 17}\n"
     ]
    }
   ],
   "source": [
    "nums = [1,2,3,4,5,6]\n",
    "print([x*2 for x in nums])\n",
    "print([x*2 for x in range(10) if x%2==0])\n",
    "print({\"k%d\"%(x,):x*2 for x in range(10)})\n",
    "print({x*x for x in range(10)})\n",
    "print({x+y for x in range(10) for y in range(x)})"
   ]
  },
  {
   "cell_type": "code",
   "execution_count": 168,
   "metadata": {
    "collapsed": true,
    "jupyter": {
     "outputs_hidden": true
    }
   },
   "outputs": [
    {
     "name": "stdout",
     "output_type": "stream",
     "text": [
      "<class 'list'>\n",
      "<class 'generator'>\n",
      "[0, 1, 4, 9, 16, 25, 36, 49, 64, 81]\n",
      "<generator object <genexpr> at 0x7f5758e48200>\n",
      "[0, 1, 4, 9, 16, 25, 36, 49, 64, 81]\n",
      "[]\n"
     ]
    }
   ],
   "source": [
    "agen1 =  [x*x for x in range(10)]\n",
    "agen2 =  (x*x for x in range(10))\n",
    "print(type(agen1))\n",
    "print(type(agen2))\n",
    "print(agen1)\n",
    "print(agen2)\n",
    "print(list(agen2))\n",
    "for i in agen2:\n",
    "    # print(i)\n",
    "    pass\n",
    "print(list(agen2))"
   ]
  },
  {
   "cell_type": "markdown",
   "metadata": {},
   "source": [
    "### 生成器函数 generator\n",
    "1. 使用generator可以迭代庞大的序列，而且不需要在内存中存储整个序列\n",
    "2. 生成器函数与普通函数相同，只是将return换成yield\n",
    "3. yield与return区别\n",
    "    + yield 立即返回一个值；下一次调用（下一次迭代）生成器函数时，从yield后面的语句执行，直到再次yield返回或终止\n",
    "    + return 终止函数执行，下次调用重新执行函数\n",
    "    + 可以运行独立的函数调用，函数可以暂停或挂起，并在需要的时候从离开的地方继续或重新开始"
   ]
  },
  {
   "cell_type": "code",
   "execution_count": 1,
   "metadata": {},
   "outputs": [
    {
     "name": "stdout",
     "output_type": "stream",
     "text": [
      "0\n",
      "2\n",
      "4\n",
      "6\n",
      "8\n",
      "[]\n"
     ]
    }
   ],
   "source": [
    "def even_number(max):\n",
    "    n = 0\n",
    "    while n < max:\n",
    "        yield n\n",
    "        n += 2\n",
    "g1 = even_number(10)\n",
    "for i in g1:\n",
    "    print(i)\n",
    "print(list(g1)) # 生成完成，在取不会有值    "
   ]
  },
  {
   "cell_type": "code",
   "execution_count": null,
   "metadata": {},
   "outputs": [],
   "source": []
  },
  {
   "cell_type": "code",
   "execution_count": null,
   "metadata": {},
   "outputs": [],
   "source": []
  }
 ],
 "metadata": {
  "kernelspec": {
   "display_name": "Python 3",
   "language": "python",
   "name": "python3"
  },
  "language_info": {
   "codemirror_mode": {
    "name": "ipython",
    "version": 3
   },
   "file_extension": ".py",
   "mimetype": "text/x-python",
   "name": "python",
   "nbconvert_exporter": "python",
   "pygments_lexer": "ipython3",
   "version": "3.8.3"
  }
 },
 "nbformat": 4,
 "nbformat_minor": 4
}
